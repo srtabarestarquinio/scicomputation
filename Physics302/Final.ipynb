{
 "cells": [
  {
   "cell_type": "markdown",
   "metadata": {},
   "source": [
    "# Artificial Neural Network Alak Player\n",
    "### Suchitoto Rose Tabares-Tarquinio     \n",
    "### PHYS 302 - Scientific Computation and Machine Learning - Final Project"
   ]
  },
  {
   "cell_type": "markdown",
   "metadata": {},
   "source": [
    "#### The purpose of this project is to build an artificial neural network (ANN) algorithm to play the one-dimensional version of the ancient board game Go, or Alak."
   ]
  },
  {
   "cell_type": "code",
   "execution_count": 2,
   "metadata": {},
   "outputs": [],
   "source": [
    "%matplotlib widget\n",
    "# All imports\n",
    "from random import choice\n",
    "import numpy as np\n",
    "import matplotlib.pyplot as plt\n",
    "#to make sure variables are seperate entities\n",
    "from copy import copy\n",
    "\n",
    "from sklearn.neural_network import MLPRegressor, MLPClassifier\n",
    "from sklearn.model_selection import train_test_split\n",
    "\n",
    "from time import time\n",
    "from sklearn.metrics import classification_report, confusion_matrix\n",
    "\n",
    "import pickle\n",
    "import random\n",
    "\n",
    "from colorama import Fore, Back, Style\n",
    "\n",
    "np.set_printoptions(formatter={'float': '{:.0f}'.format})"
   ]
  },
  {
   "cell_type": "markdown",
   "metadata": {},
   "source": [
    "### I. Simulating Alan\n",
    "1. Randomly generate the next legal move\n",
    "2. Add tests (see below) for checking capture\n",
    "3. Decide if any pieces need to be removed from the board\n",
    "4. The opposite side makes its move\n",
    "5. Repeat until one side wins (the other side should have zero or one piece on the board)\n",
    "6. Save all the rounds (each round consists of two moves, one by each side) of the simulated game in a pickle file."
   ]
  },
  {
   "cell_type": "code",
   "execution_count": null,
   "metadata": {},
   "outputs": [],
   "source": []
  },
  {
   "cell_type": "code",
   "execution_count": 18,
   "metadata": {},
   "outputs": [],
   "source": [
    "class Alak():\n",
    "    \n",
    "    def __init__(self, show_mv=True, side = 'x', player1 = 'random', player2 = 'random'):\n",
    "        '''\n",
    "            Constructor for class \n",
    "        '''            \n",
    "        self.board = list(\"xxxx__oooo\")\n",
    "        self.tempBoard = self.board.copy()\n",
    "        \n",
    "        self.indices = '0123456789'\n",
    " \n",
    "        self.show_mv = show_mv\n",
    "        \n",
    "        self.player1 = player1\n",
    "        self.player2 = player2\n",
    "        \n",
    "        \n",
    "        self.suicide = False\n",
    "        self.o_won = False\n",
    "        \n",
    "        self.from_ = 0\n",
    "        self.to_ = 0\n",
    "        \n",
    "        self.moves = 0\n",
    "        self.rounds = 0\n",
    "        \n",
    "        self.X = []\n",
    "        self.temp_a = []\n",
    "        self.temp_b = []\n",
    "        self.y = []\n",
    "        \n",
    "        self.turn = side\n",
    "        self.side = side\n",
    "        \n",
    "        self.probscore = 0\n",
    "    \n",
    "    def set_board(self, board):\n",
    "        self.board = board\n",
    "        self.tempBoard = self.board.copy()\n",
    "        \n",
    "    def savedRounds(self):\n",
    "        # x = 1, o = 0, _ = -1\n",
    "        if self.moves%2==0:\n",
    "            for i in range(len(self.board)):\n",
    "                if(self.board[i]=='x'):\n",
    "                    self.temp_a.append(1)\n",
    "                elif(self.board[i]=='o'):\n",
    "                    self.temp_a.append(0)\n",
    "                else:\n",
    "                    self.temp_a.append(-1)\n",
    "        else:\n",
    "            for i in range(len(self.board)):\n",
    "                if(self.board[i]=='x'):\n",
    "                    self.temp_b.append(1)\n",
    "                elif(self.board[i]=='o'):\n",
    "                    self.temp_b.append(0)\n",
    "                else:\n",
    "                    self.temp_b.append(-1)\n",
    "            if self.moves == 1:\n",
    "                self.X = np.concatenate((self.temp_a, self.temp_b))\n",
    "            else:\n",
    "                self.X = np.vstack((self.X,  np.concatenate((self.temp_a, self.temp_b))  ))\n",
    "\n",
    "            self.temp_a = []\n",
    "            self.temp_b = []\n",
    "        \n",
    "            \n",
    "        \n",
    "    def check_suicide(self, turn, antiturn, board):\n",
    "        flag = 'false'\n",
    "        for i in range(len(board)-1):\n",
    "            if board[i] == turn and board[i+1]==antiturn:\n",
    "                for j in range(i+1, len(board)):\n",
    "                    if board[j] == turn:\n",
    "                        return 'false'\n",
    "                    elif board[j] == '_':\n",
    "                        break\n",
    "                    else:\n",
    "                        flag = 'true'\n",
    "\n",
    "        return flag\n",
    "        \n",
    "    def kill(self, idx_to_kill):\n",
    "        for i in idx_to_kill:\n",
    "            self.board[i] = '_'\n",
    "        print('Board: ', ''.join(self.board), '\\n        '+ self.indices)\n",
    "    \n",
    "    def check_kill(self, turn, board):\n",
    "        idx_to_kill = []\n",
    "        if turn == 'x':\n",
    "            antiturn = 'o'\n",
    "        else:\n",
    "            antiturn = 'x'\n",
    "\n",
    "        if(self.check_suicide(turn, antiturn, board)=='true'):\n",
    "            temp = turn\n",
    "            turn = antiturn\n",
    "            antiturn = temp\n",
    "            \n",
    "        for i in range(len(board)-1):\n",
    "            if board[i] == turn and board[i+1]==antiturn:\n",
    "                for j in range(i+1, len(board)):\n",
    "                    if board[j] == turn:\n",
    "                        for k in range(i+1, j):\n",
    "                            if board[k] == '_':\n",
    "                                for h in range(i+1, k):\n",
    "#                                     print('h to remove: ', h)\n",
    "                                    idx_to_kill.remove(h)\n",
    "                                break\n",
    "# #                                 idx_to_kill.clear()\n",
    "                            else:\n",
    "                                idx_to_kill.append(k)\n",
    "                        break\n",
    "\n",
    "        return idx_to_kill\n",
    "    \n",
    "    def check_capture(self, turntemp, verbose):\n",
    "        a = self.check_kill(turntemp, self.board)\n",
    "        self.kill(a)\n",
    "    \n",
    "    def tempMove(self):\n",
    "        piece = self.tempBoard[self.from_]\n",
    "        self.tempBoard[self.from_] = '_'\n",
    "        self.tempBoard[self.to_] = piece\n",
    "        \n",
    "    def move(self):\n",
    "        print('\\n')\n",
    "        print('Board: ', ''.join(self.board), '\\n        '+ self.indices)\n",
    "        if(self.board[self.from_]=='x'):\n",
    "            turn = 'x'\n",
    "        else:\n",
    "            turn = 'o'\n",
    "\n",
    "        piece = self.board[self.from_]\n",
    "        self.board[self.from_] = '_'\n",
    "        self.board[self.to_] = piece\n",
    "\n",
    "        print(piece + \": \"+str(self.from_) + \" => \"+ str(self.to_))\n",
    "        print('Board: ', ''.join(self.board), '\\n        '+ self.indices)\n",
    "\n",
    "        idx_to_kill = self.check_kill(turn, self.board)\n",
    "        flag = 'kill'\n",
    "        if(idx_to_kill!=[]):\n",
    "            print('idx_to_kill: ', idx_to_kill)\n",
    "            for i in range(len(idx_to_kill)):\n",
    "                if(self.board[idx_to_kill[i]]==turn):\n",
    "                    flag = 'suicide'\n",
    "                    self.suicide=True\n",
    "                    break\n",
    "\n",
    "            if flag == 'kill':\n",
    "                self.kill(idx_to_kill)\n",
    "                print(Fore.BLUE+'gain: ', len(idx_to_kill))\n",
    "                print(Style.RESET_ALL)\n",
    "            else: #if flag == 'suicide'\n",
    "                print(Back.RED+'suicide move')\n",
    "                print(Style.RESET_ALL)\n",
    "                self.kill(idx_to_kill)\n",
    "                print(Fore.RED+'gain: -1')\n",
    "                print(Style.RESET_ALL)\n",
    "        else:\n",
    "            print(Fore.YELLOW+'gain: 0')\n",
    "            print(Style.RESET_ALL)\n",
    "            \n",
    "        self.savedRounds()\n",
    "        \n",
    "    def play_NN_x(self, num_board):\n",
    "        #x nn, therefore side==1\n",
    "        side = 1\n",
    "        self.probscore = clf_nn_x_saved.score(np.atleast_2d(num_board), np.atleast_2d(side))\n",
    "    def play_NN_o(self, num_board):\n",
    "        #o nn, therefore side==0\n",
    "        side = 0\n",
    "        self.probscore = clf_nn_o_saved.score(np.atleast_2d(num_board), np.atleast_2d(side))\n",
    "        \n",
    "    def play_NN(self):\n",
    "        if self.turn == 'x':\n",
    "            side = 1\n",
    "        else:\n",
    "            side = 0\n",
    "        \n",
    "        count = 0\n",
    "        self.probscore = 0\n",
    "        \n",
    "        while(self.probscore != 1 and count<81):\n",
    "            self.play_random()\n",
    "            self.tempMove()\n",
    "            temp_board_str = self.board + self.tempBoard\n",
    "            num_board = np.zeros(20)\n",
    "            for i in range(len(temp_board_str)):\n",
    "                if(temp_board_str[i]=='x'):\n",
    "                    num_board[i] = 1\n",
    "                elif(temp_board_str[i]=='o'):\n",
    "                    num_board[i] = 0\n",
    "                else:\n",
    "                    num_board[i] = -1\n",
    "                \n",
    "            if self.turn == 'x':\n",
    "                self.play_NN_x(num_board)\n",
    "            elif self.turn == 'o':\n",
    "                self.play_NN_o(num_board)\n",
    "        #used this general clf before I trained x and o side NN:\n",
    "#             self.probscore = clf_nn_saved.score(np.atleast_2d(num_board), np.atleast_2d(side))\n",
    "            count+=1\n",
    "        if self.probscore==1:\n",
    "            print('using NN')\n",
    "        else:\n",
    "            self.play_random()\n",
    "                              \n",
    "     \n",
    "    def play_best(self):       \n",
    "                \n",
    "        options_from = []\n",
    "        options_to = []\n",
    "        for i in range(10):\n",
    "            if self.board[i]==self.turn:\n",
    "                options_from.append(i)\n",
    "            if self.board[i]=='_':\n",
    "                options_to.append(i)\n",
    "\n",
    "        found = False\n",
    "        for _, j in enumerate(options_from):\n",
    "            for _, k in enumerate(options_to):\n",
    "                self.tempBoard = self.board.copy()\n",
    "                self.from_ = j\n",
    "                self.to_ = k\n",
    "\n",
    "                self.tempMove()\n",
    "                                \n",
    "\n",
    "                idx_to_kill = self.check_kill(self.board[j], self.tempBoard)\n",
    "                flag = 'kill'\n",
    "                if(idx_to_kill!=[]):\n",
    "                    for i in range(len(idx_to_kill)):\n",
    "                        if(self.board[idx_to_kill[i]]==turn):\n",
    "                            flag = 'suicide'\n",
    "                            break\n",
    "                    if flag == 'kill':\n",
    "                        found = True\n",
    "                        break\n",
    "        \n",
    "    def play_interactive(self):\n",
    "        print('Please enter your move: ')\n",
    "        self.from_ = int(input('Select piece(i): '))\n",
    "        self.to_ = int(input('Select position(j): '))\n",
    "\n",
    "        print('moving ', self.from_, '==>', self.to_)\n",
    "        while(self.board[self.from_ ]!=self.turn or self.board[self.to_]!='_'):\n",
    "            print('Illegal move, please try again')\n",
    "            allowedFrom = []\n",
    "            allowedTo= []\n",
    "\n",
    "            for i in range(len(self.board)):\n",
    "                if self.board[i]==self.turn:\n",
    "                    allowedFrom.append(i)\n",
    "                if self.board[i]=='_':\n",
    "                    allowedTo.append(i)\n",
    "\n",
    "            print('You may select (i): ', allowedFrom)\n",
    "            print('You may move to (j): ', allowedTo)\n",
    "            print('Please enter your move: ')\n",
    "            self.from_ = int(input('Select piece(i): '))\n",
    "            self.to_ = int(input('Select position(j): '))\n",
    "            print('moving ', self.from_, '==>', self.to_)  \n",
    "            \n",
    "            \n",
    "    def play_random(self):\n",
    "        self.from_ = random.randint(0, 9)\n",
    "        self.to_ = random.randint(0, 9)\n",
    "        #turn x when moves is even, o when odd\n",
    "\n",
    "        while(self.board[self.from_ ]!=self.turn):\n",
    "            self.from_  = random.randint(0, 9)\n",
    "        \n",
    "        while(self.board[self.to_]!='_'):\n",
    "            self.to_ = random.randint(0, 9)\n",
    "            \n",
    "                       \n",
    "        \n",
    "    def play(self):\n",
    "        print('Starting Game:\\n')\n",
    "\n",
    "        player = self.side\n",
    "        if player == 'x':\n",
    "            vs = 'o'\n",
    "        else:\n",
    "            vs = 'x'\n",
    "            \n",
    "        \n",
    "        while(''.join(self.board).count('o')>1 and ''.join(self.board).count('x')>1):\n",
    "            if self.moves%2==0:\n",
    "                self.turn = player\n",
    "               \n",
    "                print('\\nRound: ', self.rounds)\n",
    "                self.rounds+=1\n",
    "                \n",
    "                \n",
    "                print('\\nBoard: ', ''.join(self.board), '\\n        '+ self.indices)\n",
    "                print('Turn: ', self.turn)\n",
    "                \n",
    "                if self.player1 == 'random':\n",
    "                    self.play_random()\n",
    "                elif self.player1 == 'interactive':\n",
    "                    self.play_interactive()\n",
    "                elif self.player1 == 'NN':\n",
    "                     self.play_NN()  \n",
    "                \n",
    "            else:\n",
    "                self.turn = vs\n",
    "                print('Board: ', ''.join(self.board), '\\n        '+ self.indices)\n",
    "                print('Turn: ', self.turn)\n",
    "                \n",
    "                if self.player2 == 'random':\n",
    "                    self.play_random()\n",
    "                elif self.player2 == 'interactive':\n",
    "                    self.play_interactive()\n",
    "                elif self.player2 == 'NN':\n",
    "                    self.play_NN()\n",
    "\n",
    "\n",
    "            self.move()\n",
    "            self.moves+=1\n",
    "            \n",
    "        print('Game over!')\n",
    "        print('Total moves: ', self.moves)\n",
    "        if(''.join(self.board).count('o')<=1):\n",
    "            print( 'x has won' )\n",
    "            self.o_won = False\n",
    "            self.y = np.ones(int(self.moves/2))\n",
    "        elif (''.join(self.board).count('x')<=1):\n",
    "            print ( 'o has won' )\n",
    "            self.o_won = True\n",
    "            self.y = np.zeros(int(self.moves/2))\n",
    "        \n",
    "        \n",
    "    def reset(self):\n",
    "        self.board = list(\"xxxx__oooo\")\n",
    "        self.suicide = False\n",
    "        self.o_won = False\n",
    "        \n",
    "        self.from_ = 0\n",
    "        self.to_ = 0\n",
    "        \n",
    "        self.X = []\n",
    "        self.Y = []\n",
    "        self.temp_a = []\n",
    "        self.temp_b = []\n",
    "        \n",
    "        self.moves = 0\n",
    "        self.rounds = 0\n",
    "    "
   ]
  },
  {
   "cell_type": "markdown",
   "metadata": {},
   "source": [
    "#### Test program by using given board list and expected outcomes and check by using check_capture() method."
   ]
  },
  {
   "cell_type": "code",
   "execution_count": 311,
   "metadata": {},
   "outputs": [],
   "source": [
    "def test_remove(self, verbose=False):\n",
    "    '''\n",
    "    The tests include, for both sides:\n",
    "    - simple kill\n",
    "    - double kill \n",
    "    - double kill that involves more than one piece \n",
    "    - suicide moves.\n",
    "    '''\n",
    "\n",
    "    board_list = ['xoxoxx____', 'xooxooxx__', '__xoo__oxo', '_xoxxxoo____', '_x_oxxoo____',  '_xoxx___x_']\n",
    "    board_expect = ['x_x_xx____', 'x__x__xx__', '__xoo__o_o', '_xo___oo____', '_x_o__oo____', '_x_xx___x_']\n",
    "    off_side = ['x', 'x', 'x', 'o', 'o', 'o']\n",
    "    fail_num = 0\n",
    "    print(\"Testing test_remove after move from offensive side:\")\n",
    "    for i, board in enumerate(board_list):\n",
    "        self.__init__()\n",
    "        self.set_board(list(board))\n",
    "        print('\\nBoard: ', ''.join(self.board), '\\n        '+ self.indices)\n",
    "        \n",
    "        print(\"After {:s} move:\".format(off_side[i]))\n",
    "        \n",
    "        if verbose:\n",
    "            print(\"Test {:d}\".format(i))\n",
    "            print('Board: ', self.board)\n",
    "        self.check_capture(off_side[i], verbose=verbose)\n",
    "        try:\n",
    "            assert self.board == list(board_expect[i])\n",
    "        except:\n",
    "            print('i', i)\n",
    "            fail_num += 1\n",
    "    tot_num = len(board_list)\n",
    "    print(Fore.GREEN + '{:d} out of {:d} tests passed'.format(len(board_list) - fail_num, len(board_list)))\n",
    "    if fail_num > 0:\n",
    "        print(Fore.RED + '{:d} out of {:d} tests failed'.format(fail_num, len(board_list)))"
   ]
  },
  {
   "cell_type": "code",
   "execution_count": 4,
   "metadata": {},
   "outputs": [
    {
     "ename": "NameError",
     "evalue": "name 'test_remove' is not defined",
     "output_type": "error",
     "traceback": [
      "\u001b[0;31m---------------------------------------------------------------------------\u001b[0m",
      "\u001b[0;31mNameError\u001b[0m                                 Traceback (most recent call last)",
      "\u001b[0;32m<ipython-input-4-ca3c58458c90>\u001b[0m in \u001b[0;36m<module>\u001b[0;34m\u001b[0m\n\u001b[1;32m      1\u001b[0m \u001b[0mtest_game\u001b[0m \u001b[0;34m=\u001b[0m \u001b[0mAlak\u001b[0m\u001b[0;34m(\u001b[0m\u001b[0;34m)\u001b[0m \u001b[0;31m#use predetermined arguments for initializing Alak class\u001b[0m\u001b[0;34m\u001b[0m\u001b[0;34m\u001b[0m\u001b[0m\n\u001b[0;32m----> 2\u001b[0;31m \u001b[0mtest_remove\u001b[0m\u001b[0;34m(\u001b[0m\u001b[0mtest_game\u001b[0m\u001b[0;34m)\u001b[0m\u001b[0;34m\u001b[0m\u001b[0;34m\u001b[0m\u001b[0m\n\u001b[0m",
      "\u001b[0;31mNameError\u001b[0m: name 'test_remove' is not defined"
     ]
    }
   ],
   "source": [
    "test_game = Alak() #use predetermined arguments for initializing Alak class\n",
    "test_remove(test_game)"
   ]
  },
  {
   "cell_type": "markdown",
   "metadata": {},
   "source": [
    "Default game, no parameters entered, will play random vs random"
   ]
  },
  {
   "cell_type": "code",
   "execution_count": 358,
   "metadata": {},
   "outputs": [
    {
     "name": "stdout",
     "output_type": "stream",
     "text": [
      "Starting Game:\n",
      "\n",
      "\n",
      "Round:  0\n",
      "\n",
      "Board:  xxxx__oooo \n",
      "        0123456789\n",
      "Turn:  x\n",
      "\n",
      "\n",
      "Board:  xxxx__oooo \n",
      "        0123456789\n",
      "x: 0 => 4\n",
      "Board:  _xxxx_oooo \n",
      "        0123456789\n",
      "\u001b[33mgain: 0\n",
      "\u001b[0m\n",
      "Board:  _xxxx_oooo \n",
      "        0123456789\n",
      "Turn:  o\n",
      "\n",
      "\n",
      "Board:  _xxxx_oooo \n",
      "        0123456789\n",
      "o: 8 => 5\n",
      "Board:  _xxxxooo_o \n",
      "        0123456789\n",
      "\u001b[33mgain: 0\n",
      "\u001b[0m\n",
      "\n",
      "Round:  1\n",
      "\n",
      "Board:  _xxxxooo_o \n",
      "        0123456789\n",
      "Turn:  x\n",
      "\n",
      "\n",
      "Board:  _xxxxooo_o \n",
      "        0123456789\n",
      "x: 4 => 0\n",
      "Board:  xxxx_ooo_o \n",
      "        0123456789\n",
      "\u001b[33mgain: 0\n",
      "\u001b[0m\n",
      "Board:  xxxx_ooo_o \n",
      "        0123456789\n",
      "Turn:  o\n",
      "\n",
      "\n",
      "Board:  xxxx_ooo_o \n",
      "        0123456789\n",
      "o: 9 => 8\n",
      "Board:  xxxx_oooo_ \n",
      "        0123456789\n",
      "\u001b[33mgain: 0\n",
      "\u001b[0m\n",
      "\n",
      "Round:  2\n",
      "\n",
      "Board:  xxxx_oooo_ \n",
      "        0123456789\n",
      "Turn:  x\n",
      "\n",
      "\n",
      "Board:  xxxx_oooo_ \n",
      "        0123456789\n",
      "x: 3 => 4\n",
      "Board:  xxx_xoooo_ \n",
      "        0123456789\n",
      "\u001b[33mgain: 0\n",
      "\u001b[0m\n",
      "Board:  xxx_xoooo_ \n",
      "        0123456789\n",
      "Turn:  o\n",
      "\n",
      "\n",
      "Board:  xxx_xoooo_ \n",
      "        0123456789\n",
      "o: 5 => 9\n",
      "Board:  xxx_x_oooo \n",
      "        0123456789\n",
      "\u001b[33mgain: 0\n",
      "\u001b[0m\n",
      "\n",
      "Round:  3\n",
      "\n",
      "Board:  xxx_x_oooo \n",
      "        0123456789\n",
      "Turn:  x\n",
      "\n",
      "\n",
      "Board:  xxx_x_oooo \n",
      "        0123456789\n",
      "x: 4 => 5\n",
      "Board:  xxx__xoooo \n",
      "        0123456789\n",
      "\u001b[33mgain: 0\n",
      "\u001b[0m\n",
      "Board:  xxx__xoooo \n",
      "        0123456789\n",
      "Turn:  o\n",
      "\n",
      "\n",
      "Board:  xxx__xoooo \n",
      "        0123456789\n",
      "o: 6 => 3\n",
      "Board:  xxxo_x_ooo \n",
      "        0123456789\n",
      "\u001b[33mgain: 0\n",
      "\u001b[0m\n",
      "\n",
      "Round:  4\n",
      "\n",
      "Board:  xxxo_x_ooo \n",
      "        0123456789\n",
      "Turn:  x\n",
      "\n",
      "\n",
      "Board:  xxxo_x_ooo \n",
      "        0123456789\n",
      "x: 0 => 4\n",
      "Board:  _xxoxx_ooo \n",
      "        0123456789\n",
      "idx_to_kill:  [3]\n",
      "Board:  _xx_xx_ooo \n",
      "        0123456789\n",
      "\u001b[34mgain:  1\n",
      "\u001b[0m\n",
      "Board:  _xx_xx_ooo \n",
      "        0123456789\n",
      "Turn:  o\n",
      "\n",
      "\n",
      "Board:  _xx_xx_ooo \n",
      "        0123456789\n",
      "o: 9 => 0\n",
      "Board:  oxx_xx_oo_ \n",
      "        0123456789\n",
      "\u001b[33mgain: 0\n",
      "\u001b[0m\n",
      "\n",
      "Round:  5\n",
      "\n",
      "Board:  oxx_xx_oo_ \n",
      "        0123456789\n",
      "Turn:  x\n",
      "\n",
      "\n",
      "Board:  oxx_xx_oo_ \n",
      "        0123456789\n",
      "x: 2 => 6\n",
      "Board:  ox__xxxoo_ \n",
      "        0123456789\n",
      "\u001b[33mgain: 0\n",
      "\u001b[0m\n",
      "Board:  ox__xxxoo_ \n",
      "        0123456789\n",
      "Turn:  o\n",
      "\n",
      "\n",
      "Board:  ox__xxxoo_ \n",
      "        0123456789\n",
      "o: 7 => 2\n",
      "Board:  oxo_xxx_o_ \n",
      "        0123456789\n",
      "idx_to_kill:  [1]\n",
      "Board:  o_o_xxx_o_ \n",
      "        0123456789\n",
      "\u001b[34mgain:  1\n",
      "\u001b[0m\n",
      "\n",
      "Round:  6\n",
      "\n",
      "Board:  o_o_xxx_o_ \n",
      "        0123456789\n",
      "Turn:  x\n",
      "\n",
      "\n",
      "Board:  o_o_xxx_o_ \n",
      "        0123456789\n",
      "x: 6 => 9\n",
      "Board:  o_o_xx__ox \n",
      "        0123456789\n",
      "\u001b[33mgain: 0\n",
      "\u001b[0m\n",
      "Board:  o_o_xx__ox \n",
      "        0123456789\n",
      "Turn:  o\n",
      "\n",
      "\n",
      "Board:  o_o_xx__ox \n",
      "        0123456789\n",
      "o: 0 => 7\n",
      "Board:  __o_xx_oox \n",
      "        0123456789\n",
      "\u001b[33mgain: 0\n",
      "\u001b[0m\n",
      "\n",
      "Round:  7\n",
      "\n",
      "Board:  __o_xx_oox \n",
      "        0123456789\n",
      "Turn:  x\n",
      "\n",
      "\n",
      "Board:  __o_xx_oox \n",
      "        0123456789\n",
      "x: 9 => 6\n",
      "Board:  __o_xxxoo_ \n",
      "        0123456789\n",
      "\u001b[33mgain: 0\n",
      "\u001b[0m\n",
      "Board:  __o_xxxoo_ \n",
      "        0123456789\n",
      "Turn:  o\n",
      "\n",
      "\n",
      "Board:  __o_xxxoo_ \n",
      "        0123456789\n",
      "o: 2 => 0\n",
      "Board:  o___xxxoo_ \n",
      "        0123456789\n",
      "\u001b[33mgain: 0\n",
      "\u001b[0m\n",
      "\n",
      "Round:  8\n",
      "\n",
      "Board:  o___xxxoo_ \n",
      "        0123456789\n",
      "Turn:  x\n",
      "\n",
      "\n",
      "Board:  o___xxxoo_ \n",
      "        0123456789\n",
      "x: 5 => 2\n",
      "Board:  o_x_x_xoo_ \n",
      "        0123456789\n",
      "\u001b[33mgain: 0\n",
      "\u001b[0m\n",
      "Board:  o_x_x_xoo_ \n",
      "        0123456789\n",
      "Turn:  o\n",
      "\n",
      "\n",
      "Board:  o_x_x_xoo_ \n",
      "        0123456789\n",
      "o: 7 => 5\n",
      "Board:  o_x_xox_o_ \n",
      "        0123456789\n",
      "idx_to_kill:  [5]\n",
      "\u001b[41msuicide move\n",
      "\u001b[0m\n",
      "Board:  o_x_x_x_o_ \n",
      "        0123456789\n",
      "\u001b[31mgain: -1\n",
      "\u001b[0m\n",
      "\n",
      "Round:  9\n",
      "\n",
      "Board:  o_x_x_x_o_ \n",
      "        0123456789\n",
      "Turn:  x\n",
      "\n",
      "\n",
      "Board:  o_x_x_x_o_ \n",
      "        0123456789\n",
      "x: 2 => 1\n",
      "Board:  ox__x_x_o_ \n",
      "        0123456789\n",
      "\u001b[33mgain: 0\n",
      "\u001b[0m\n",
      "Board:  ox__x_x_o_ \n",
      "        0123456789\n",
      "Turn:  o\n",
      "\n",
      "\n",
      "Board:  ox__x_x_o_ \n",
      "        0123456789\n",
      "o: 8 => 9\n",
      "Board:  ox__x_x__o \n",
      "        0123456789\n",
      "\u001b[33mgain: 0\n",
      "\u001b[0m\n",
      "\n",
      "Round:  10\n",
      "\n",
      "Board:  ox__x_x__o \n",
      "        0123456789\n",
      "Turn:  x\n",
      "\n",
      "\n",
      "Board:  ox__x_x__o \n",
      "        0123456789\n",
      "x: 6 => 3\n",
      "Board:  ox_xx____o \n",
      "        0123456789\n",
      "\u001b[33mgain: 0\n",
      "\u001b[0m\n",
      "Board:  ox_xx____o \n",
      "        0123456789\n",
      "Turn:  o\n",
      "\n",
      "\n",
      "Board:  ox_xx____o \n",
      "        0123456789\n",
      "o: 0 => 2\n",
      "Board:  _xoxx____o \n",
      "        0123456789\n",
      "idx_to_kill:  [2]\n",
      "\u001b[41msuicide move\n",
      "\u001b[0m\n",
      "Board:  _x_xx____o \n",
      "        0123456789\n",
      "\u001b[31mgain: -1\n",
      "\u001b[0m\n",
      "Game over!\n",
      "Total moves:  22\n",
      "x has won\n"
     ]
    }
   ],
   "source": [
    "game = Alak()\n",
    "game.play()"
   ]
  },
  {
   "cell_type": "markdown",
   "metadata": {},
   "source": [
    "### Interactive vs NN games for tournament"
   ]
  },
  {
   "cell_type": "code",
   "execution_count": 5,
   "metadata": {},
   "outputs": [
    {
     "name": "stdout",
     "output_type": "stream",
     "text": [
      "Starting Game:\n",
      "\n",
      "\n",
      "Round:  0\n",
      "\n",
      "Board:  xxxx__oooo \n",
      "        0123456789\n",
      "Turn:  x\n",
      "Please enter your move: \n"
     ]
    },
    {
     "name": "stdin",
     "output_type": "stream",
     "text": [
      "Select piece(i):  0\n",
      "Select position(j):  0\n"
     ]
    },
    {
     "name": "stdout",
     "output_type": "stream",
     "text": [
      "moving  0 ==> 0\n",
      "Illegal move, please try again\n",
      "You may select (i):  [0, 1, 2, 3]\n",
      "You may move to (j):  [4, 5]\n",
      "Please enter your move: \n"
     ]
    },
    {
     "name": "stdin",
     "output_type": "stream",
     "text": [
      "Select piece(i):  3\n",
      "Select position(j):  4\n"
     ]
    },
    {
     "name": "stdout",
     "output_type": "stream",
     "text": [
      "moving  3 ==> 4\n",
      "\n",
      "\n",
      "Board:  xxxx__oooo \n",
      "        0123456789\n",
      "x: 3 => 4\n",
      "Board:  xxx_x_oooo \n",
      "        0123456789\n",
      "\u001b[33mgain: 0\n",
      "\u001b[0m\n",
      "Board:  xxx_x_oooo \n",
      "        0123456789\n",
      "Turn:  o\n"
     ]
    },
    {
     "ename": "NameError",
     "evalue": "name 'clf_nn_o_saved' is not defined",
     "output_type": "error",
     "traceback": [
      "\u001b[0;31m---------------------------------------------------------------------------\u001b[0m",
      "\u001b[0;31mNameError\u001b[0m                                 Traceback (most recent call last)",
      "\u001b[0;32m<ipython-input-5-5d8077a0c1e9>\u001b[0m in \u001b[0;36m<module>\u001b[0;34m\u001b[0m\n\u001b[1;32m      1\u001b[0m \u001b[0mgame\u001b[0m \u001b[0;34m=\u001b[0m \u001b[0mAlak\u001b[0m\u001b[0;34m(\u001b[0m\u001b[0mshow_mv\u001b[0m\u001b[0;34m=\u001b[0m\u001b[0;32mTrue\u001b[0m\u001b[0;34m,\u001b[0m \u001b[0mplayer1\u001b[0m\u001b[0;34m=\u001b[0m\u001b[0;34m'interactive'\u001b[0m\u001b[0;34m,\u001b[0m \u001b[0mplayer2\u001b[0m \u001b[0;34m=\u001b[0m \u001b[0;34m'NN'\u001b[0m\u001b[0;34m,\u001b[0m \u001b[0mside\u001b[0m\u001b[0;34m=\u001b[0m\u001b[0;34m'x'\u001b[0m\u001b[0;34m)\u001b[0m\u001b[0;34m\u001b[0m\u001b[0;34m\u001b[0m\u001b[0m\n\u001b[0;32m----> 2\u001b[0;31m \u001b[0mgame\u001b[0m\u001b[0;34m.\u001b[0m\u001b[0mplay\u001b[0m\u001b[0;34m(\u001b[0m\u001b[0;34m)\u001b[0m\u001b[0;34m\u001b[0m\u001b[0;34m\u001b[0m\u001b[0m\n\u001b[0m",
      "\u001b[0;32m<ipython-input-3-d8f6f1b83a5f>\u001b[0m in \u001b[0;36mplay\u001b[0;34m(self)\u001b[0m\n\u001b[1;32m    316\u001b[0m                     \u001b[0mself\u001b[0m\u001b[0;34m.\u001b[0m\u001b[0mplay_interactive\u001b[0m\u001b[0;34m(\u001b[0m\u001b[0;34m)\u001b[0m\u001b[0;34m\u001b[0m\u001b[0;34m\u001b[0m\u001b[0m\n\u001b[1;32m    317\u001b[0m                 \u001b[0;32melif\u001b[0m \u001b[0mself\u001b[0m\u001b[0;34m.\u001b[0m\u001b[0mplayer2\u001b[0m \u001b[0;34m==\u001b[0m \u001b[0;34m'NN'\u001b[0m\u001b[0;34m:\u001b[0m\u001b[0;34m\u001b[0m\u001b[0;34m\u001b[0m\u001b[0m\n\u001b[0;32m--> 318\u001b[0;31m                     \u001b[0mself\u001b[0m\u001b[0;34m.\u001b[0m\u001b[0mplay_NN\u001b[0m\u001b[0;34m(\u001b[0m\u001b[0;34m)\u001b[0m\u001b[0;34m\u001b[0m\u001b[0;34m\u001b[0m\u001b[0m\n\u001b[0m\u001b[1;32m    319\u001b[0m \u001b[0;34m\u001b[0m\u001b[0m\n\u001b[1;32m    320\u001b[0m \u001b[0;34m\u001b[0m\u001b[0m\n",
      "\u001b[0;32m<ipython-input-3-d8f6f1b83a5f>\u001b[0m in \u001b[0;36mplay_NN\u001b[0;34m(self)\u001b[0m\n\u001b[1;32m    199\u001b[0m                 \u001b[0mself\u001b[0m\u001b[0;34m.\u001b[0m\u001b[0mplay_NN_x\u001b[0m\u001b[0;34m(\u001b[0m\u001b[0mnum_board\u001b[0m\u001b[0;34m)\u001b[0m\u001b[0;34m\u001b[0m\u001b[0;34m\u001b[0m\u001b[0m\n\u001b[1;32m    200\u001b[0m             \u001b[0;32melif\u001b[0m \u001b[0mself\u001b[0m\u001b[0;34m.\u001b[0m\u001b[0mturn\u001b[0m \u001b[0;34m==\u001b[0m \u001b[0;34m'o'\u001b[0m\u001b[0;34m:\u001b[0m\u001b[0;34m\u001b[0m\u001b[0;34m\u001b[0m\u001b[0m\n\u001b[0;32m--> 201\u001b[0;31m                 \u001b[0mself\u001b[0m\u001b[0;34m.\u001b[0m\u001b[0mplay_NN_o\u001b[0m\u001b[0;34m(\u001b[0m\u001b[0mnum_board\u001b[0m\u001b[0;34m)\u001b[0m\u001b[0;34m\u001b[0m\u001b[0;34m\u001b[0m\u001b[0m\n\u001b[0m\u001b[1;32m    202\u001b[0m         \u001b[0;31m#used this general clf before I trained x and o side NN:\u001b[0m\u001b[0;34m\u001b[0m\u001b[0;34m\u001b[0m\u001b[0;34m\u001b[0m\u001b[0m\n\u001b[1;32m    203\u001b[0m \u001b[0;31m#             self.probscore = clf_nn_saved.score(np.atleast_2d(num_board), np.atleast_2d(side))\u001b[0m\u001b[0;34m\u001b[0m\u001b[0;34m\u001b[0m\u001b[0;34m\u001b[0m\u001b[0m\n",
      "\u001b[0;32m<ipython-input-3-d8f6f1b83a5f>\u001b[0m in \u001b[0;36mplay_NN_o\u001b[0;34m(self, num_board)\u001b[0m\n\u001b[1;32m    172\u001b[0m         \u001b[0;31m#o nn, therefore side==0\u001b[0m\u001b[0;34m\u001b[0m\u001b[0;34m\u001b[0m\u001b[0;34m\u001b[0m\u001b[0m\n\u001b[1;32m    173\u001b[0m         \u001b[0mside\u001b[0m \u001b[0;34m=\u001b[0m \u001b[0;36m0\u001b[0m\u001b[0;34m\u001b[0m\u001b[0;34m\u001b[0m\u001b[0m\n\u001b[0;32m--> 174\u001b[0;31m         \u001b[0mself\u001b[0m\u001b[0;34m.\u001b[0m\u001b[0mprobscore\u001b[0m \u001b[0;34m=\u001b[0m \u001b[0mclf_nn_o_saved\u001b[0m\u001b[0;34m.\u001b[0m\u001b[0mscore\u001b[0m\u001b[0;34m(\u001b[0m\u001b[0mnp\u001b[0m\u001b[0;34m.\u001b[0m\u001b[0matleast_2d\u001b[0m\u001b[0;34m(\u001b[0m\u001b[0mnum_board\u001b[0m\u001b[0;34m)\u001b[0m\u001b[0;34m,\u001b[0m \u001b[0mnp\u001b[0m\u001b[0;34m.\u001b[0m\u001b[0matleast_2d\u001b[0m\u001b[0;34m(\u001b[0m\u001b[0mside\u001b[0m\u001b[0;34m)\u001b[0m\u001b[0;34m)\u001b[0m\u001b[0;34m\u001b[0m\u001b[0;34m\u001b[0m\u001b[0m\n\u001b[0m\u001b[1;32m    175\u001b[0m \u001b[0;34m\u001b[0m\u001b[0m\n\u001b[1;32m    176\u001b[0m     \u001b[0;32mdef\u001b[0m \u001b[0mplay_NN\u001b[0m\u001b[0;34m(\u001b[0m\u001b[0mself\u001b[0m\u001b[0;34m)\u001b[0m\u001b[0;34m:\u001b[0m\u001b[0;34m\u001b[0m\u001b[0;34m\u001b[0m\u001b[0m\n",
      "\u001b[0;31mNameError\u001b[0m: name 'clf_nn_o_saved' is not defined"
     ]
    }
   ],
   "source": [
    "game = Alak(show_mv=True, player1='interactive', player2 = 'NN', side='x')\n",
    "game.play()"
   ]
  },
  {
   "cell_type": "markdown",
   "metadata": {},
   "source": [
    "### Using NN on X vs random on O"
   ]
  },
  {
   "cell_type": "code",
   "execution_count": 223,
   "metadata": {},
   "outputs": [],
   "source": [
    "# o_num=0\n",
    "# x_num= 0\n",
    "# game_num = 100\n",
    "# game_NN_x = Alak(show_mv=True, player1='NN', player2 = 'random', side='x')\n",
    "\n",
    "# for k in range(game_num):\n",
    "#     game_NN_x.reset()\n",
    "#     game_NN_x.play()\n",
    "#     if game_NN_x.o_won:\n",
    "#         o_num += 1\n",
    "#     else:\n",
    "#         x_num += 1\n",
    "#     print('Total x wins: ', x_num, 'out of ', (k+1), 'games')\n",
    "#     print('Total o wins: ', o_num, 'out of ', (k+1), 'games \\n\\n')\n",
    "    \n",
    "# print('x win percentage', (game_num - o_num)/game_num)\n",
    "# print('o win percentage', (o_num)/game_num) "
   ]
  },
  {
   "cell_type": "markdown",
   "metadata": {},
   "source": [
    "##### x win percentage 0.55\n",
    "##### o win percentage 0.45"
   ]
  },
  {
   "cell_type": "markdown",
   "metadata": {},
   "source": [
    "##### x win percentage 0.54\n",
    "##### o win percentage 0.46"
   ]
  },
  {
   "cell_type": "markdown",
   "metadata": {},
   "source": [
    "##### x win percentage 0.53\n",
    "##### o win percentage 0.47"
   ]
  },
  {
   "cell_type": "markdown",
   "metadata": {},
   "source": [
    "##### x win percentage 0.55\n",
    "##### o win percentage 0.45"
   ]
  },
  {
   "cell_type": "markdown",
   "metadata": {},
   "source": [
    "##### x win percentage 0.58\n",
    "##### o win percentage 0.42"
   ]
  },
  {
   "cell_type": "markdown",
   "metadata": {},
   "source": [
    "##### x win percentage 0.59\n",
    "##### o win percentage 0.41"
   ]
  },
  {
   "cell_type": "markdown",
   "metadata": {},
   "source": [
    "### Using NN on O vs random on X"
   ]
  },
  {
   "cell_type": "code",
   "execution_count": 119,
   "metadata": {},
   "outputs": [],
   "source": [
    "# o_num=0\n",
    "# x_num= 0\n",
    "# game_num = 100\n",
    "# game_NN_o = Alak(show_mv=True, player1='NN', player2 = 'random', side='o')\n",
    "\n",
    "# for k in range(game_num):\n",
    "#     game_NN_o.reset()\n",
    "#     game_NN_o.play()\n",
    "#     if game_NN_o.o_won:\n",
    "#         o_num += 1\n",
    "#     else:\n",
    "#         x_num += 1\n",
    "#     print('Total x wins: ', x_num, 'out of ', (k+1), 'games')\n",
    "#     print('Total o wins: ', o_num, 'out of ', (k+1), 'games \\n\\n')\n",
    "    \n",
    "# print('x win percentage', (game_num - o_num)/game_num)\n",
    "# print('o win percentage', (o_num)/game_num)  "
   ]
  },
  {
   "cell_type": "markdown",
   "metadata": {},
   "source": [
    "##### x win percentage 0.48\n",
    "##### o win percentage 0.52"
   ]
  },
  {
   "cell_type": "markdown",
   "metadata": {},
   "source": [
    "##### x win percentage 0.45\n",
    "##### o win percentage 0.55"
   ]
  },
  {
   "cell_type": "markdown",
   "metadata": {},
   "source": [
    "##### x win percentage 0.45\n",
    "##### o win percentage 0.55"
   ]
  },
  {
   "cell_type": "markdown",
   "metadata": {},
   "source": [
    "##### x win percentage 0.41\n",
    "##### o win percentage 0.59"
   ]
  },
  {
   "cell_type": "markdown",
   "metadata": {},
   "source": [
    "##### x win percentage 0.44\n",
    "##### o win percentage 0.56"
   ]
  },
  {
   "cell_type": "markdown",
   "metadata": {},
   "source": [
    "##### x win percentage 0.41\n",
    "##### o win percentage 0.59"
   ]
  },
  {
   "cell_type": "markdown",
   "metadata": {},
   "source": [
    "### NN vs NN games to retrain NN"
   ]
  },
  {
   "cell_type": "code",
   "execution_count": 179,
   "metadata": {},
   "outputs": [],
   "source": [
    "# game_NN = Alak(show_mv=True, player1='NN', player2 = 'NN', side='x')\n",
    "# o_num = 0\n",
    "# x_num = 0\n",
    "# game_num = 2000\n",
    "# valid = 0\n",
    "# for k in range(game_num):\n",
    "#     print('\\nGAME: {}\\n'.format(k))\n",
    "#     game_NN.reset()\n",
    "#     game_NN.play()\n",
    "#     if game_NN.o_won:\n",
    "#         o_num += 1\n",
    "#     else:\n",
    "#         x_num += 1\n",
    "#     print('Total x wins: ', x_num, 'out of ', (k+1), 'games')\n",
    "#     print('Total o wins: ', o_num, 'out of ', (k+1), 'games \\n\\n')\n",
    "        \n",
    "#     print(k, game_NN.X.shape)\n",
    "#     print(k, game_NN.y.shape)\n",
    "#     #Do not save games that have suicide moves\n",
    "#     if game_NN.suicide==False and game_NN.moves<30:\n",
    "#         if valid == 0:\n",
    "#             X_nn = game_NN.X\n",
    "#             y_nn = game_NN.y\n",
    "#         else:\n",
    "#             X_nn = np.vstack((X_nn, game_NN.X))\n",
    "#             y_nn = np.concatenate((y_nn, game_NN.y))\n",
    "#         valid += 1\n",
    "        \n",
    "# print('NN vs NN')\n",
    "# print('x win percentage', (game_num - o_num)/game_num)\n",
    "# print('o win percentage', (o_num)/game_num)\n",
    "\n",
    "\n",
    "# print(X_nn.shape)\n",
    "# print(X_nn)\n",
    "# print(y_nn.shape)\n",
    "# print(y_nn)"
   ]
  },
  {
   "cell_type": "markdown",
   "metadata": {},
   "source": [
    "##### Total x wins:  1090 out of  2000 games\n",
    "##### Total o wins:  910 out of  2000 games \n",
    "\n",
    "\n",
    "##### 1999 (10, 20)\n",
    "##### 1999 (10,)\n",
    "##### NN vs NN\n",
    "##### x win percentage 0.545\n",
    "##### o win percentage 0.455\n",
    "##### (1493, 20)\n",
    "[[-1  1  1 ...  0  0  0]\n",
    " [ 1  1 -1 ...  0  0  0]\n",
    " [-1  1  1 ...  0  0  0]\n",
    " ...\n",
    " [ 1 -1  1 ...  0 -1  0]\n",
    " [-1 -1  1 ...  0 -1 -1]\n",
    " [ 0  1  1 ... -1 -1 -1]]\n",
    "##### (1493,)\n",
    "[1 1 1 1 1 0 0 0 0 0 1 1 1 1 1 1 1 0 0 0 0 1 1 1 1 0 0 1 1 1 1 1 1 1 1 1 1\n",
    " 0 0 0 0 0 0 0 1 1 1 1 1 0 0 0 0 0 0 0 0 0 0 1 1 0 0 0 0 0 0 0 0 1 1 1 1 1\n",
    " 1 1 1 1 1 1 0 0 0 1 1 1 1 1 1 1 0 0 0 1 0 0 1 0 0 1 1 1 1 0 0 0 0 0 0 1 1\n",
    " 1 1 1 1 1 1 1 1 1 1 1 1 1 1 0 0 0 0 0 0 0 0 0 0 1 1 1 1 1 1 1 1 1 0 0 0 0\n",
    " 0 0 0 1 1 1 1 1 1 0 0 0]"
   ]
  },
  {
   "cell_type": "code",
   "execution_count": 174,
   "metadata": {},
   "outputs": [],
   "source": [
    "# with open('alak_NN.p', 'wb') as f:\n",
    "#     pickle.dump((X_nn, y_nn), f)"
   ]
  },
  {
   "cell_type": "code",
   "execution_count": 6,
   "metadata": {},
   "outputs": [
    {
     "name": "stdout",
     "output_type": "stream",
     "text": [
      "(1493, 20)\n",
      "(1493,)\n"
     ]
    }
   ],
   "source": [
    "with open('alak_NN.p', 'rb') as f:\n",
    "    train_data = pickle.load(f)\n",
    "X_nn, y_nn = train_data\n",
    "print(X_nn.shape)\n",
    "print(y_nn.shape) "
   ]
  },
  {
   "cell_type": "code",
   "execution_count": 8,
   "metadata": {},
   "outputs": [],
   "source": [
    "import time"
   ]
  },
  {
   "cell_type": "code",
   "execution_count": 9,
   "metadata": {},
   "outputs": [
    {
     "name": "stdout",
     "output_type": "stream",
     "text": [
      "Fitting the classifier to the training set\n",
      "Training done in 2.024s\n",
      "Training score: 0.9035\n",
      "\n",
      "Predicting on the test set\n",
      "Validation done in 0.005s\n",
      "Test score: 0.6760\n",
      "\n",
      "For the classifier, MLPClassifier(activation='tanh', alpha=1e-10, hidden_layer_sizes=(200, 50),\n",
      "              max_iter=100000000000, random_state=2, solver='lbfgs')\n",
      "this is the classification report:\n",
      "              precision    recall  f1-score   support\n",
      "\n",
      "         0.0       0.67      0.66      0.66       363\n",
      "         1.0       0.68      0.69      0.69       384\n",
      "\n",
      "    accuracy                           0.68       747\n",
      "   macro avg       0.68      0.68      0.68       747\n",
      "weighted avg       0.68      0.68      0.68       747\n",
      "\n",
      "\n",
      "Confusion matrix:\n",
      "[[240 123]\n",
      " [119 265]]\n",
      "\n"
     ]
    }
   ],
   "source": [
    "X_train, X_test, y_train, y_test = train_test_split(X_nn, y_nn, test_size=0.5, random_state=2)\n",
    "\n",
    "print(\"Fitting the classifier to the training set\")\n",
    "t0 = time.time()\n",
    "\n",
    "clf_nn = MLPClassifier(solver='lbfgs', alpha=1e-10, hidden_layer_sizes=(200, 50), activation='tanh', \\\n",
    "                    random_state=2, max_iter=100000000000, learning_rate_init=0.001)\n",
    "      \n",
    "clf_nn = clf_nn.fit(X_train, y_train)\n",
    "\n",
    "print(\"Training done in {:0.3f}s\".format(time.time() - t0))\n",
    "print(\"Training score: {:.4f}\".format(clf_nn.score(X_train, y_train)))\n",
    "\n",
    "print()\n",
    "# Quantitative evaluation of the model quality on the test set\n",
    "\n",
    "print(\"Predicting on the test set\")\n",
    "t0 = time.time()\n",
    "y_pred = clf_nn.predict(X_test)\n",
    "print(\"Validation done in {:0.3f}s\".format(time.time() - t0))\n",
    "print(\"Test score: {:.4f}\".format(clf_nn.score(X_test, y_test)))\n",
    "\n",
    "y_pred = clf_nn.predict(X_test)\n",
    "y_pred_test = clf_nn.predict_proba(X_test)\n",
    "\n",
    "train_score = clf_nn.score(X_train, y_train)\n",
    "test_score = clf_nn.score(X_test, y_test)\n",
    "\n",
    "y_score = clf_nn.predict_proba(X_test)\n",
    "\n",
    "expected = y_test\n",
    "predicted = y_pred\n",
    "\n",
    "\n",
    "print(\"\\nFor the classifier, {}\".format(clf_nn, classification_report(y_test, y_pred)))\n",
    "\n",
    "print(\"this is the classification report:\\n{}\\n\".format(classification_report(y_test, y_pred)))\n",
    "print(\"Confusion matrix:\\n{}\\n\".format(confusion_matrix(y_test, y_pred)))"
   ]
  },
  {
   "cell_type": "code",
   "execution_count": 10,
   "metadata": {},
   "outputs": [],
   "source": [
    "# Saving the classifier using pickle\n",
    "with open('clf_nn.p', 'wb') as f:\n",
    "    pickle.dump(clf_nn, f)\n",
    "    "
   ]
  },
  {
   "cell_type": "code",
   "execution_count": 11,
   "metadata": {},
   "outputs": [
    {
     "name": "stdout",
     "output_type": "stream",
     "text": [
      "Making predictions on the test set USING THE SAVED CLASSIFIER:\n",
      "Test score: 0.6760\n",
      "Validation done in 0.017s\n"
     ]
    }
   ],
   "source": [
    "# Retrieving the saved classifier\n",
    "with open('clf_nn.p', 'rb') as f:\n",
    "    clf_nn_saved = pickle.load(f)\n",
    "    \n",
    "    \n",
    "'''\n",
    "Show the retrieved classifier works the same as before\n",
    "\n",
    "'''\n",
    "\n",
    "print(\"Making predictions on the test set USING THE SAVED CLASSIFIER:\")\n",
    "t0 = time.time()\n",
    "\n",
    "y_pred = clf_nn_saved.predict(X_test)\n",
    "print(\"Test score: {:.4f}\".format(clf_nn_saved.score(X_test, y_test)))\n",
    "\n",
    "print(\"Validation done in {:0.3f}s\".format(time.time() - t0))"
   ]
  },
  {
   "cell_type": "markdown",
   "metadata": {},
   "source": [
    "### Train NN on x side"
   ]
  },
  {
   "cell_type": "code",
   "execution_count": 188,
   "metadata": {},
   "outputs": [],
   "source": [
    "# game_NN_x = Alak(show_mv=True, player1='NN', player2 = 'random', side='x')\n",
    "# o_num = 0\n",
    "# x_num = 0\n",
    "# game_num = 2000\n",
    "# valid = 0\n",
    "# for k in range(game_num):\n",
    "#     print('\\nGAME: {}\\n'.format(k))\n",
    "#     game_NN_x.reset()\n",
    "#     game_NN_x.play()\n",
    "#     if game_NN_x.o_won:\n",
    "#         o_num += 1\n",
    "#     else:\n",
    "#         x_num += 1\n",
    "#     print('Total x wins: ', x_num, 'out of ', (k+1), 'games')\n",
    "#     print('Total o wins: ', o_num, 'out of ', (k+1), 'games \\n\\n')\n",
    "#        \n",
    "#     print(k, game_NN_x.X.shape)\n",
    "#     print(k, game_NN_x.y.shape)\n",
    "#     #Do not save games that have suicide moves\n",
    "#     if game_NN_x.suicide==False and game_NN_x.moves<30:\n",
    "#         if valid == 0:\n",
    "#             X_nn_x = game_NN_x.X\n",
    "#             y_nn_x = game_NN_x.y\n",
    "#         else:\n",
    "#             X_nn_x = np.vstack((X_nn_x, game_NN_x.X))\n",
    "#             y_nn_x = np.concatenate((y_nn_x, game_NN_x.y))\n",
    "#         valid += 1\n",
    "        \n",
    "# print('x win percentage', (game_num - o_num)/game_num)\n",
    "# print('x win much higher as used NN on x side')\n",
    "# print(X_nn_x.shape)\n",
    "# print(X_nn_x)\n",
    "# print(y_nn_x.shape)\n",
    "# print(y_nn_x)"
   ]
  },
  {
   "cell_type": "code",
   "execution_count": null,
   "metadata": {},
   "outputs": [],
   "source": []
  },
  {
   "cell_type": "markdown",
   "metadata": {},
   "source": [
    "##### Total x wins:  1033 out of  2000 games\n",
    "##### Total o wins:  967 out of  2000 games \n",
    "\n",
    "\n",
    "##### 1999 (20,)\n",
    "##### 1999 (1,)\n",
    "##### x win percentage 0.516\n",
    "##### x win much higher as used NN on x side\n",
    "##### (1450, 20)\n",
    "[[ 1  1 -1 ...  0  0 -1]\n",
    " [ 1  1  1 ... -1  0  0]\n",
    " [-1  1  1 ...  1 -1 -1]\n",
    " ...\n",
    " [-1  1  1 ...  0  0 -1]\n",
    " [ 0  1 -1 ...  0  0  1]\n",
    " [-1  1  1 ...  0  0 -1]]\n",
    "##### (1450,)\n",
    "[1 1 1 ... 1 1 1]"
   ]
  },
  {
   "cell_type": "code",
   "execution_count": 187,
   "metadata": {},
   "outputs": [],
   "source": [
    "# with open('alak_NN_x.p', 'wb') as f:\n",
    "#     pickle.dump((X_nn_x, y_nn_x), f)"
   ]
  },
  {
   "cell_type": "code",
   "execution_count": 12,
   "metadata": {},
   "outputs": [
    {
     "name": "stdout",
     "output_type": "stream",
     "text": [
      "(1450, 20)\n",
      "(1450,)\n"
     ]
    }
   ],
   "source": [
    "with open('alak_NN_x.p', 'rb') as f:\n",
    "    train_data = pickle.load(f)\n",
    "X_nn_x, y_nn_x = train_data\n",
    "print(X_nn_x.shape)\n",
    "print(y_nn_x.shape) "
   ]
  },
  {
   "cell_type": "code",
   "execution_count": 13,
   "metadata": {},
   "outputs": [
    {
     "name": "stdout",
     "output_type": "stream",
     "text": [
      "Fitting the classifier to the training set\n",
      "Training done in 2.307s\n",
      "Training score: 0.8828\n",
      "\n",
      "Predicting on the test set\n",
      "Validation done in 0.005s\n",
      "Test score: 0.6400\n",
      "\n",
      "For the classifier, MLPClassifier(activation='tanh', alpha=1e-10, hidden_layer_sizes=(200, 50),\n",
      "              max_iter=100000000000, random_state=2, solver='lbfgs')\n",
      "this is the classification report:\n",
      "              precision    recall  f1-score   support\n",
      "\n",
      "         0.0       0.68      0.65      0.66       393\n",
      "         1.0       0.60      0.63      0.62       332\n",
      "\n",
      "    accuracy                           0.64       725\n",
      "   macro avg       0.64      0.64      0.64       725\n",
      "weighted avg       0.64      0.64      0.64       725\n",
      "\n",
      "\n",
      "Confusion matrix:\n",
      "[[254 139]\n",
      " [122 210]]\n",
      "\n"
     ]
    }
   ],
   "source": [
    "X_train, X_test, y_train, y_test = train_test_split(X_nn_x, y_nn_x, test_size=0.5, random_state=2)\n",
    "\n",
    "print(\"Fitting the classifier to the training set\")\n",
    "t0 = time.time()\n",
    "\n",
    "clf_nn_x = MLPClassifier(solver='lbfgs', alpha=1e-10, hidden_layer_sizes=(200, 50), activation='tanh', \\\n",
    "                    random_state=2, max_iter=100000000000, learning_rate_init=0.001)\n",
    "      \n",
    "clf_nn_x = clf_nn_x.fit(X_train, y_train)\n",
    "\n",
    "print(\"Training done in {:0.3f}s\".format(time.time() - t0))\n",
    "print(\"Training score: {:.4f}\".format(clf_nn_x.score(X_train, y_train)))\n",
    "\n",
    "print()\n",
    "# Quantitative evaluation of the model quality on the test set\n",
    "\n",
    "print(\"Predicting on the test set\")\n",
    "t0 = time.time()\n",
    "y_pred = clf_nn_x.predict(X_test)\n",
    "print(\"Validation done in {:0.3f}s\".format(time.time() - t0))\n",
    "print(\"Test score: {:.4f}\".format(clf_nn_x.score(X_test, y_test)))\n",
    "\n",
    "y_pred = clf_nn_x.predict(X_test)\n",
    "y_pred_test = clf_nn_x.predict_proba(X_test)\n",
    "\n",
    "train_score = clf_nn_x.score(X_train, y_train)\n",
    "test_score = clf_nn_x.score(X_test, y_test)\n",
    "\n",
    "y_score = clf_nn_x.predict_proba(X_test)\n",
    "\n",
    "expected = y_test\n",
    "predicted = y_pred\n",
    "\n",
    "\n",
    "print(\"\\nFor the classifier, {}\".format(clf_nn_x, classification_report(y_test, y_pred)))\n",
    "\n",
    "print(\"this is the classification report:\\n{}\\n\".format(classification_report(y_test, y_pred)))\n",
    "print(\"Confusion matrix:\\n{}\\n\".format(confusion_matrix(y_test, y_pred)))"
   ]
  },
  {
   "cell_type": "code",
   "execution_count": 15,
   "metadata": {},
   "outputs": [],
   "source": [
    "#Saving the classifier using pickle\n",
    "with open('clf_nn_x.p', 'wb') as f:\n",
    "    pickle.dump(clf_nn_x, f) "
   ]
  },
  {
   "cell_type": "code",
   "execution_count": 16,
   "metadata": {},
   "outputs": [
    {
     "name": "stdout",
     "output_type": "stream",
     "text": [
      "Making predictions on the test set USING THE SAVED CLASSIFIER:\n",
      "Test score: 0.6400\n",
      "Validation done in 0.024s\n"
     ]
    }
   ],
   "source": [
    "#Retrieving the saved classifier\n",
    "with open('clf_nn_x.p', 'rb') as f:\n",
    "    clf_nn_x_saved = pickle.load(f)  \n",
    "    \n",
    "#Show the retrieved classifier works the same as before\n",
    "print(\"Making predictions on the test set USING THE SAVED CLASSIFIER:\")\n",
    "t0 = time.time()\n",
    "\n",
    "y_pred = clf_nn_x_saved.predict(X_test)\n",
    "print(\"Test score: {:.4f}\".format(clf_nn_x_saved.score(X_test, y_test)))\n",
    "\n",
    "print(\"Validation done in {:0.3f}s\".format(time.time() - t0))"
   ]
  },
  {
   "cell_type": "markdown",
   "metadata": {},
   "source": [
    "#### Try out NN on x side that I just trained"
   ]
  },
  {
   "cell_type": "code",
   "execution_count": 17,
   "metadata": {},
   "outputs": [
    {
     "name": "stdout",
     "output_type": "stream",
     "text": [
      "Starting Game:\n",
      "\n",
      "\n",
      "Round:  0\n",
      "\n",
      "Board:  xxxx__oooo \n",
      "        0123456789\n",
      "Turn:  x\n",
      "Please enter your move: \n"
     ]
    },
    {
     "name": "stdin",
     "output_type": "stream",
     "text": [
      "Select piece(i):  3\n",
      "Select position(j):  4\n"
     ]
    },
    {
     "name": "stdout",
     "output_type": "stream",
     "text": [
      "moving  3 ==> 4\n",
      "\n",
      "\n",
      "Board:  xxxx__oooo \n",
      "        0123456789\n",
      "x: 3 => 4\n",
      "Board:  xxx_x_oooo \n",
      "        0123456789\n",
      "\u001b[33mgain: 0\n",
      "\u001b[0m\n",
      "Board:  xxx_x_oooo \n",
      "        0123456789\n",
      "Turn:  o\n"
     ]
    },
    {
     "ename": "NameError",
     "evalue": "name 'clf_nn_o_saved' is not defined",
     "output_type": "error",
     "traceback": [
      "\u001b[0;31m---------------------------------------------------------------------------\u001b[0m",
      "\u001b[0;31mNameError\u001b[0m                                 Traceback (most recent call last)",
      "\u001b[0;32m<ipython-input-17-099875dd2ac1>\u001b[0m in \u001b[0;36m<module>\u001b[0;34m\u001b[0m\n\u001b[1;32m      1\u001b[0m \u001b[0mgame_NN_x\u001b[0m \u001b[0;34m=\u001b[0m \u001b[0mAlak\u001b[0m\u001b[0;34m(\u001b[0m\u001b[0mshow_mv\u001b[0m\u001b[0;34m=\u001b[0m\u001b[0;32mTrue\u001b[0m\u001b[0;34m,\u001b[0m \u001b[0mplayer1\u001b[0m\u001b[0;34m=\u001b[0m\u001b[0;34m'interactive'\u001b[0m\u001b[0;34m,\u001b[0m \u001b[0mplayer2\u001b[0m \u001b[0;34m=\u001b[0m \u001b[0;34m'NN'\u001b[0m\u001b[0;34m,\u001b[0m \u001b[0mside\u001b[0m\u001b[0;34m=\u001b[0m\u001b[0;34m'x'\u001b[0m\u001b[0;34m)\u001b[0m\u001b[0;34m\u001b[0m\u001b[0;34m\u001b[0m\u001b[0m\n\u001b[0;32m----> 2\u001b[0;31m \u001b[0mgame_NN_x\u001b[0m\u001b[0;34m.\u001b[0m\u001b[0mplay\u001b[0m\u001b[0;34m(\u001b[0m\u001b[0;34m)\u001b[0m\u001b[0;34m\u001b[0m\u001b[0;34m\u001b[0m\u001b[0m\n\u001b[0m",
      "\u001b[0;32m<ipython-input-3-d8f6f1b83a5f>\u001b[0m in \u001b[0;36mplay\u001b[0;34m(self)\u001b[0m\n\u001b[1;32m    316\u001b[0m                     \u001b[0mself\u001b[0m\u001b[0;34m.\u001b[0m\u001b[0mplay_interactive\u001b[0m\u001b[0;34m(\u001b[0m\u001b[0;34m)\u001b[0m\u001b[0;34m\u001b[0m\u001b[0;34m\u001b[0m\u001b[0m\n\u001b[1;32m    317\u001b[0m                 \u001b[0;32melif\u001b[0m \u001b[0mself\u001b[0m\u001b[0;34m.\u001b[0m\u001b[0mplayer2\u001b[0m \u001b[0;34m==\u001b[0m \u001b[0;34m'NN'\u001b[0m\u001b[0;34m:\u001b[0m\u001b[0;34m\u001b[0m\u001b[0;34m\u001b[0m\u001b[0m\n\u001b[0;32m--> 318\u001b[0;31m                     \u001b[0mself\u001b[0m\u001b[0;34m.\u001b[0m\u001b[0mplay_NN\u001b[0m\u001b[0;34m(\u001b[0m\u001b[0;34m)\u001b[0m\u001b[0;34m\u001b[0m\u001b[0;34m\u001b[0m\u001b[0m\n\u001b[0m\u001b[1;32m    319\u001b[0m \u001b[0;34m\u001b[0m\u001b[0m\n\u001b[1;32m    320\u001b[0m \u001b[0;34m\u001b[0m\u001b[0m\n",
      "\u001b[0;32m<ipython-input-3-d8f6f1b83a5f>\u001b[0m in \u001b[0;36mplay_NN\u001b[0;34m(self)\u001b[0m\n\u001b[1;32m    199\u001b[0m                 \u001b[0mself\u001b[0m\u001b[0;34m.\u001b[0m\u001b[0mplay_NN_x\u001b[0m\u001b[0;34m(\u001b[0m\u001b[0mnum_board\u001b[0m\u001b[0;34m)\u001b[0m\u001b[0;34m\u001b[0m\u001b[0;34m\u001b[0m\u001b[0m\n\u001b[1;32m    200\u001b[0m             \u001b[0;32melif\u001b[0m \u001b[0mself\u001b[0m\u001b[0;34m.\u001b[0m\u001b[0mturn\u001b[0m \u001b[0;34m==\u001b[0m \u001b[0;34m'o'\u001b[0m\u001b[0;34m:\u001b[0m\u001b[0;34m\u001b[0m\u001b[0;34m\u001b[0m\u001b[0m\n\u001b[0;32m--> 201\u001b[0;31m                 \u001b[0mself\u001b[0m\u001b[0;34m.\u001b[0m\u001b[0mplay_NN_o\u001b[0m\u001b[0;34m(\u001b[0m\u001b[0mnum_board\u001b[0m\u001b[0;34m)\u001b[0m\u001b[0;34m\u001b[0m\u001b[0;34m\u001b[0m\u001b[0m\n\u001b[0m\u001b[1;32m    202\u001b[0m         \u001b[0;31m#used this general clf before I trained x and o side NN:\u001b[0m\u001b[0;34m\u001b[0m\u001b[0;34m\u001b[0m\u001b[0;34m\u001b[0m\u001b[0m\n\u001b[1;32m    203\u001b[0m \u001b[0;31m#             self.probscore = clf_nn_saved.score(np.atleast_2d(num_board), np.atleast_2d(side))\u001b[0m\u001b[0;34m\u001b[0m\u001b[0;34m\u001b[0m\u001b[0;34m\u001b[0m\u001b[0m\n",
      "\u001b[0;32m<ipython-input-3-d8f6f1b83a5f>\u001b[0m in \u001b[0;36mplay_NN_o\u001b[0;34m(self, num_board)\u001b[0m\n\u001b[1;32m    172\u001b[0m         \u001b[0;31m#o nn, therefore side==0\u001b[0m\u001b[0;34m\u001b[0m\u001b[0;34m\u001b[0m\u001b[0;34m\u001b[0m\u001b[0m\n\u001b[1;32m    173\u001b[0m         \u001b[0mside\u001b[0m \u001b[0;34m=\u001b[0m \u001b[0;36m0\u001b[0m\u001b[0;34m\u001b[0m\u001b[0;34m\u001b[0m\u001b[0m\n\u001b[0;32m--> 174\u001b[0;31m         \u001b[0mself\u001b[0m\u001b[0;34m.\u001b[0m\u001b[0mprobscore\u001b[0m \u001b[0;34m=\u001b[0m \u001b[0mclf_nn_o_saved\u001b[0m\u001b[0;34m.\u001b[0m\u001b[0mscore\u001b[0m\u001b[0;34m(\u001b[0m\u001b[0mnp\u001b[0m\u001b[0;34m.\u001b[0m\u001b[0matleast_2d\u001b[0m\u001b[0;34m(\u001b[0m\u001b[0mnum_board\u001b[0m\u001b[0;34m)\u001b[0m\u001b[0;34m,\u001b[0m \u001b[0mnp\u001b[0m\u001b[0;34m.\u001b[0m\u001b[0matleast_2d\u001b[0m\u001b[0;34m(\u001b[0m\u001b[0mside\u001b[0m\u001b[0;34m)\u001b[0m\u001b[0;34m)\u001b[0m\u001b[0;34m\u001b[0m\u001b[0;34m\u001b[0m\u001b[0m\n\u001b[0m\u001b[1;32m    175\u001b[0m \u001b[0;34m\u001b[0m\u001b[0m\n\u001b[1;32m    176\u001b[0m     \u001b[0;32mdef\u001b[0m \u001b[0mplay_NN\u001b[0m\u001b[0;34m(\u001b[0m\u001b[0mself\u001b[0m\u001b[0;34m)\u001b[0m\u001b[0;34m:\u001b[0m\u001b[0;34m\u001b[0m\u001b[0;34m\u001b[0m\u001b[0m\n",
      "\u001b[0;31mNameError\u001b[0m: name 'clf_nn_o_saved' is not defined"
     ]
    }
   ],
   "source": [
    "game_NN_x = Alak(show_mv=True, player1='interactive', player2 = 'NN', side='x')\n",
    "game_NN_x.play()"
   ]
  },
  {
   "cell_type": "markdown",
   "metadata": {},
   "source": [
    "### Train NN on o side"
   ]
  },
  {
   "cell_type": "code",
   "execution_count": 262,
   "metadata": {},
   "outputs": [],
   "source": [
    "# game_NN_o = Alak(show_mv=True, player1='NN', player2 = 'random', side='o')\n",
    "# o_num = 0\n",
    "# x_num = 0\n",
    "# game_num = 2000\n",
    "# valid = 0\n",
    "# for k in range(game_num):\n",
    "#     print('\\nGAME: {}\\n'.format(k))\n",
    "#     game_NN_o.reset()\n",
    "#     game_NN_o.play()\n",
    "#     if game_NN_o.o_won:\n",
    "#         o_num += 1\n",
    "#     else:\n",
    "#         x_num += 1\n",
    "#     print('Total x wins: ', x_num, 'out of ', (k+1), 'games')\n",
    "#     print('Total o wins: ', o_num, 'out of ', (k+1), 'games \\n\\n')\n",
    "        \n",
    "#     print(k, game_NN_o.X.shape)\n",
    "#     print(k, game_NN_o.y.shape)\n",
    "#     #Do not save games that have suicide moves\n",
    "#     if game_NN_o.moves<30 and game_NN_o.suicide==False:\n",
    "#         if valid == 0:\n",
    "#             X_nn_o = game_NN_o.X\n",
    "#             y_nn_o = game_NN_o.y\n",
    "#         else:\n",
    "#             X_nn_o = np.vstack((X_nn_o, game_NN_o.X))\n",
    "#             y_nn_o = np.concatenate((y_nn_o, game_NN_o.y))\n",
    "#         valid += 1\n",
    "        \n",
    "# print('o win percentage', o_num/game_num)\n",
    "# print('o win much higher as used NN on o side')\n",
    "# print(X_nn_o.shape)\n",
    "# print(X_nn_o)\n",
    "# print(y_nn_o.shape)\n",
    "# print(y_nn_o)"
   ]
  },
  {
   "cell_type": "code",
   "execution_count": null,
   "metadata": {},
   "outputs": [],
   "source": []
  },
  {
   "cell_type": "markdown",
   "metadata": {},
   "source": [
    "##### Total x wins:  916 out of  2000 games\n",
    "##### Total o wins:  1084 out of  2000 games \n",
    "\n",
    "\n",
    "##### 1999 (9, 20)\n",
    "##### 1999 (9,)\n",
    "##### o win percentage 0.542\n",
    "##### o win much higher as used NN on o side\n",
    "##### (1628, 20)\n",
    "###### [[ 1  1  1 ... -1 -1 -1]\n",
    "######  [ 1  1  1 ... -1 -1 -1]\n",
    "######  [ 1  1  1 ... -1  0  0]\n",
    "######  ...\n",
    "######  [ 1 -1  1 ...  0  0 -1]\n",
    "######  [ 0 -1  1 ...  0 -1  1]\n",
    "######  [-1 -1  1 ... -1 -1  1]]\n",
    "##### (1628,)\n",
    "###### [1 1 0 0 0 1 1 1 1 1 0 0 0 0 0 0 1 1 1 1 1 0 0 0 0 0 0 0 1 1 0 1 1 1 1 1 1\n",
    "######  1 1 1 1 1 1 1 1 0 0 0 0 0 0 0 0 1 1 1 1 1 1 1 0 0 0 0 1 1 1 1 1 0 0 1 1 1\n",
    "######  1 0 0 0 0 1 1 1 1 1 1 0 0 0 0 1 1 1 0 1 1 1 0 0 0 1 1 1 1 0 0 0 0 0 1 1 1\n",
    "######  1 1 1 1 1 0 0 0 0 0 0 0 1 1 1 1 1 1 1]"
   ]
  },
  {
   "cell_type": "code",
   "execution_count": 19,
   "metadata": {},
   "outputs": [
    {
     "ename": "NameError",
     "evalue": "name 'X_nn_o' is not defined",
     "output_type": "error",
     "traceback": [
      "\u001b[0;31m---------------------------------------------------------------------------\u001b[0m",
      "\u001b[0;31mNameError\u001b[0m                                 Traceback (most recent call last)",
      "\u001b[0;32m<ipython-input-19-623a813b8562>\u001b[0m in \u001b[0;36m<module>\u001b[0;34m\u001b[0m\n\u001b[1;32m      1\u001b[0m \u001b[0;32mwith\u001b[0m \u001b[0mopen\u001b[0m\u001b[0;34m(\u001b[0m\u001b[0;34m'alak_NN_o.p'\u001b[0m\u001b[0;34m,\u001b[0m \u001b[0;34m'wb'\u001b[0m\u001b[0;34m)\u001b[0m \u001b[0;32mas\u001b[0m \u001b[0mf\u001b[0m\u001b[0;34m:\u001b[0m\u001b[0;34m\u001b[0m\u001b[0;34m\u001b[0m\u001b[0m\n\u001b[0;32m----> 2\u001b[0;31m      \u001b[0mpickle\u001b[0m\u001b[0;34m.\u001b[0m\u001b[0mdump\u001b[0m\u001b[0;34m(\u001b[0m\u001b[0;34m(\u001b[0m\u001b[0mX_nn_o\u001b[0m\u001b[0;34m,\u001b[0m \u001b[0my_nn_o\u001b[0m\u001b[0;34m)\u001b[0m\u001b[0;34m,\u001b[0m \u001b[0mf\u001b[0m\u001b[0;34m)\u001b[0m\u001b[0;34m\u001b[0m\u001b[0;34m\u001b[0m\u001b[0m\n\u001b[0m",
      "\u001b[0;31mNameError\u001b[0m: name 'X_nn_o' is not defined"
     ]
    }
   ],
   "source": [
    "# with open('alak_NN_o.p', 'wb') as f:\n",
    "#      pickle.dump((X_nn_o, y_nn_o), f)"
   ]
  },
  {
   "cell_type": "code",
   "execution_count": 20,
   "metadata": {},
   "outputs": [
    {
     "ename": "EOFError",
     "evalue": "Ran out of input",
     "output_type": "error",
     "traceback": [
      "\u001b[0;31m---------------------------------------------------------------------------\u001b[0m",
      "\u001b[0;31mEOFError\u001b[0m                                  Traceback (most recent call last)",
      "\u001b[0;32m<ipython-input-20-e3f04793baa6>\u001b[0m in \u001b[0;36m<module>\u001b[0;34m\u001b[0m\n\u001b[1;32m      1\u001b[0m \u001b[0;32mwith\u001b[0m \u001b[0mopen\u001b[0m\u001b[0;34m(\u001b[0m\u001b[0;34m'alak_NN_o.p'\u001b[0m\u001b[0;34m,\u001b[0m \u001b[0;34m'rb'\u001b[0m\u001b[0;34m)\u001b[0m \u001b[0;32mas\u001b[0m \u001b[0mf\u001b[0m\u001b[0;34m:\u001b[0m\u001b[0;34m\u001b[0m\u001b[0;34m\u001b[0m\u001b[0m\n\u001b[0;32m----> 2\u001b[0;31m     \u001b[0mtrain_data\u001b[0m \u001b[0;34m=\u001b[0m \u001b[0mpickle\u001b[0m\u001b[0;34m.\u001b[0m\u001b[0mload\u001b[0m\u001b[0;34m(\u001b[0m\u001b[0mf\u001b[0m\u001b[0;34m)\u001b[0m\u001b[0;34m\u001b[0m\u001b[0;34m\u001b[0m\u001b[0m\n\u001b[0m\u001b[1;32m      3\u001b[0m \u001b[0mX_nn_o\u001b[0m\u001b[0;34m,\u001b[0m \u001b[0my_nn_o\u001b[0m \u001b[0;34m=\u001b[0m \u001b[0mtrain_data\u001b[0m\u001b[0;34m\u001b[0m\u001b[0;34m\u001b[0m\u001b[0m\n\u001b[1;32m      4\u001b[0m \u001b[0mprint\u001b[0m\u001b[0;34m(\u001b[0m\u001b[0mX_nn_o\u001b[0m\u001b[0;34m.\u001b[0m\u001b[0mshape\u001b[0m\u001b[0;34m)\u001b[0m\u001b[0;34m\u001b[0m\u001b[0;34m\u001b[0m\u001b[0m\n\u001b[1;32m      5\u001b[0m \u001b[0mprint\u001b[0m\u001b[0;34m(\u001b[0m\u001b[0my_nn_o\u001b[0m\u001b[0;34m.\u001b[0m\u001b[0mshape\u001b[0m\u001b[0;34m)\u001b[0m\u001b[0;34m\u001b[0m\u001b[0;34m\u001b[0m\u001b[0m\n",
      "\u001b[0;31mEOFError\u001b[0m: Ran out of input"
     ]
    }
   ],
   "source": [
    "# with open('alak_NN_o.p', 'rb') as f:\n",
    "#     train_data = pickle.load(f)\n",
    "# X_nn_o, y_nn_o = train_data\n",
    "# print(X_nn_o.shape)\n",
    "# print(y_nn_o.shape)"
   ]
  },
  {
   "cell_type": "code",
   "execution_count": 246,
   "metadata": {},
   "outputs": [],
   "source": [
    "import time"
   ]
  },
  {
   "cell_type": "code",
   "execution_count": 257,
   "metadata": {},
   "outputs": [
    {
     "name": "stdout",
     "output_type": "stream",
     "text": [
      "Fitting the classifier to the training set\n",
      "Training done in 1.681s\n",
      "Training score: 0.9091\n",
      "\n",
      "Predicting on the test set\n",
      "Validation done in 0.005s\n",
      "Test score: 0.6486\n",
      "\n",
      "For the classifier, MLPClassifier(activation='tanh', alpha=1e-10, hidden_layer_sizes=(200, 50),\n",
      "              max_iter=100000000000, random_state=2, solver='lbfgs')\n",
      "this is the classification report:\n",
      "              precision    recall  f1-score   support\n",
      "\n",
      "         0.0       0.60      0.60      0.60       361\n",
      "         1.0       0.68      0.69      0.69       453\n",
      "\n",
      "    accuracy                           0.65       814\n",
      "   macro avg       0.64      0.64      0.64       814\n",
      "weighted avg       0.65      0.65      0.65       814\n",
      "\n",
      "\n",
      "Confusion matrix:\n",
      "[[217 144]\n",
      " [142 311]]\n",
      "\n"
     ]
    }
   ],
   "source": [
    " X_train, X_test, y_train, y_test =train_test_split(X_nn_o, y_nn_o, test_size=0.5, random_state=2)\n",
    "\n",
    "print(\"Fitting the classifier to the training set\")\n",
    "t0 = time.time()\n",
    "\n",
    "clf_nn_o = MLPClassifier(solver='lbfgs', alpha=1e-10, hidden_layer_sizes=(200, 50), activation='tanh', \\\n",
    "                    random_state=2, max_iter=100000000000, learning_rate_init=0.001)\n",
    "      \n",
    "clf_nn_o = clf_nn_o.fit(X_train, y_train)\n",
    "\n",
    "print(\"Training done in {:0.3f}s\".format(time.time() - t0))\n",
    "print(\"Training score: {:.4f}\".format(clf_nn_o.score(X_train, y_train)))\n",
    "\n",
    "print()\n",
    "# Quantitative evaluation of the model quality on the test set\n",
    "\n",
    "print(\"Predicting on the test set\")\n",
    "t0 = time.time()\n",
    "y_pred = clf_nn_o.predict(X_test)\n",
    "print(\"Validation done in {:0.3f}s\".format(time.time() - t0))\n",
    "print(\"Test score: {:.4f}\".format(clf_nn_o.score(X_test, y_test)))\n",
    "\n",
    "y_pred = clf_nn_o.predict(X_test)\n",
    "y_pred_test = clf_nn_o.predict_proba(X_test)\n",
    "\n",
    "train_score = clf_nn_o.score(X_train, y_train)\n",
    "test_score = clf_nn_o.score(X_test, y_test)\n",
    "\n",
    "y_score = clf_nn_o.predict_proba(X_test)\n",
    "\n",
    "expected = y_test\n",
    "predicted = y_pred\n",
    "\n",
    "\n",
    "print(\"\\nFor the classifier, {}\".format(clf_nn_o, classification_report(y_test, y_pred)))\n",
    "\n",
    "print(\"this is the classification report:\\n{}\\n\".format(classification_report(y_test, y_pred)))\n",
    "print(\"Confusion matrix:\\n{}\\n\".format(confusion_matrix(y_test, y_pred)))"
   ]
  },
  {
   "cell_type": "code",
   "execution_count": 258,
   "metadata": {},
   "outputs": [],
   "source": [
    "'''Saving the classifier using pickle'''\n",
    "with open('clf_nn_o.p', 'wb') as f:\n",
    "    pickle.dump(clf_nn_o, f)"
   ]
  },
  {
   "cell_type": "code",
   "execution_count": 259,
   "metadata": {},
   "outputs": [
    {
     "name": "stdout",
     "output_type": "stream",
     "text": [
      "Making predictions on the test set USING THE SAVED CLASSIFIER:\n",
      "Test score: 0.6486\n",
      "Validation done in 0.019s\n"
     ]
    }
   ],
   "source": [
    "'''\n",
    "Retrieving the saved classifier\n",
    "'''\n",
    "with open('clf_nn_o.p', 'rb') as f:\n",
    "    clf_nn_o_saved = pickle.load(f)\n",
    "    \n",
    "    \n",
    "'''\n",
    "Show the retrieved classifier works the same as before\n",
    "\n",
    "'''\n",
    "\n",
    "print(\"Making predictions on the test set USING THE SAVED CLASSIFIER:\")\n",
    "t0 = time.time()\n",
    "\n",
    "y_pred = clf_nn_o_saved.predict(X_test)\n",
    "print(\"Test score: {:.4f}\".format(clf_nn_o_saved.score(X_test, y_test)))\n",
    "\n",
    "print(\"Validation done in {:0.3f}s\".format(time.time() - t0))"
   ]
  },
  {
   "cell_type": "markdown",
   "metadata": {},
   "source": [
    "#### Try out NN on o side that I just trained"
   ]
  },
  {
   "cell_type": "code",
   "execution_count": 362,
   "metadata": {},
   "outputs": [
    {
     "name": "stdout",
     "output_type": "stream",
     "text": [
      "Starting Game:\n",
      "\n",
      "\n",
      "Round:  0\n",
      "\n",
      "Board:  xxxx__oooo \n",
      "        0123456789\n",
      "Turn:  o\n",
      "\n",
      "\n",
      "Board:  xxxx__oooo \n",
      "        0123456789\n",
      "o: 7 => 4\n",
      "Board:  xxxxo_o_oo \n",
      "        0123456789\n",
      "\u001b[33mgain: 0\n",
      "\u001b[0m\n",
      "Board:  xxxxo_o_oo \n",
      "        0123456789\n",
      "Turn:  x\n",
      "\n",
      "\n",
      "Board:  xxxxo_o_oo \n",
      "        0123456789\n",
      "x: 3 => 7\n",
      "Board:  xxx_o_oxoo \n",
      "        0123456789\n",
      "idx_to_kill:  [7]\n",
      "\u001b[41msuicide move\n",
      "\u001b[0m\n",
      "Board:  xxx_o_o_oo \n",
      "        0123456789\n",
      "\u001b[31mgain: -1\n",
      "\u001b[0m\n",
      "\n",
      "Round:  1\n",
      "\n",
      "Board:  xxx_o_o_oo \n",
      "        0123456789\n",
      "Turn:  o\n",
      "\n",
      "\n",
      "Board:  xxx_o_o_oo \n",
      "        0123456789\n",
      "o: 4 => 5\n",
      "Board:  xxx__oo_oo \n",
      "        0123456789\n",
      "\u001b[33mgain: 0\n",
      "\u001b[0m\n",
      "Board:  xxx__oo_oo \n",
      "        0123456789\n",
      "Turn:  x\n",
      "\n",
      "\n",
      "Board:  xxx__oo_oo \n",
      "        0123456789\n",
      "x: 1 => 3\n",
      "Board:  x_xx_oo_oo \n",
      "        0123456789\n",
      "\u001b[33mgain: 0\n",
      "\u001b[0m\n",
      "\n",
      "Round:  2\n",
      "\n",
      "Board:  x_xx_oo_oo \n",
      "        0123456789\n",
      "Turn:  o\n",
      "\n",
      "\n",
      "Board:  x_xx_oo_oo \n",
      "        0123456789\n",
      "o: 9 => 4\n",
      "Board:  x_xxooo_o_ \n",
      "        0123456789\n",
      "\u001b[33mgain: 0\n",
      "\u001b[0m\n",
      "Board:  x_xxooo_o_ \n",
      "        0123456789\n",
      "Turn:  x\n",
      "\n",
      "\n",
      "Board:  x_xxooo_o_ \n",
      "        0123456789\n",
      "x: 3 => 9\n",
      "Board:  x_x_ooo_ox \n",
      "        0123456789\n",
      "\u001b[33mgain: 0\n",
      "\u001b[0m\n",
      "\n",
      "Round:  3\n",
      "\n",
      "Board:  x_x_ooo_ox \n",
      "        0123456789\n",
      "Turn:  o\n",
      "\n",
      "\n",
      "Board:  x_x_ooo_ox \n",
      "        0123456789\n",
      "o: 5 => 7\n",
      "Board:  x_x_o_ooox \n",
      "        0123456789\n",
      "\u001b[33mgain: 0\n",
      "\u001b[0m\n",
      "Board:  x_x_o_ooox \n",
      "        0123456789\n",
      "Turn:  x\n",
      "\n",
      "\n",
      "Board:  x_x_o_ooox \n",
      "        0123456789\n",
      "x: 2 => 1\n",
      "Board:  xx__o_ooox \n",
      "        0123456789\n",
      "\u001b[33mgain: 0\n",
      "\u001b[0m\n",
      "\n",
      "Round:  4\n",
      "\n",
      "Board:  xx__o_ooox \n",
      "        0123456789\n",
      "Turn:  o\n",
      "\n",
      "\n",
      "Board:  xx__o_ooox \n",
      "        0123456789\n",
      "o: 8 => 2\n",
      "Board:  xxo_o_oo_x \n",
      "        0123456789\n",
      "\u001b[33mgain: 0\n",
      "\u001b[0m\n",
      "Board:  xxo_o_oo_x \n",
      "        0123456789\n",
      "Turn:  x\n",
      "\n",
      "\n",
      "Board:  xxo_o_oo_x \n",
      "        0123456789\n",
      "x: 1 => 5\n",
      "Board:  x_o_oxoo_x \n",
      "        0123456789\n",
      "idx_to_kill:  [5]\n",
      "\u001b[41msuicide move\n",
      "\u001b[0m\n",
      "Board:  x_o_o_oo_x \n",
      "        0123456789\n",
      "\u001b[31mgain: -1\n",
      "\u001b[0m\n",
      "\n",
      "Round:  5\n",
      "\n",
      "Board:  x_o_o_oo_x \n",
      "        0123456789\n",
      "Turn:  o\n",
      "\n",
      "\n",
      "Board:  x_o_o_oo_x \n",
      "        0123456789\n",
      "o: 2 => 1\n",
      "Board:  xo__o_oo_x \n",
      "        0123456789\n",
      "\u001b[33mgain: 0\n",
      "\u001b[0m\n",
      "Board:  xo__o_oo_x \n",
      "        0123456789\n",
      "Turn:  x\n",
      "\n",
      "\n",
      "Board:  xo__o_oo_x \n",
      "        0123456789\n",
      "x: 9 => 5\n",
      "Board:  xo__oxoo__ \n",
      "        0123456789\n",
      "idx_to_kill:  [5]\n",
      "\u001b[41msuicide move\n",
      "\u001b[0m\n",
      "Board:  xo__o_oo__ \n",
      "        0123456789\n",
      "\u001b[31mgain: -1\n",
      "\u001b[0m\n",
      "Game over!\n",
      "Total moves:  12\n",
      "o has won\n"
     ]
    }
   ],
   "source": [
    "game = Alak(show_mv=True, player1='NN', player2 = 'random', side='o')\n",
    "game.play()"
   ]
  },
  {
   "cell_type": "markdown",
   "metadata": {},
   "source": [
    "#### NN on O side vs Interactive on X side"
   ]
  },
  {
   "cell_type": "code",
   "execution_count": 23,
   "metadata": {},
   "outputs": [
    {
     "name": "stdout",
     "output_type": "stream",
     "text": [
      "Starting Game:\n",
      "\n",
      "\n",
      "Round:  0\n",
      "\n",
      "Board:  xxxx__oooo \n",
      "        0123456789\n",
      "Turn:  x\n",
      "Please enter your move: \n"
     ]
    },
    {
     "name": "stdin",
     "output_type": "stream",
     "text": [
      "Select piece(i):  3\n",
      "Select position(j):  5\n"
     ]
    },
    {
     "name": "stdout",
     "output_type": "stream",
     "text": [
      "moving  3 ==> 5\n",
      "\n",
      "\n",
      "Board:  xxxx__oooo \n",
      "        0123456789\n",
      "x: 3 => 5\n",
      "Board:  xxx__xoooo \n",
      "        0123456789\n",
      "\u001b[33mgain: 0\n",
      "\u001b[0m\n",
      "Board:  xxx__xoooo \n",
      "        0123456789\n",
      "Turn:  o\n",
      "Please enter your move: \n"
     ]
    },
    {
     "name": "stdin",
     "output_type": "stream",
     "text": [
      "Select piece(i):  9\n",
      "Select position(j):  4\n"
     ]
    },
    {
     "name": "stdout",
     "output_type": "stream",
     "text": [
      "moving  9 ==> 4\n",
      "\n",
      "\n",
      "Board:  xxx__xoooo \n",
      "        0123456789\n",
      "o: 9 => 4\n",
      "Board:  xxx_oxooo_ \n",
      "        0123456789\n",
      "idx_to_kill:  [5]\n",
      "Board:  xxx_o_ooo_ \n",
      "        0123456789\n",
      "\u001b[34mgain:  1\n",
      "\u001b[0m\n",
      "\n",
      "Round:  1\n",
      "\n",
      "Board:  xxx_o_ooo_ \n",
      "        0123456789\n",
      "Turn:  x\n",
      "Please enter your move: \n"
     ]
    },
    {
     "name": "stdin",
     "output_type": "stream",
     "text": [
      "Select piece(i):  2\n",
      "Select position(j):  9\n"
     ]
    },
    {
     "name": "stdout",
     "output_type": "stream",
     "text": [
      "moving  2 ==> 9\n",
      "\n",
      "\n",
      "Board:  xxx_o_ooo_ \n",
      "        0123456789\n",
      "x: 2 => 9\n",
      "Board:  xx__o_ooox \n",
      "        0123456789\n",
      "\u001b[33mgain: 0\n",
      "\u001b[0m\n",
      "Board:  xx__o_ooox \n",
      "        0123456789\n",
      "Turn:  o\n",
      "Please enter your move: \n"
     ]
    },
    {
     "name": "stdin",
     "output_type": "stream",
     "text": [
      "Select piece(i):  8\n",
      "Select position(j):  2\n"
     ]
    },
    {
     "name": "stdout",
     "output_type": "stream",
     "text": [
      "moving  8 ==> 2\n",
      "\n",
      "\n",
      "Board:  xx__o_ooox \n",
      "        0123456789\n",
      "o: 8 => 2\n",
      "Board:  xxo_o_oo_x \n",
      "        0123456789\n",
      "\u001b[33mgain: 0\n",
      "\u001b[0m\n",
      "\n",
      "Round:  2\n",
      "\n",
      "Board:  xxo_o_oo_x \n",
      "        0123456789\n",
      "Turn:  x\n",
      "Please enter your move: \n"
     ]
    },
    {
     "name": "stdin",
     "output_type": "stream",
     "text": [
      "Select piece(i):  0\n",
      "Select position(j):  3\n"
     ]
    },
    {
     "name": "stdout",
     "output_type": "stream",
     "text": [
      "moving  0 ==> 3\n",
      "\n",
      "\n",
      "Board:  xxo_o_oo_x \n",
      "        0123456789\n",
      "x: 0 => 3\n",
      "Board:  _xoxo_oo_x \n",
      "        0123456789\n",
      "idx_to_kill:  [2]\n",
      "Board:  _x_xo_oo_x \n",
      "        0123456789\n",
      "\u001b[34mgain:  1\n",
      "\u001b[0m\n",
      "Board:  _x_xo_oo_x \n",
      "        0123456789\n",
      "Turn:  o\n",
      "Please enter your move: \n"
     ]
    },
    {
     "name": "stdin",
     "output_type": "stream",
     "text": [
      "Select piece(i):  6\n",
      "Select position(j):  2\n"
     ]
    },
    {
     "name": "stdout",
     "output_type": "stream",
     "text": [
      "moving  6 ==> 2\n",
      "\n",
      "\n",
      "Board:  _x_xo_oo_x \n",
      "        0123456789\n",
      "o: 6 => 2\n",
      "Board:  _xoxo__o_x \n",
      "        0123456789\n",
      "idx_to_kill:  [3]\n",
      "Board:  _xo_o__o_x \n",
      "        0123456789\n",
      "\u001b[34mgain:  1\n",
      "\u001b[0m\n",
      "\n",
      "Round:  3\n",
      "\n",
      "Board:  _xo_o__o_x \n",
      "        0123456789\n",
      "Turn:  x\n",
      "Please enter your move: \n"
     ]
    },
    {
     "name": "stdin",
     "output_type": "stream",
     "text": [
      "Select piece(i):  9\n",
      "Select position(j):  3\n"
     ]
    },
    {
     "name": "stdout",
     "output_type": "stream",
     "text": [
      "moving  9 ==> 3\n",
      "\n",
      "\n",
      "Board:  _xo_o__o_x \n",
      "        0123456789\n",
      "x: 9 => 3\n",
      "Board:  _xoxo__o__ \n",
      "        0123456789\n",
      "idx_to_kill:  [2]\n",
      "Board:  _x_xo__o__ \n",
      "        0123456789\n",
      "\u001b[34mgain:  1\n",
      "\u001b[0m\n",
      "Board:  _x_xo__o__ \n",
      "        0123456789\n",
      "Turn:  o\n",
      "Please enter your move: \n"
     ]
    },
    {
     "name": "stdin",
     "output_type": "stream",
     "text": [
      "Select piece(i):  7\n",
      "Select position(j):  2\n"
     ]
    },
    {
     "name": "stdout",
     "output_type": "stream",
     "text": [
      "moving  7 ==> 2\n",
      "\n",
      "\n",
      "Board:  _x_xo__o__ \n",
      "        0123456789\n",
      "o: 7 => 2\n",
      "Board:  _xoxo_____ \n",
      "        0123456789\n",
      "idx_to_kill:  [3]\n",
      "Board:  _xo_o_____ \n",
      "        0123456789\n",
      "\u001b[34mgain:  1\n",
      "\u001b[0m\n",
      "Game over!\n",
      "Total moves:  8\n",
      "o has won\n"
     ]
    }
   ],
   "source": [
    "game = Alak(show_mv=True, player1='interactive', player2 = 'interactive', side='x')\n",
    "game.play()"
   ]
  },
  {
   "cell_type": "markdown",
   "metadata": {},
   "source": [
    "NN on X side vs Interactive on O side"
   ]
  },
  {
   "cell_type": "code",
   "execution_count": null,
   "metadata": {},
   "outputs": [],
   "source": [
    "game = Alak(show_mv=True, player1='NN', player2 = 'interactive', side='x')\n",
    "game.play()"
   ]
  },
  {
   "cell_type": "markdown",
   "metadata": {},
   "source": [
    "Interactive vs Interactive"
   ]
  },
  {
   "cell_type": "code",
   "execution_count": 58,
   "metadata": {},
   "outputs": [],
   "source": [
    "game = Alak(show_mv=True, player1='interactive', player2 = 'interactive', side='o')\n",
    "game.play()"
   ]
  },
  {
   "cell_type": "markdown",
   "metadata": {},
   "source": [
    "NN vs NN"
   ]
  },
  {
   "cell_type": "code",
   "execution_count": null,
   "metadata": {},
   "outputs": [],
   "source": [
    "game = Alak(show_mv=True, player1='NN', player2 = 'NN', side='o')\n",
    "game.play()"
   ]
  },
  {
   "cell_type": "markdown",
   "metadata": {},
   "source": [
    "### First training, to create NN"
   ]
  },
  {
   "cell_type": "code",
   "execution_count": 160,
   "metadata": {},
   "outputs": [],
   "source": [
    "# game = Alak()\n",
    "# game_train = Alak()\n",
    "# o_num = 0\n",
    "# x_num = 0\n",
    "# game_num = 2000\n",
    "# valid = 0\n",
    "# for k in range(game_num):\n",
    "#     print('\\nGAME: {}\\n'.format(k))\n",
    "#     game_train.reset()\n",
    "#     game_train.play()\n",
    "#     if game_train.o_won:\n",
    "#         o_num += 1\n",
    "#     else:\n",
    "#         x_num += 1\n",
    "#     print('Total x wins: ', x_num, 'out of ', (k+1), 'games')\n",
    "#     print('Total o wins: ', o_num, 'out of ', (k+1), 'games \\n\\n')\n",
    "        \n",
    "#     print(k, game_train.X.shape)\n",
    "#     print(k, game_train.y.shape)\n",
    "#     #Do not save games that have suicide moves\n",
    "#     if game_train.suicide==False and game_train.moves<30:\n",
    "#         if valid == 0:\n",
    "#             X = game_train.X\n",
    "#             y = game_train.y\n",
    "#         else:\n",
    "#             X = np.vstack((X, game_train.X))\n",
    "#             y = np.concatenate((y, game_train.y))\n",
    "#         valid += 1\n",
    "        \n",
    "# print('o win percentage', o_num/game_num)\n",
    "# print(X.shape)\n",
    "# print(X)\n",
    "# print(y.shape)\n",
    "# print(y)\n"
   ]
  },
  {
   "cell_type": "markdown",
   "metadata": {},
   "source": [
    "### Save trained X and y and train NN"
   ]
  },
  {
   "cell_type": "code",
   "execution_count": 157,
   "metadata": {},
   "outputs": [],
   "source": [
    "# with open('alak_train.p', 'wb') as f:\n",
    "#     pickle.dump((X, y), f)"
   ]
  },
  {
   "cell_type": "code",
   "execution_count": 158,
   "metadata": {},
   "outputs": [
    {
     "name": "stdout",
     "output_type": "stream",
     "text": [
      "(1458, 20)\n",
      "(1458,)\n"
     ]
    }
   ],
   "source": [
    "with open('alak_train.p', 'rb') as f:\n",
    "    train_data = pickle.load(f)\n",
    "X, y = train_data\n",
    "print(X.shape)\n",
    "print(y.shape)"
   ]
  },
  {
   "cell_type": "code",
   "execution_count": 159,
   "metadata": {},
   "outputs": [],
   "source": [
    "X_train, X_test, y_train, y_test = train_test_split(X, y, test_size=0.5, random_state=2)"
   ]
  },
  {
   "cell_type": "code",
   "execution_count": 13,
   "metadata": {},
   "outputs": [],
   "source": [
    "import time"
   ]
  },
  {
   "cell_type": "code",
   "execution_count": 162,
   "metadata": {},
   "outputs": [
    {
     "name": "stdout",
     "output_type": "stream",
     "text": [
      "Fitting the classifier to the training set\n",
      "Training done in 4.035s\n",
      "Training score: 0.9204\n",
      "\n",
      "Predicting on the test set\n",
      "Validation done in 0.006s\n",
      "Test score: 0.6241\n"
     ]
    }
   ],
   "source": [
    "print(\"Fitting the classifier to the training set\")\n",
    "t0 = time.time()\n",
    "\n",
    "clf = MLPClassifier(solver='lbfgs', alpha=1e-10, hidden_layer_sizes=(200, 50, 10), activation='tanh', \\\n",
    "                    random_state=2, max_iter=100000000000, learning_rate_init=0.001)\n",
    "      \n",
    "clf = clf.fit(X_train, y_train)\n",
    "\n",
    "print(\"Training done in {:0.3f}s\".format(time.time() - t0))\n",
    "print(\"Training score: {:.4f}\".format(clf.score(X_train, y_train)))\n",
    "\n",
    "print()\n",
    "# Quantitative evaluation of the model quality on the test set\n",
    "\n",
    "print(\"Predicting on the test set\")\n",
    "t0 = time.time()\n",
    "y_pred = clf.predict(X_test)\n",
    "print(\"Validation done in {:0.3f}s\".format(time.time() - t0))\n",
    "print(\"Test score: {:.4f}\".format(clf.score(X_test, y_test)))"
   ]
  },
  {
   "cell_type": "code",
   "execution_count": 163,
   "metadata": {},
   "outputs": [],
   "source": [
    "y_pred = clf.predict(X_test)\n",
    "y_pred_test = clf.predict_proba(X_test)\n",
    "\n",
    "train_score = clf.score(X_train, y_train)\n",
    "test_score = clf.score(X_test, y_test)\n",
    "\n",
    "y_score = clf.predict_proba(X_test)\n",
    "\n",
    "expected = y_test\n",
    "predicted = y_pred"
   ]
  },
  {
   "cell_type": "code",
   "execution_count": 164,
   "metadata": {},
   "outputs": [
    {
     "name": "stdout",
     "output_type": "stream",
     "text": [
      "\n",
      "For the classifier, MLPClassifier(activation='tanh', alpha=1e-10, hidden_layer_sizes=(200, 50, 10),\n",
      "              max_iter=100000000000, random_state=2, solver='lbfgs')\n",
      "this is the classification report:\n",
      "              precision    recall  f1-score   support\n",
      "\n",
      "         0.0       0.67      0.60      0.63       395\n",
      "         1.0       0.58      0.65      0.61       334\n",
      "\n",
      "    accuracy                           0.62       729\n",
      "   macro avg       0.63      0.63      0.62       729\n",
      "weighted avg       0.63      0.62      0.62       729\n",
      "\n",
      "\n",
      "Confusion matrix:\n",
      "[[237 158]\n",
      " [116 218]]\n",
      "\n"
     ]
    }
   ],
   "source": [
    "print(\"\\nFor the classifier, {}\".format(clf, classification_report(y_test, y_pred)))\n",
    "\n",
    "print(\"this is the classification report:\\n{}\\n\".format(classification_report(y_test, y_pred)))\n",
    "print(\"Confusion matrix:\\n{}\\n\".format(confusion_matrix(y_test, y_pred)))"
   ]
  },
  {
   "cell_type": "code",
   "execution_count": 165,
   "metadata": {},
   "outputs": [],
   "source": [
    "'''Saving the classifier using pickle'''\n",
    "with open('clf.p', 'wb') as f:\n",
    "    pickle.dump(clf, f)"
   ]
  },
  {
   "cell_type": "code",
   "execution_count": 166,
   "metadata": {},
   "outputs": [],
   "source": [
    "'''\n",
    "Retrieving the saved classifier\n",
    "'''\n",
    "with open('clf.p', 'rb') as f:\n",
    "    clf_saved = pickle.load(f)"
   ]
  },
  {
   "cell_type": "code",
   "execution_count": 167,
   "metadata": {},
   "outputs": [
    {
     "name": "stdout",
     "output_type": "stream",
     "text": [
      "Making predictions on the test set USING THE SAVED CLASSIFIER:\n",
      "Test score: 0.6241\n",
      "Validation done in 0.025s\n"
     ]
    }
   ],
   "source": [
    "'''\n",
    "Show the retrieved classifier works the same as before\n",
    "\n",
    "'''\n",
    "\n",
    "print(\"Making predictions on the test set USING THE SAVED CLASSIFIER:\")\n",
    "t0 = time.time()\n",
    "\n",
    "y_pred = clf_saved.predict(X_test)\n",
    "print(\"Test score: {:.4f}\".format(clf_saved.score(X_test, y_test)))\n",
    "\n",
    "print(\"Validation done in {:0.3f}s\".format(time.time() - t0))"
   ]
  },
  {
   "cell_type": "markdown",
   "metadata": {},
   "source": [
    "### End"
   ]
  }
 ],
 "metadata": {
  "kernelspec": {
   "display_name": "Python 3",
   "language": "python",
   "name": "python3"
  },
  "language_info": {
   "codemirror_mode": {
    "name": "ipython",
    "version": 3
   },
   "file_extension": ".py",
   "mimetype": "text/x-python",
   "name": "python",
   "nbconvert_exporter": "python",
   "pygments_lexer": "ipython3",
   "version": "3.8.3"
  }
 },
 "nbformat": 4,
 "nbformat_minor": 4
}
