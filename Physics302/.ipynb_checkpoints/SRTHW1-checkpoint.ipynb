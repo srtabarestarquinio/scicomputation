{
 "cells": [
  {
   "cell_type": "markdown",
   "metadata": {},
   "source": [
    "## Model Comparison and Occam’s Razor\n",
    "\n",
    "A) Simulation\n",
    "\n",
    "Suppose the true nature of a signal is sinusoidal. You can then simulate measurement data that\n",
    "fluctuate around\n",
    "\n",
    "$$ytrue= \\sin(kx+ theta) $$\n",
    "\n",
    "Assume the measurement signal-to-noise ratio is 5:1. To be realistic, let’s also add an “error\n",
    "floor” of 0.1. For our purpose this is necessary because yTrue can be very close to zero. Without\n",
    "an error floor, this can lead to very small values for the uncertainty and, being in the denominator\n",
    "in the sum for χ2, this can cause numerical instability. Adding the error floor prevents the\n",
    "variance to become arbitrarily small. Thus there are two sources of uncertainty: the\n",
    "measurement error (see the signal-to-noise ratio above) and the error floor. Let’s call the former\n",
    "meas_err and the later err_floor. The total variance is the sum of the square of these two\n",
    "quantities:\n",
    "\n",
    "$$meas_err**2 + err_floor**2 $$\n",
    "\n",
    "Physicists call this “addition in quadrature”. The total uncertainty (or total error) is the square\n",
    "root of this quantity.\n",
    "For these simulated measurements, use 101 evenly-spaced points for x between 0 and 2π, with k\n",
    "= 2 and φ = π/6.\n"
   ]
  },
  {
   "cell_type": "markdown",
   "metadata": {},
   "source": [
    "B) Alternative Model Fitting\n",
    "\n",
    "Once the data have been simulated, let’s pretend to forget everything about the simulation\n",
    "process and instead imagine that someone has just handed us a set of measurement results, stored\n",
    "in a numpy array y.\n",
    "\n",
    "First, suppose you guess (in this case correctly) that the underlying signal is sinusoidal and\n",
    "construct such a model. You can then used scipy.optimize.curve_fit to find the bestfit\n",
    "k and φ, along with the variance associated with each fitting parameter.\n",
    "However, you may wonder whether one can fit more than one model to the data. For example,\n",
    "you know that a polynomial of a high order can also “wiggle” up and down, and you would like\n",
    "to see if such a model can fit the data well, with a reduced χ2 around 1. Suppose you decide to\n",
    "try an 8th order polynomial:\n",
    "\n",
    "$$ ymodel=c0 + c1x + c2x2 + c3x3 + c4x4 + c5x5 + c6x6 + c7x7 + c8x8 $$"
   ]
  },
  {
   "cell_type": "markdown",
   "metadata": {},
   "source": [
    "For this model, obviously, the {ci} are the fitting parameters. Use\n",
    "scipy.optimize.curve_fit to determine the best-fit {ci}. Also find the reduced χ2.\n",
    "You should also plot the data, with error bars, along with the the best-fit polynomial."
   ]
  },
  {
   "cell_type": "code",
   "execution_count": null,
   "metadata": {},
   "outputs": [],
   "source": []
  }
 ],
 "metadata": {
  "kernelspec": {
   "display_name": "Python 3",
   "language": "python",
   "name": "python3"
  },
  "language_info": {
   "codemirror_mode": {
    "name": "ipython",
    "version": 3
   },
   "file_extension": ".py",
   "mimetype": "text/x-python",
   "name": "python",
   "nbconvert_exporter": "python",
   "pygments_lexer": "ipython3",
   "version": "3.8.3"
  }
 },
 "nbformat": 4,
 "nbformat_minor": 4
}
