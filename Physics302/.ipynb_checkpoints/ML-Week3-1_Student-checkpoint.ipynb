{
 "cells": [
  {
   "cell_type": "markdown",
   "metadata": {},
   "source": [
    "# Lecture Week 3-1"
   ]
  },
  {
   "cell_type": "markdown",
   "metadata": {},
   "source": [
    "## Topics\n",
    "\n",
    "\n",
    "## I. More Numpy Functions\n",
    "\n",
    "\n",
    "## Lab: $\\chi^2$, PDF, and CDF (Later: Confidence Levels)\n",
    "\n"
   ]
  },
  {
   "cell_type": "code",
   "execution_count": 1,
   "metadata": {},
   "outputs": [],
   "source": [
    "%matplotlib inline\n",
    "import numpy as np\n",
    "import matplotlib.pyplot as plt"
   ]
  },
  {
   "cell_type": "code",
   "execution_count": 2,
   "metadata": {
    "collapsed": false,
    "jupyter": {
     "outputs_hidden": false
    }
   },
   "outputs": [
    {
     "name": "stdout",
     "output_type": "stream",
     "text": [
      "[  1.   2.   3.   4.   5.   6.   7.   8.   9.  10.  -1.  -2.  -3.  -4.\n",
      "  -5.  -6.  -7.  -8.  -9. -10.]\n"
     ]
    }
   ],
   "source": [
    "'''\n",
    "New Numpy method: concatenate\n",
    "'''\n",
    "a = np.linspace(1, 10, 10)\n",
    "b = np.linspace(-1, -10, 10)\n",
    "# Note: what goes into np.concatenate has to be a tuple\n",
    "c = np.concatenate((a, b))\n",
    "print(c)"
   ]
  },
  {
   "cell_type": "code",
   "execution_count": 3,
   "metadata": {
    "collapsed": false,
    "jupyter": {
     "outputs_hidden": false
    }
   },
   "outputs": [
    {
     "data": {
      "image/png": "[encoded data removed]",
      "text/plain": [
       "<Figure size 432x288 with 1 Axes>"
      ]
     },
     "metadata": {
      "needs_background": "light"
     },
     "output_type": "display_data"
    }
   ],
   "source": [
    "'''\n",
    "\n",
    "plot looks weird because:\n",
    "\n",
    "- Python connects the plotted points according the order of the indpendent variable.\n",
    "- If the x array is not ordered, you will see zig-zag lines.\n",
    "\n",
    "'''\n",
    "\n",
    "# arr = np.random.rand(4)\n",
    "x_arr = np.array([0.9, 0.2, 0.4, 0.5])\n",
    "y_arr = x_arr**2\n",
    "plt.plot(x_arr, y_arr)\n",
    "plt.show()\n"
   ]
  },
  {
   "cell_type": "code",
   "execution_count": 4,
   "metadata": {
    "collapsed": false,
    "jupyter": {
     "outputs_hidden": false
    }
   },
   "outputs": [
    {
     "name": "stdout",
     "output_type": "stream",
     "text": [
      "original x_arr: [0.9 0.2 0.4 0.5]\n",
      "sorted_idx: [1 2 3 0]\n",
      "sorted x_arr: [0.2 0.4 0.5 0.9]\n",
      "sorted y_arr: [0.04 0.16 0.25 0.81]\n"
     ]
    },
    {
     "data": {
      "image/png": "[encoded data removed]",
      "text/plain": [
       "<Figure size 432x288 with 1 Axes>"
      ]
     },
     "metadata": {
      "needs_background": "light"
     },
     "output_type": "display_data"
    }
   ],
   "source": [
    "'''numpy.argsort'''\n",
    "\n",
    "# arr = np.random.rand(4)\n",
    "x_arr = np.array([0.9, 0.2, 0.4, 0.5])\n",
    "y_arr = x_arr ** 2\n",
    "# sorted_idx tells you the position of each element in the sorted array\n",
    "sorted_idx = np.argsort(x_arr)\n",
    "\n",
    "x_arr_sorted = x_arr[sorted_idx]\n",
    "# this ensures every y value corresponds to the x value \n",
    "y_arr_sorted = y_arr[sorted_idx]\n",
    "\n",
    "plt.plot(x_arr_sorted, y_arr_sorted)\n",
    "print('original x_arr: {}'.format(x_arr))\n",
    "print('sorted_idx: {}'.format(sorted_idx))\n",
    "# sorted in ascending order\n",
    "print('sorted x_arr: {}'.format(x_arr_sorted))\n",
    "print('sorted y_arr: {}'.format(y_arr_sorted))\n"
   ]
  },
  {
   "cell_type": "markdown",
   "metadata": {},
   "source": [
    "## The idea is that as the array x_arr gets sorted, the indices of the elements are also sorted.\n",
    "\n",
    "## argsort gives you the order of the original indices after the sorting.\n",
    "\n",
    "## Since 0.9 had the original index of 0, and after sorting 0.9 become the last element, so 0 becomes the last element of what argsort returns.\n",
    "\n",
    "## You can then think of sorted_idx (what's returned by argsort) as a set of instructions.  In this case:\n",
    "\n",
    "- Take the original 0th element and put it in the 3rd (last) place\n",
    "- Take the original 1st element and put it in the 0th place\n",
    "- Take the original 2nd element and put it in the 1st place\n",
    "- Take the original 3rd element and put it in the 2nd place.\n",
    "\n",
    "## By doing \n",
    "\n",
    "x_arr_sorted = x_arr[sorted_idx]\n",
    "\n",
    "## you are carrying out this set of instructions.\n",
    "\n",
    "## Similarly by doing \n",
    "\n",
    "y_arr_sorted = y_arr[sorted_idx]\n",
    "\n",
    "## you are sorting y_arr in such a way that each element in y_arr_sorted corresponds to the right element in x_arr_sorted.\n",
    "\n",
    "## You can think of applying argsort to x_arr as a way to get the instructions to sort x_arr, and then you can apply the set of instructions to both x_arr and y_arr so that after sorting, each element in the x array still corresponds to the right element in the y array."
   ]
  },
  {
   "cell_type": "markdown",
   "metadata": {},
   "source": [
    "## Short Breakout Exercise (one-liner, a bit of a brain teaser...)\n",
    "\n",
    "## If someone gives you an array that has been sorted in ascending order \n",
    "\n",
    "x_arr_sorted = [ 0.2  0.4  0.5  0.9]\n",
    "\n",
    "## and the sorted indices\n",
    "\n",
    "sorted_idx = [1 2 3 0]\n",
    "\n",
    "## How do you get the original array (let's call it arr) back?"
   ]
  },
  {
   "cell_type": "markdown",
   "metadata": {},
   "source": [
    "## Before I show you the solution..."
   ]
  },
  {
   "cell_type": "markdown",
   "metadata": {},
   "source": [
    "## When we sorted x_arr into an ascending order, the indices or x_arr got scrambled and are no longer squential.\n",
    "\n",
    "## Now you want to put these indices back in the original order, that is, the sequential order.  Another way of saying that is to order the indices in idx_ordered:\n",
    "\n",
    "## $$ [1\\, 2\\, 3\\, 0]  \\rightarrow [0\\,1\\,2\\,3]$$\n",
    "\n",
    "\n",
    "## Also, note that there is a one-to-one correspondence between sorted_idx and x_arr_sorted (the original index of every element in x_arr_sorted is stored in sorted_idx).\n",
    "\n",
    "\n",
    "## \\begin{array}{llll}\n",
    "[\\mkern-18mu&1 &2 &3 &0]\\\\\n",
    "&\\downarrow &\\downarrow &\\downarrow &\\downarrow \\\\\n",
    "[& 0.2 &0.4 &0.5 &0.9] \\\\\n",
    "\\end{array}\n",
    "\n",
    "\n",
    "## So...let's sort sorted_idx back into sequential order and get the set of instructions to accomplish that. \n",
    "\n",
    "## Well, argsort does exactly that if we apply it to sorted_idx.\n",
    "\n",
    "## Then impose that set of instructions on x_arr_sorted, and you would have gotten the original array back. And we know the way to obtain the instruction is by applying np.argsort.\n",
    "\n",
    "## In summary:\n",
    "\n",
    "## we apply np.argsort to sorted_idx to get the instruction and then impose the instruction on x_arry_sorted.\n",
    "\n",
    "## Breakout Exercise: implement this.\n",
    "\n",
    "<br>\n",
    "<br>"
   ]
  },
  {
   "cell_type": "code",
   "execution_count": 5,
   "metadata": {},
   "outputs": [
    {
     "name": "stdout",
     "output_type": "stream",
     "text": [
      "Original array:  [0.9 0.2 0.4 0.5]\n",
      "... sorted in ascending order:  [0.2 0.4 0.5 0.9]\n",
      "Indices used for sorting:  [1 2 3 0]\n",
      "Original array restored:  [0.9 0.2 0.4 0.5]\n"
     ]
    }
   ],
   "source": [
    "print(\"Original array: \", x_arr)\n",
    "print('... sorted in ascending order: ', x_arr_sorted)\n",
    "print('Indices used for sorting: ', sorted_idx)\n",
    "x_arr_back = x_arr_sorted[np.argsort(sorted_idx)]\n",
    "print('Original array restored: ', x_arr_back)"
   ]
  },
  {
   "cell_type": "markdown",
   "metadata": {},
   "source": [
    "## Lab: $\\chi^2$, PDF, and CDF (Later: Confidence Levels)"
   ]
  },
  {
   "cell_type": "markdown",
   "metadata": {},
   "source": [
    "## Lab Breakout Exercise 1:\n",
    "\n",
    "## First, the simplest problem, a one-parameter model:\n",
    "\n",
    "-  ## Simulate 2000 data points -- Gaussian random numbers with mu = 10. and sigma = 2.\n",
    "\n",
    "-  ## Plot histogram.\n",
    "\n",
    "-  ## Calculate chi^2; find the minimum chi^2.\n",
    "\n",
    "-  ## Get Probability Distribution Function (PDF) from $e^{-\\Delta\\chi^2/2}$ .\n",
    "\n",
    "-  ## Plot PDF.\n",
    "\n"
   ]
  },
  {
   "cell_type": "code",
   "execution_count": 6,
   "metadata": {},
   "outputs": [
    {
     "name": "stdout",
     "output_type": "stream",
     "text": [
      "Range of yd: 4.6001 - 16.1641\n",
      "ybest = 9.9700\n",
      "<yd> = 9.9739\n",
      "chi^2 min = 459.0891\n"
     ]
    },
    {
     "data": {
      "image/png": "[encoded data removed]",
      "text/plain": [
       "<Figure size 432x288 with 1 Axes>"
      ]
     },
     "metadata": {
      "needs_background": "light"
     },
     "output_type": "display_data"
    },
    {
     "data": {
      "image/png": "[encoded data removed]",
      "text/plain": [
       "<Figure size 432x288 with 1 Axes>"
      ]
     },
     "metadata": {
      "needs_background": "light"
     },
     "output_type": "display_data"
    },
    {
     "data": {
      "image/png": "[encoded data removed]",
      "text/plain": [
       "<Figure size 432x288 with 1 Axes>"
      ]
     },
     "metadata": {
      "needs_background": "light"
     },
     "output_type": "display_data"
    },
    {
     "data": {
      "image/png": "[encoded data removed]",
      "text/plain": [
       "<Figure size 432x288 with 1 Axes>"
      ]
     },
     "metadata": {
      "needs_background": "light"
     },
     "output_type": "display_data"
    }
   ],
   "source": [
    "# Simulate 500 data points\n",
    "\n",
    "mu = 10.\n",
    "sigma = 2.\n",
    "\n",
    "N = 500\n",
    "yd = np.random.randn(N) * sigma + mu\n",
    "\n",
    "nbins = 20\n",
    "plt.hist(yd, bins=nbins, density=1)\n",
    "plt.xlabel('t_i')\n",
    "\n",
    "chi2 = []\n",
    "\n",
    "ylow, yhigh = yd.min(), yd.max()\n",
    "print('Range of yd: {:.4f} - {:.4f}'.format(ylow, yhigh))\n",
    "\n",
    "#chi2\n",
    "ys = np.linspace(9.5, 10.5, 101)\n",
    "chi2_min = 1e6\n",
    "for y_guess in ys:\n",
    "    #you test every single guess by calculating chi2\n",
    "    chi2_single = ((yd - y_guess) ** 2 / sigma**2).sum()\n",
    "    if chi2_single < chi2_min:\n",
    "        chi2_min = chi2_single\n",
    "        y_best = y_guess\n",
    "    chi2.append(chi2_single)\n",
    "    \n",
    "#y_best should agree with yd.mean\n",
    "print('ybest = {:.4f}'.format(y_best))\n",
    "print('<yd> = {:.4f}'.format(yd.mean()))\n",
    "\n",
    "print('chi^2 min = {:.4f}'.format(chi2_min))\n",
    "#print(chi2)\n",
    "\n",
    "#Probability Distribution Function (PDF):\n",
    "chi2 = np.array(chi2)\n",
    "del_chi2 = chi2 - chi2.min()\n",
    "#e^(-delta(chi^2)/2)\n",
    "PDF=np.exp(-del_chi2/2)\n",
    "PDF /= PDF.sum()\n",
    "#print(PDF), PDF is an array of 500\n",
    "#print('Probability Distribution Function (PDF):')\n",
    "plt.figure()\n",
    "plt.plot(ys, PDF)\n",
    "plt.title('Probability Distribution Function')\n",
    "plt.ylabel('Probability')\n",
    "plt.xlabel('T')\n",
    "plt.show()\n",
    "\n",
    "\n",
    "plt.figure()\n",
    "plt.plot(ys, chi2)\n",
    "plt.title('Chi^2')\n",
    "plt.ylabel(r'$\\chi^2$')\n",
    "plt.xlabel('T')\n",
    "plt.show()\n",
    "\n",
    "CDF = PDF.cumsum()\n",
    "\n",
    "plt.figure()\n",
    "plt.title('Cummulative Distribuation Function')\n",
    "plt.ylabel('CDF')\n",
    "plt.xlabel('T')\n",
    "plt.plot(ys, CDF)\n",
    "plt.show()\n"
   ]
  },
  {
   "cell_type": "markdown",
   "metadata": {},
   "source": [
    "## Lab Breakout Exercise 2:\n",
    "\n",
    "- ## Find the Cumulative Distribution Function (CDF) by using the numpy array method .cumsum\n",
    "\n",
    "- ## Then plot the CDF"
   ]
  },
  {
   "cell_type": "markdown",
   "metadata": {},
   "source": [
    "## Before we start on Breakout 3:\n",
    "### 1) np.argmin()\n",
    "### 2) a numpy slicing trick"
   ]
  },
  {
   "cell_type": "code",
   "execution_count": 7,
   "metadata": {
    "collapsed": false,
    "jupyter": {
     "outputs_hidden": false
    }
   },
   "outputs": [
    {
     "name": "stdout",
     "output_type": "stream",
     "text": [
      "Maximum a: 1.5295\n",
      "b @ max a: 2.3393\n"
     ]
    }
   ],
   "source": [
    "'''\n",
    "The numpy function argmin()\n",
    "'''\n",
    "a = np.random.randn(10)\n",
    "b = a ** 2\n",
    "\n",
    "a_max = a.max()\n",
    "idx = np.argmin(np.abs(a - a_max))\n",
    "print('Maximum a: {:.4f}'.format(a_max))\n",
    "print('b @ max a: {:.4f}'.format(b[idx]))"
   ]
  },
  {
   "cell_type": "code",
   "execution_count": 8,
   "metadata": {},
   "outputs": [
    {
     "name": "stdout",
     "output_type": "stream",
     "text": [
      "[ 1.  2.  3.  4.  5.  6.  7.  8.  9. 10. 11. 12. 13. 14. 15. 16. 17. 18.\n",
      " 19. 20.]\n",
      "[ 3.  6.  9. 12. 15.]\n",
      "[ 3.  6.  9. 12. 15. 18.]\n",
      "[ 1.  4.  7. 10. 13. 16. 19.]\n",
      "[ 1.  2.  3.  4.  5.  6.  7.  8.  9. 10. 11. 12. 13. 14. 15. 16. 17. 18.\n",
      " 19. 20.]\n",
      "[20. 19. 18. 17. 16. 15. 14. 13. 12. 11. 10.  9.  8.  7.  6.  5.  4.  3.\n",
      "  2.  1.]\n"
     ]
    }
   ],
   "source": [
    "#np slicing trick\n",
    "\n",
    "a=np.linspace(1, 20, 20)\n",
    "print(a)\n",
    "print(a[2:15:3])\n",
    "print(a[2::3])\n",
    "print(a[::3])\n",
    "print(a[::1])\n",
    "print(a[::-1])"
   ]
  },
  {
   "cell_type": "markdown",
   "metadata": {},
   "source": [
    "## Lab Breakout Exercsise 3\n",
    "## a) Find \"one-sided\" PDF by \"folding\" the PDF around its peak (consider using np.concatenate())\n",
    "## b) Find the \"one-sided\" CDF  \n",
    "## c) Use this CDF to find the $1\\text{-}\\sigma$ and  $2\\text{-}\\sigma$ of the distribution."
   ]
  },
  {
   "cell_type": "markdown",
   "metadata": {},
   "source": [
    "# End of Week 3-1"
   ]
  },
  {
   "cell_type": "code",
   "execution_count": 72,
   "metadata": {},
   "outputs": [
    {
     "data": {
      "image/png": "[encoded data removed]",
      "text/plain": [
       "<Figure size 432x288 with 1 Axes>"
      ]
     },
     "metadata": {
      "needs_background": "light"
     },
     "output_type": "display_data"
    }
   ],
   "source": [
    "#concatenate\n",
    "x=ys-y_best\n",
    "idx = np.argmin(np.abs(x))\n",
    "\n",
    "\n",
    "neg_idx = x<0\n",
    "pos_idx = x>=0\n",
    "\n",
    "neg_x=x[neg_idx]\n",
    "pos_x=x[pos_idx]\n",
    "\n",
    "neg_PDF = PDF[neg_idx]\n",
    "pos_PDF = PDF[pos_idx]\n",
    "\n",
    "one_PDF = np.concatenate((neg_PDF, pos_PDF))\n",
    "\n",
    "newx=np.concatenate((-neg_x, pos_x))\n",
    "#print(one_PDF)\n",
    "sort_i = np.argsort(one_PDF)[::-1]\n",
    "#print(sort_i)\n",
    "x_sort=newx[sort_i]\n",
    "P_sort=PDF[sort_i]\n",
    "#print(one_PDF)\n",
    "plt.figure()\n",
    "#plt.plot(x_sort+y_best, P_sort, '.')\n",
    "plt.plot(x_sort, P_sort, '.')\n",
    "plt.title('One Sided Probability Density Function')\n",
    "plt.ylabel('Probability')\n",
    "plt.xlabel('T')\n",
    "plt.show()\n",
    "\n",
    "\n",
    "\n",
    "\n",
    "\n"
   ]
  },
  {
   "cell_type": "code",
   "execution_count": 86,
   "metadata": {},
   "outputs": [
    {
     "name": "stdout",
     "output_type": "stream",
     "text": [
      "0.08999999999999986\n",
      "0.6859090814617536\n",
      "0.16999999999999993\n",
      "0.9495049535637357\n",
      "0.2599999999999998\n",
      "0.9969392115112807\n"
     ]
    },
    {
     "data": {
      "image/png": "[encoded data removed]",
      "text/plain": [
       "<Figure size 432x288 with 1 Axes>"
      ]
     },
     "metadata": {
      "needs_background": "light"
     },
     "output_type": "display_data"
    }
   ],
   "source": [
    "one_CDF = P_sort.cumsum()\n",
    "\n",
    "#1 sigma should be 0.68\n",
    "#where 0.1 T crosses curve\n",
    "idxsig1=np.argmin(np.abs(one_CDF-.68))\n",
    "print(x_sort[idxsig1])\n",
    "sig1=one_CDF[idxsig1]\n",
    "print(sig1)\n",
    "\n",
    "\n",
    "#2 sigma should be 0.95\n",
    "idxsig2=np.argmin(np.abs(one_CDF-.95))\n",
    "print(x_sort[idxsig2])\n",
    "sig2=one_CDF[idxsig2]\n",
    "print(sig2)\n",
    "\n",
    "#3 sigma should be 0.997\n",
    "idxsig3=np.argmin(np.abs(one_CDF-.997))\n",
    "print(x_sort[idxsig3])\n",
    "sig3=one_CDF[idxsig3]\n",
    "print(sig3)\n",
    "\n",
    "plt.figure()\n",
    "#plt.plot(x_sort+y_best, one_CDF)\n",
    "plt.plot(x_sort, one_CDF)\n",
    "#plt.plot(x_sort.index(0.1), one_CDF[10], 'x', color='r')\n",
    "plt.plot([0, x.max()],[sig1, sig1],  '--', label='1 sigma')\n",
    "plt.plot([0, x.max()],[sig2, sig2],  '--', label='2 sigma')\n",
    "plt.plot([0, x.max()],[sig3, sig3],  '--', label='3 sigma')\n",
    "#plt.plo\n",
    "plt.legend()\n",
    "plt.title('One Sided Cummulative Distribution Function')\n",
    "plt.ylabel('Probability')\n",
    "plt.xlabel('T')\n",
    "plt.show()\n",
    "\n"
   ]
  },
  {
   "cell_type": "code",
   "execution_count": null,
   "metadata": {},
   "outputs": [],
   "source": []
  },
  {
   "cell_type": "code",
   "execution_count": null,
   "metadata": {},
   "outputs": [],
   "source": []
  }
 ],
 "metadata": {
  "kernelspec": {
   "display_name": "Python 3",
   "language": "python",
   "name": "python3"
  },
  "language_info": {
   "codemirror_mode": {
    "name": "ipython",
    "version": 3
   },
   "file_extension": ".py",
   "mimetype": "text/x-python",
   "name": "python",
   "nbconvert_exporter": "python",
   "pygments_lexer": "ipython3",
   "version": "3.8.3"
  }
 },
 "nbformat": 4,
 "nbformat_minor": 4
}
