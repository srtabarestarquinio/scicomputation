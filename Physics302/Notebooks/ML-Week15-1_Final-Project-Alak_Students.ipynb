{
 "cells": [
  {
   "cell_type": "markdown",
   "metadata": {},
   "source": [
    "# Alpha Rlease of the Final Project\n",
    "\n",
    "## 1. Color text at the stdout\n",
    "## 2. Taking user input\n",
    "## 3. Assert\n",
    "## 4. Checking legality of move\n",
    "## 5. Ability to play either side\n",
    "## 6. Alpha-release of Alak\n"
   ]
  },
  {
   "cell_type": "code",
   "execution_count": 1,
   "metadata": {
    "collapsed": false,
    "jupyter": {
     "outputs_hidden": false
    }
   },
   "outputs": [],
   "source": [
    "%matplotlib inline\n",
    "# All imports\n",
    "\n",
    "import numpy as np\n",
    "\n",
    "import sklearn\n",
    "from sklearn.neural_network import MLPRegressor, MLPClassifier\n",
    "from sklearn.model_selection import train_test_split\n",
    "\n",
    "import pickle\n",
    "np.set_printoptions(formatter={'float': '{:.5f}'.format})\n"
   ]
  },
  {
   "cell_type": "markdown",
   "metadata": {},
   "source": [
    "## 1. Color text at the stdout"
   ]
  },
  {
   "cell_type": "code",
   "execution_count": 3,
   "metadata": {},
   "outputs": [
    {
     "name": "stdout",
     "output_type": "stream",
     "text": [
      "\u001b[31msome red text\n",
      "\u001b[42mand with a green background\n",
      "\u001b[2mand in dim text\n",
      "\u001b[0m\n",
      "back to normal now\n"
     ]
    }
   ],
   "source": [
    "'''\n",
    "if necessary:\n",
    "\n",
    "> conda install -c anaconda colorama\n",
    "\n",
    "or\n",
    "\n",
    "> pip install colorama\n",
    "\n",
    "For more info, see:\n",
    "\n",
    "https://pypi.python.org/pypi/colorama\n",
    "\n",
    "'''\n",
    "from colorama import Fore, Back, Style\n",
    "print(Fore.RED + 'some red text')\n",
    "print(Back.GREEN + 'and with a green background')\n",
    "print(Style.DIM + 'and in dim text')\n",
    "print(Style.RESET_ALL)\n",
    "\n",
    "print('back to normal now')\n"
   ]
  },
  {
   "cell_type": "markdown",
   "metadata": {},
   "source": [
    "## 2. Taking user input"
   ]
  },
  {
   "cell_type": "code",
   "execution_count": 3,
   "metadata": {},
   "outputs": [
    {
     "name": "stdin",
     "output_type": "stream",
     "text": [
      "Prompt:  awesome\n"
     ]
    },
    {
     "name": "stdout",
     "output_type": "stream",
     "text": [
      "awesome\n",
      "<class 'str'>\n"
     ]
    }
   ],
   "source": [
    "mydata = input('Prompt: ')\n",
    "print(mydata)\n",
    "print(type(mydata))"
   ]
  },
  {
   "cell_type": "markdown",
   "metadata": {},
   "source": [
    "## 3. Assert"
   ]
  },
  {
   "cell_type": "code",
   "execution_count": 4,
   "metadata": {},
   "outputs": [],
   "source": [
    "# The assert statement\n",
    "a = 2\n",
    "assert a == 2 "
   ]
  },
  {
   "cell_type": "code",
   "execution_count": 5,
   "metadata": {},
   "outputs": [
    {
     "ename": "AssertionError",
     "evalue": "",
     "output_type": "error",
     "traceback": [
      "\u001b[0;31m---------------------------------------------------------------------------\u001b[0m",
      "\u001b[0;31mAssertionError\u001b[0m                            Traceback (most recent call last)",
      "\u001b[0;32m<ipython-input-5-168d38c8f63e>\u001b[0m in \u001b[0;36m<module>\u001b[0;34m\u001b[0m\n\u001b[1;32m      1\u001b[0m \u001b[0ma\u001b[0m \u001b[0;34m=\u001b[0m \u001b[0;36m2\u001b[0m\u001b[0;34m\u001b[0m\u001b[0;34m\u001b[0m\u001b[0m\n\u001b[0;32m----> 2\u001b[0;31m \u001b[0;32massert\u001b[0m \u001b[0ma\u001b[0m \u001b[0;34m==\u001b[0m \u001b[0;36m3\u001b[0m\u001b[0;34m\u001b[0m\u001b[0;34m\u001b[0m\u001b[0m\n\u001b[0m",
      "\u001b[0;31mAssertionError\u001b[0m: "
     ]
    }
   ],
   "source": [
    "a = 2\n",
    "assert a == 3 "
   ]
  },
  {
   "cell_type": "code",
   "execution_count": 8,
   "metadata": {},
   "outputs": [
    {
     "name": "stdout",
     "output_type": "stream",
     "text": [
      "1 is not equal to 2!\n"
     ]
    }
   ],
   "source": [
    "'''Catching the exception thrown by assert'''\n",
    "try:\n",
    "    assert 1 == 2\n",
    "except:\n",
    "    print('1 is not equal to 2!')\n",
    "else:\n",
    "    print('Everything is fine.')"
   ]
  },
  {
   "cell_type": "code",
   "execution_count": 5,
   "metadata": {},
   "outputs": [],
   "source": [
    "'''\n",
    "*Part* of my test method -- it's only an example! And not meant to be run!\n",
    "\n",
    "It's probably not \"plug-and-play\" depending on how your write your class!\n",
    "\n",
    "'''\n",
    "\n",
    "def test_remove(self, verbose=False):\n",
    "    '''\n",
    "    The tests include, for both sides:\n",
    "    - simple kill\n",
    "    - double kill \n",
    "    - double kill that involves more than one piece \n",
    "    - suicide moves.\n",
    "    '''\n",
    "\n",
    "    board_list = ['xoxoxx____', 'xooxooxx__', '__xoo__oxo', '_xoxxxoo____', '_x_oxxoo____',  '_xoxx___x_']\n",
    "    board_expect = ['x_x_xx____', 'x__x__xx__', '__xoo__o_o', '_xo___oo____', '_x_o__oo____', '_x_xx___x_']\n",
    "    off_side = ['x', 'x', 'x', 'o', 'o', 'o']\n",
    "    fail_num = 0\n",
    "    print(\"Testing test_remove after move from offensive side:\")\n",
    "    for i, board in enumerate(board_list):\n",
    "        print(\"\\nAfter {:s} move:\".format(off_side[i]))\n",
    "\n",
    "        # set board to be the way I want\n",
    "        self.__init__(board)\n",
    "        if verbose:\n",
    "            print(\"Test {:d}\".format(i))\n",
    "            print('Board: ', self.board)\n",
    "        self.check_capture(off_side[i], verbose=verbose)\n",
    "        try:\n",
    "            assert self.board == board_expect[i]\n",
    "        except:\n",
    "            print('i', i)\n",
    "            fail_num += 1\n",
    "    tot_num = len(board_list)\n",
    "    print('{:d} out of {:d} tests passed'.format(len(board_list) - fail_num, len(board_list)))\n",
    "    if fail_num > 0:\n",
    "        print(Fore.RED + '{:d} out of {:d} tests failed'.format(fail_num, len(board_list)))\n"
   ]
  },
  {
   "cell_type": "code",
   "execution_count": 9,
   "metadata": {},
   "outputs": [
    {
     "name": "stdout",
     "output_type": "stream",
     "text": [
      "Starting Game:\n",
      "Your side is 'o'\n",
      "\n",
      "round: 0\n",
      "\n",
      "Board: xxxx__oooo\n",
      "       0123456789\n",
      "x : 3 ==> 4\n",
      "Board: xxx_x_oooo\n",
      "       0123456789\n",
      "\u001b[33mgain: 0\n",
      "\u001b[0m\n",
      "o : 7 ==> 3\n",
      "Board: xxxox_o_oo\n",
      "       0123456789\n",
      "\u001b[41mSuicide move!\n",
      "\u001b[0m\n",
      "Board: xxx_x_o_oo\n",
      "       0123456789\n",
      "\u001b[31mgain: -1\n",
      "\u001b[0m\n",
      "\n",
      "round: 1\n",
      "\n",
      "Board: xxx_x_o_oo\n",
      "       0123456789\n",
      "x : 4 ==> 7\n",
      "Board: xxx___oxoo\n",
      "       0123456789\n",
      "\u001b[41mSuicide move!\n",
      "\u001b[0m\n",
      "Board: xxx___o_oo\n",
      "       0123456789\n",
      "\u001b[31mgain: -1\n",
      "\u001b[0m\n",
      "o : 8 ==> 5\n",
      "Board: xxx__oo__o\n",
      "       0123456789\n",
      "\u001b[33mgain: 0\n",
      "\u001b[0m\n",
      "\n",
      "round: 2\n",
      "\n",
      "Board: xxx__oo__o\n",
      "       0123456789\n",
      "x : 0 ==> 3\n",
      "Board: _xxx_oo__o\n",
      "       0123456789\n",
      "\u001b[33mgain: 0\n",
      "\u001b[0m\n",
      "o : 9 ==> 0\n",
      "Board: oxxx_oo___\n",
      "       0123456789\n",
      "\u001b[33mgain: 0\n",
      "\u001b[0m\n",
      "\n",
      "round: 3\n",
      "\n",
      "Board: oxxx_oo___\n",
      "       0123456789\n",
      "x : 1 ==> 7\n",
      "Board: o_xx_oox__\n",
      "       0123456789\n",
      "\u001b[33mgain: 0\n",
      "\u001b[0m\n",
      "o : 0 ==> 8\n",
      "Board: __xx_ooxo_\n",
      "       0123456789\n",
      "Board: __xx_oo_o_\n",
      "       0123456789\n",
      "\u001b[36mgain: 1\n",
      "\u001b[0m\n",
      "\n",
      "round: 4\n",
      "\n",
      "Board: __xx_oo_o_\n",
      "       0123456789\n",
      "x : 3 ==> 9\n",
      "Board: __x__oo_ox\n",
      "       0123456789\n",
      "\u001b[33mgain: 0\n",
      "\u001b[0m\n",
      "o : 8 ==> 7\n",
      "Board: __x__ooo_x\n",
      "       0123456789\n",
      "\u001b[33mgain: 0\n",
      "\u001b[0m\n",
      "\n",
      "round: 5\n",
      "\n",
      "Board: __x__ooo_x\n",
      "       0123456789\n",
      "x : 2 ==> 3\n",
      "Board: ___x_ooo_x\n",
      "       0123456789\n",
      "\u001b[33mgain: 0\n",
      "\u001b[0m\n",
      "o : 5 ==> 0\n",
      "Board: o__x__oo_x\n",
      "       0123456789\n",
      "\u001b[33mgain: 0\n",
      "\u001b[0m\n",
      "\n",
      "round: 6\n",
      "\n",
      "Board: o__x__oo_x\n",
      "       0123456789\n",
      "x : 3 ==> 4\n",
      "Board: o___x_oo_x\n",
      "       0123456789\n",
      "\u001b[33mgain: 0\n",
      "\u001b[0m\n",
      "o : 6 ==> 3\n",
      "Board: o__ox__o_x\n",
      "       0123456789\n",
      "\u001b[33mgain: 0\n",
      "\u001b[0m\n",
      "\n",
      "round: 7\n",
      "\n",
      "Board: o__ox__o_x\n",
      "       0123456789\n",
      "x : 9 ==> 8\n",
      "Board: o__ox__ox_\n",
      "       0123456789\n",
      "\u001b[33mgain: 0\n",
      "\u001b[0m\n",
      "o : 3 ==> 6\n",
      "Board: o___x_oox_\n",
      "       0123456789\n",
      "\u001b[33mgain: 0\n",
      "\u001b[0m\n",
      "\n",
      "round: 8\n",
      "\n",
      "Board: o___x_oox_\n",
      "       0123456789\n",
      "x : 8 ==> 2\n",
      "Board: o_x_x_oo__\n",
      "       0123456789\n",
      "\u001b[33mgain: 0\n",
      "\u001b[0m\n",
      "o : 6 ==> 3\n",
      "Board: o_xox__o__\n",
      "       0123456789\n",
      "\u001b[41mSuicide move!\n",
      "\u001b[0m\n",
      "Board: o_x_x__o__\n",
      "       0123456789\n",
      "\u001b[31mgain: -1\n",
      "\u001b[0m\n",
      "\n",
      "round: 9\n",
      "\n",
      "Board: o_x_x__o__\n",
      "       0123456789\n",
      "x : 2 ==> 8\n",
      "Board: o___x__ox_\n",
      "       0123456789\n",
      "\u001b[33mgain: 0\n",
      "\u001b[0m\n",
      "o : 0 ==> 5\n",
      "Board: ____xo_ox_\n",
      "       0123456789\n",
      "\u001b[33mgain: 0\n",
      "\u001b[0m\n",
      "\n",
      "round: 10\n",
      "\n",
      "Board: ____xo_ox_\n",
      "       0123456789\n",
      "x : 4 ==> 2\n",
      "Board: __x__o_ox_\n",
      "       0123456789\n",
      "\u001b[33mgain: 0\n",
      "\u001b[0m\n",
      "o : 7 ==> 0\n",
      "Board: o_x__o__x_\n",
      "       0123456789\n",
      "\u001b[33mgain: 0\n",
      "\u001b[0m\n",
      "\n",
      "round: 11\n",
      "\n",
      "Board: o_x__o__x_\n",
      "       0123456789\n",
      "x : 8 ==> 1\n",
      "Board: oxx__o____\n",
      "       0123456789\n",
      "\u001b[33mgain: 0\n",
      "\u001b[0m\n",
      "o : 5 ==> 8\n",
      "Board: oxx_____o_\n",
      "       0123456789\n",
      "\u001b[33mgain: 0\n",
      "\u001b[0m\n",
      "\n",
      "round: 12\n",
      "\n",
      "Board: oxx_____o_\n",
      "       0123456789\n",
      "x : 1 ==> 7\n",
      "Board: o_x____xo_\n",
      "       0123456789\n",
      "\u001b[33mgain: 0\n",
      "\u001b[0m\n",
      "o : 8 ==> 5\n",
      "Board: o_x__o_x__\n",
      "       0123456789\n",
      "\u001b[33mgain: 0\n",
      "\u001b[0m\n",
      "\n",
      "round: 13\n",
      "\n",
      "Board: o_x__o_x__\n",
      "       0123456789\n",
      "x : 2 ==> 4\n",
      "Board: o___xo_x__\n",
      "       0123456789\n",
      "\u001b[33mgain: 0\n",
      "\u001b[0m\n",
      "o : 5 ==> 8\n",
      "Board: o___x__xo_\n",
      "       0123456789\n",
      "\u001b[33mgain: 0\n",
      "\u001b[0m\n",
      "\n",
      "round: 14\n",
      "\n",
      "Board: o___x__xo_\n",
      "       0123456789\n",
      "x : 7 ==> 3\n",
      "Board: o__xx___o_\n",
      "       0123456789\n",
      "\u001b[33mgain: 0\n",
      "\u001b[0m\n",
      "o : 0 ==> 2\n",
      "Board: __oxx___o_\n",
      "       0123456789\n",
      "\u001b[33mgain: 0\n",
      "\u001b[0m\n",
      "\n",
      "round: 15\n",
      "\n",
      "Board: __oxx___o_\n",
      "       0123456789\n",
      "x : 4 ==> 1\n",
      "Board: _xox____o_\n",
      "       0123456789\n",
      "Board: _x_x____o_\n",
      "       0123456789\n",
      "\u001b[36mgain: 1\n",
      "\u001b[0m\n",
      "Game Over!  The 'x' side won.\n",
      "Game over.\n",
      "o : 8 ==> 5\n",
      "Board: _x_x_o____\n",
      "       0123456789\n",
      "\u001b[33mgain: 0\n",
      "\u001b[0m\n",
      "Game Over!  The 'x' side won.\n",
      "Game over.\n"
     ]
    }
   ],
   "source": [
    "game = Alak(random=True, show_mv=True) #, interactive=True)\n",
    "game.play()"
   ]
  },
  {
   "cell_type": "code",
   "execution_count": 10,
   "metadata": {},
   "outputs": [
    {
     "data": {
      "text/plain": [
       "True"
      ]
     },
     "execution_count": 10,
     "metadata": {},
     "output_type": "execute_result"
    }
   ],
   "source": [
    "game.suicide"
   ]
  },
  {
   "cell_type": "code",
   "execution_count": 11,
   "metadata": {},
   "outputs": [
    {
     "name": "stdout",
     "output_type": "stream",
     "text": [
      "16 (16,)\n",
      "[[-1 -1 -1  0 -1  0  1  1  1  1 -1 -1 -1  0 -1  0  1  0  1  1]\n",
      " [-1 -1 -1  0  0  0  1  0  1  1 -1 -1 -1  0  0  1  1  0  0  1]\n",
      " [ 0 -1 -1 -1  0  1  1  0  0  1  1 -1 -1 -1  0  1  1  0  0  0]\n",
      " [ 1  0 -1 -1  0  1  1 -1  0  0  0  0 -1 -1  0  1  1  0  1  0]\n",
      " [ 0  0 -1  0  0  1  1  0  1 -1  0  0 -1  0  0  1  1  1  0 -1]\n",
      " [ 0  0  0 -1  0  1  1  1  0 -1  1  0  0 -1  0  0  1  1  0 -1]\n",
      " [ 1  0  0  0 -1  0  1  1  0 -1  1  0  0  1 -1  0  0  1  0 -1]\n",
      " [ 1  0  0  1 -1  0  0  1 -1  0  1  0  0  0 -1  0  1  1 -1  0]\n",
      " [ 1  0 -1  0 -1  0  1  1  0  0  1  0 -1  0 -1  0  0  1  0  0]\n",
      " [ 1  0  0  0 -1  0  0  1 -1  0  0  0  0  0 -1  1  0  1 -1  0]\n",
      " [ 0  0 -1  0  0  1  0  1 -1  0  1  0 -1  0  0  1  0  0 -1  0]\n",
      " [ 1 -1 -1  0  0  1  0  0  0  0  1 -1 -1  0  0  0  0  0  1  0]\n",
      " [ 1  0 -1  0  0  0  0 -1  1  0  1  0 -1  0  0  1  0 -1  0  0]\n",
      " [ 1  0  0  0 -1  1  0 -1  0  0  1  0  0  0 -1  0  0 -1  1  0]\n",
      " [ 1  0  0 -1 -1  0  0  0  1  0  0  0  1 -1 -1  0  0  0  1  0]\n",
      " [ 0 -1  0 -1  0  0  0  0  1  0  0 -1  0 -1  0  1  0  0  0  0]]\n",
      "[0 0 0 0 0 0 0 0 0 0 0 0 0 0 0 0]\n"
     ]
    }
   ],
   "source": [
    "print(game.X.shape[0], game.y.shape)\n",
    "print(game.X)\n",
    "print(game.y)\n",
    "#x = -1\n",
    "#o = 1\n",
    "#_ = 0"
   ]
  },
  {
   "cell_type": "markdown",
   "metadata": {},
   "source": [
    "## You can use np.vstack() to combine the results of many games for "
   ]
  },
  {
   "cell_type": "code",
   "execution_count": 12,
   "metadata": {},
   "outputs": [
    {
     "name": "stdout",
     "output_type": "stream",
     "text": [
      "Testing test_remove after move from offensive side:\n",
      "\n",
      "After x move:\n",
      "Test 0\n",
      "Board:  xoxoxx____\n",
      "\n",
      "After x move:\n",
      "Test 1\n",
      "Board:  xooxooxx__\n",
      "\n",
      "After x move:\n",
      "Test 2\n",
      "Board:  __xoo__oxo\n",
      "\n",
      "After o move:\n",
      "Test 3\n",
      "Board:  _xoxxxoo____\n",
      "\n",
      "After o move:\n",
      "Test 4\n",
      "Board:  _x_oxxoo____\n",
      "\n",
      "After o move:\n",
      "Test 5\n",
      "Board:  _xoxx___x_\n",
      "6 out of 6 tests passed\n"
     ]
    }
   ],
   "source": [
    "game.show_mv=True\n",
    "game.test_remove(verbose=True)"
   ]
  },
  {
   "cell_type": "code",
   "execution_count": null,
   "metadata": {
    "collapsed": false,
    "jupyter": {
     "outputs_hidden": false
    }
   },
   "outputs": [
    {
     "name": "stdout",
     "output_type": "stream",
     "text": [
      "Starting Game:\n",
      "Your side is 'o'\n",
      "\n",
      "round: 0\n",
      "\n",
      "Board: xxxx__oooo\n",
      "       0123456789\n",
      "x : 2 ==> 4\n",
      "Board: xx_xx_oooo\n",
      "       0123456789\n",
      "\u001b[33mgain: 0\n",
      "\u001b[0m\n",
      "Please enter your move:\n"
     ]
    },
    {
     "name": "stdin",
     "output_type": "stream",
     "text": [
      "Select piece(i): 6\n",
      "Select position(j): 7\n"
     ]
    },
    {
     "name": "stdout",
     "output_type": "stream",
     "text": [
      "moving 6 ==> 7\n",
      "illegal move, please try again.\n",
      "You may select (i): [6 7 8 9]\n",
      "You may move to (j): [2 5]\n",
      "Please enter your move:\n"
     ]
    },
    {
     "name": "stdin",
     "output_type": "stream",
     "text": [
      "Select piece(i): 6\n",
      "Select position(j): 5\n"
     ]
    },
    {
     "name": "stdout",
     "output_type": "stream",
     "text": [
      "moving 6 ==> 5\n",
      "o : 6 ==> 5\n",
      "Board: xx_xxo_ooo\n",
      "       0123456789\n",
      "\u001b[33mgain: 0\n",
      "\u001b[0m\n",
      "\n",
      "round: 1\n",
      "\n",
      "Board: xx_xxo_ooo\n",
      "       0123456789\n",
      "x : 4 ==> 2\n",
      "Board: xxxx_o_ooo\n",
      "       0123456789\n",
      "\u001b[33mgain: 0\n",
      "\u001b[0m\n",
      "Please enter your move:\n"
     ]
    }
   ],
   "source": [
    "game = Alak(interactive=True, random=False, show_mv=True) #, interactive=True)\n",
    "game.play()"
   ]
  },
  {
   "cell_type": "markdown",
   "metadata": {},
   "source": [
    "# End of Week15-1"
   ]
  }
 ],
 "metadata": {
  "kernelspec": {
   "display_name": "Python 3",
   "language": "python",
   "name": "python3"
  },
  "language_info": {
   "codemirror_mode": {
    "name": "ipython",
    "version": 3
   },
   "file_extension": ".py",
   "mimetype": "text/x-python",
   "name": "python",
   "nbconvert_exporter": "python",
   "pygments_lexer": "ipython3",
   "version": "3.8.3"
  }
 },
 "nbformat": 4,
 "nbformat_minor": 4
}
