{
 "cells": [
  {
   "cell_type": "markdown",
   "metadata": {},
   "source": [
    "# Lecture Week 2-1"
   ]
  },
  {
   "cell_type": "markdown",
   "metadata": {},
   "source": [
    "## Topics\n",
    "\n",
    "## I. Regression -- Fitting for Two Parameters\n",
    "\n",
    "### &nbsp; &nbsp; &nbsp; &nbsp;  A) Uniform Variance\n",
    "### &nbsp; &nbsp; &nbsp; &nbsp;  B) Non-uniform Variance\n",
    "### &nbsp; &nbsp; &nbsp; &nbsp;  C) $\\rm{\\chi}^2$ Fitting\n",
    "### &nbsp; &nbsp; &nbsp; &nbsp;  D) Reduced $\\rm{\\chi}^2$\n",
    "\n",
    "   \n",
    "## II. Probability and $\\chi^2$ \n",
    "\n",
    "### &nbsp; &nbsp; &nbsp; &nbsp;  A) PDF (Probability Density Function)\n",
    "### &nbsp; &nbsp; &nbsp; &nbsp;  B) CDF (Cumulative Density Function)\n",
    "\n",
    "\n",
    "\n",
    "## Lab: \n",
    "\n",
    "## The remaining 2 parts from last time (Week 1-2) \n",
    "\n",
    "<br>\n",
    "<br>"
   ]
  },
  {
   "cell_type": "markdown",
   "metadata": {},
   "source": [
    "## I. (Linear) Regression -- Fitting for Two Parameters:\n",
    "\n",
    "### Let's use a simple example: $x$ is time and $y$ is the temperature.  Our goal is to model how the temperature increases in the morning.  The simplest model for this phenomenon is a straight line.\n",
    "\n",
    "### In the one-parameter problem, the data points are room temperature measurement from $N$ thermometers.  Depending on the actual temperature, all $N$ measurement results can shift up and down together.  That is one degree of freedom.\n",
    "\n",
    "### Now, imagine plotting the the temperature measurements made at different times vs. time.  The points can certainly still shift up and down together, depending on whether it's a hot day or a cold day.  But they can also tilt, depending on how fast the temperature is rising with time.  Hence, two degrees of freedom.\n",
    "\n",
    "### Note: Time usually is considered to be measured with much higher precision than temperature.  So we take $x$ as given, and treat $y$ as the measurements (Gaussian random numbers)."
   ]
  },
  {
   "cell_type": "markdown",
   "metadata": {},
   "source": [
    "## Modeling the data as a straight line\n",
    "\n",
    "That means we think the true relationship between a set of random numbrs (the temperature measurement results) and time is described by a straight line. \n",
    "\n",
    "The goal is then to find the slope ($m$) and intercept ($b$) that best fit the data.\n",
    "\n",
    "Our starting point last time was Week1-2, $\\S$ II.B. First calculate \n",
    "\n",
    "$$P(D|T) $$\n",
    "\n",
    "and then maximize $P(D|T)$ w.r.t. $T$.  The temperature value that maximizes this probability is our best guess for the true temperature.\n",
    "\n",
    "This time we will also start from the same place, except now there are two parameters, so we calcuate\n",
    "\n",
    "$$P(D|[m, b]) \\tag{1}$$\n",
    "\n",
    "and of course the data will consist of the Gaussian-distributed random numbers:\n",
    "\n",
    "$$D = \\{y_1, y_2, ..., y_N\\} = \\{ y_i\\}$$\n",
    "\n",
    "Then, we vary $m$ and $b$ until the likelihood of having the measured data be $D$ ($= \\{y_i\\}$) is maximized.\n",
    "\n",
    "### **The pair $[m, b]$ that maximizes this probability is our best guess for the true slope and intercept.**"
   ]
  },
  {
   "cell_type": "markdown",
   "metadata": {},
   "source": [
    "## To find the best-fit $[m, b]$:\n",
    "\n",
    "If you go through the math, you will see that maximizing the probability $P(D|[m, b])$ is the same as *minimizing*\n",
    "\n",
    "\n",
    "$$ \\sum_{i=1}^N {[y_i - f(x_i)]^2}  = \\sum_{i=1}^N {[y_i - (mx_i + b)]^2}  \\tag{2}$$\n",
    "\n",
    "\n",
    "where $f(x) = mx + b$, is the linear model.\n",
    "\n",
    "(Note: it is NOT minimizing\n",
    "\n",
    "$$ \\sum_{i=1}^N {[y_i - (mx_i + b)]}$$\n",
    "\n",
    "\n",
    "This condition is easy to satisfy: plot the $(x_i, y_i)$ in a Cartesian coordinate system and find the \"center of mass\" (CM) of the points -- any line that goes through the CM will minimize eqn (8).  Because half of the points will be above, and the other half below, such a line.  So we can't find the best-fit line this way.)\n",
    "\n",
    "The expression in (2) is called the residual sum of squares (RSS), and the problem to minimize RSS is called:\n",
    "\n",
    "### *Least-squares fitting* "
   ]
  },
  {
   "cell_type": "markdown",
   "metadata": {},
   "source": [
    "## Let's begin!"
   ]
  },
  {
   "cell_type": "markdown",
   "metadata": {},
   "source": [
    "## I.A) Uniform Variance"
   ]
  },
  {
   "cell_type": "code",
   "execution_count": 33,
   "metadata": {
    "collapsed": false,
    "jupyter": {
     "outputs_hidden": false
    }
   },
   "outputs": [
    {
     "data": {
      "image/png": "[encoded data removed]",
      "text/plain": [
       "<Figure size 432x288 with 1 Axes>"
      ]
     },
     "metadata": {
      "needs_background": "light"
     },
     "output_type": "display_data"
    }
   ],
   "source": [
    "''' \n",
    "First simulate data, N pairs of {x_i, y_i} using numpy arrays,\n",
    "\n",
    "with uniform variance.\n",
    "\n",
    "'''\n",
    "\n",
    "N = 20\n",
    "\n",
    "x = np.linspace(8, 12, N)\n",
    "m_true = 4.2\n",
    "b_true = 35\n",
    "\n",
    "y_true = m_true * x + b_true \n",
    "\n",
    "sig = 1.2\n",
    "\n",
    "# ---> This line is the key: it simulates the temperature measurements\n",
    "y = y_true + np.random.randn(x.shape[0]) * sig\n",
    "\n",
    "# 'x': the plot symbols will be crosses.\n",
    "plt.plot(x, y, 'x')\n",
    "plt.xlabel('Time')\n",
    "plt.ylabel('Temperature')\n",
    "plt.show()"
   ]
  },
  {
   "cell_type": "markdown",
   "metadata": {},
   "source": [
    "## Breakout Exercise: \n",
    "\n",
    "## Given [m, b] = [2, 50], calculate the RSS.\n",
    "\n",
    "## Start by writing a function f(m, b, x) that returns the model values for y (this is basically the f(x) two cells above), given m, b, and an array, x."
   ]
  },
  {
   "cell_type": "markdown",
   "metadata": {},
   "source": [
    "## Breakout Exercise: \n",
    "\n",
    "## Search through a range of m and b values and find the pair that minimizes RSS.  You can make use of the function f you wrote above.\n",
    "\n",
    "## You can start by searching for m in the range of (0, 10) and for b in the range of (0, 100) -- 10 steps in each direction. \n",
    "\n",
    "## At the end you should have the following statements printed.\n",
    "\n",
    "The minimum RSS: xx.xx.\n",
    "\n",
    "The best-fit slope and intercept for the simulated data are m = 4.5000 and b = 32.0000.\n",
    "\n",
    "(The input values are m_true = 4.2000 and b_true = 35.0000)."
   ]
  },
  {
   "cell_type": "markdown",
   "metadata": {},
   "source": [
    "## Breakout Exercise: \n",
    "\n",
    "## Plot the simulated data and the best-fit line in the same plot."
   ]
  },
  {
   "cell_type": "markdown",
   "metadata": {},
   "source": [
    "## To include \"error bars\" in your plot:\n",
    "\n",
    "-  ## Change plt.plot to plt.errorbar; \n",
    "\n",
    "-  ## include yerr =  sig;\n",
    "\n",
    "-  ## also pay attention to how to format the plotting symbols."
   ]
  },
  {
   "cell_type": "markdown",
   "metadata": {},
   "source": [
    "## Important to note: \n",
    "\n",
    "- ## The size of the error bars is set by the quantity sig -- the $\\sigma$ of the Gaussian, and NOT by how much each point deviates from the best-fit line.  Because rememer, in a real experiment, you don't know m_true and b_true.  The line is plotted according to your *best guess* for the slope and the intercept.\n",
    "\n",
    "- ## We assume that for each point in time\n",
    "\n",
    "    saying there is a 68% chance that the measured temperature value is within the range indicated by the error bar around the true temperature value \n",
    "    \n",
    "    is equivalent to \n",
    "    \n",
    "    saying there is a 68% chance that the true temperature value is within the range indicated by the error bars around the measured value (represented by the crosses).  \n",
    "    \n",
    "    (We will come back to the subtle difference between these two statements later in the semester.)"
   ]
  },
  {
   "cell_type": "markdown",
   "metadata": {},
   "source": [
    "## I.B) Non-uniform Variance"
   ]
  },
  {
   "cell_type": "code",
   "execution_count": 2,
   "metadata": {
    "collapsed": false,
    "jupyter": {
     "outputs_hidden": false
    }
   },
   "outputs": [
    {
     "data": {
      "image/png": "[encoded data removed]",
      "text/plain": [
       "<Figure size 432x288 with 1 Axes>"
      ]
     },
     "metadata": {
      "needs_background": "light"
     },
     "output_type": "display_data"
    }
   ],
   "source": [
    "''' \n",
    "Simulating data, N pairs of {x_i, y_i}, using numpy arrays, \n",
    "\n",
    "with non-uniform variance.\n",
    "\n",
    "'''\n",
    "import numpy as np\n",
    "import matplotlib.pyplot as plt\n",
    "\n",
    "N = 20\n",
    "\n",
    "x = np.linspace(8, 12, N)\n",
    "m_true = 4.2\n",
    "b_true = 35\n",
    "\n",
    "y_true = m_true * x + b_true\n",
    "\n",
    "# specify fractional error, say 10%, which is what occurs \n",
    "#for certain experiment. If you want to sound like a pro, \n",
    "# you say \"a signal-to-noise ratio of 10\". \n",
    "# (or S/N = 10).\n",
    "sig_frac = 0.10\n",
    "sig = y_true * sig_frac\n",
    "\n",
    "# simulate the temperature measurements\n",
    "y = y_true + np.random.randn(x.shape[0]) * sig\n",
    "\n",
    "plt.plot(x, y, 'x')\n",
    "plt.show()"
   ]
  },
  {
   "cell_type": "markdown",
   "metadata": {},
   "source": [
    "## What do we do now?"
   ]
  },
  {
   "cell_type": "markdown",
   "metadata": {},
   "source": [
    "## I.C) $\\chi^2$ fitting.\n"
   ]
  },
  {
   "cell_type": "markdown",
   "metadata": {},
   "source": [
    "## We follow the same recipe, by minimizing the probability in eqn (1) above.  After a bit of math, we get:\n",
    "\n",
    "Instead of minimizing the expression in (2), now we minimize:\n",
    "\n",
    "$$ \\chi^2 = \\sum_{i=1}^N {\\frac {[y_i - f(x_i)]^2} {\\sigma_i^2}}  = \\sum_{i=1}^N {\\frac{[y_i - (mx_i + b)]^2}  {\\sigma_i^2} } \\tag{3}$$\n",
    "\n",
    "This is no longer called least square fitting, but\n",
    "\n",
    "### $\\chi^2$-square fitting.\n",
    "\n",
    "You can think of this as \"weighted least square fitting\".  And you can see that for uniform variance $\\sigma_i = \\sigma$ eqn (3) is reduced to eqn(2), as it should.\n",
    "\n",
    "But really, even in the case of uniform variance, you should calculate $\\chi^2$; you will see why soon.\n",
    "\n",
    "(*Numerical Recipes 3rd Ed., $\\S$15.1*)\n"
   ]
  },
  {
   "cell_type": "code",
   "execution_count": 49,
   "metadata": {
    "collapsed": false,
    "jupyter": {
     "outputs_hidden": false
    }
   },
   "outputs": [
    {
     "name": "stdout",
     "output_type": "stream",
     "text": [
      "Chi Square is: 20.7196\n"
     ]
    },
    {
     "data": {
      "image/png": "[encoded data removed]",
      "text/plain": [
       "<Figure size 432x288 with 1 Axes>"
      ]
     },
     "metadata": {
      "needs_background": "light"
     },
     "output_type": "display_data"
    }
   ],
   "source": [
    "'''\n",
    "Example of chi^2 fitting.\n",
    "\n",
    "Given a pair of (m, b) calculate chi^2.\n",
    "\n",
    "'''\n",
    "\n",
    "m = 3.\n",
    "b = 45\n",
    "\n",
    "def f(m, b, x):\n",
    "    return m * x + b\n",
    "\n",
    "y_model = f(m, b, x)\n",
    "\n",
    "chi2 = ((y - y_model)**2/sig**2).sum()\n",
    "print(\"Chi Square is: {:.4f}\".format(chi2))\n",
    "plt.plot(x, y, 'x')\n",
    "plt.plot(x, f(m, b, x), 'k-')\n",
    "plt.show()\n"
   ]
  },
  {
   "cell_type": "markdown",
   "metadata": {},
   "source": [
    "## Breakout Exercise: \n",
    "\n",
    "## Search through a range of m and b values and find the pair that minimizes $\\chi^2$.  You can make use of the function you wrote above.\n",
    "\n",
    "## You can start by searching for m in the range of (0, 10) and for b in the range of (0, 100) -- 10 steps in each direction. \n",
    "\n",
    "## At the end you should have the following statements printed.\n",
    "\n",
    "\n",
    "The minimum chi^2: xx.xx.\n",
    "\n",
    "The best-fit slope and intercept for the simulated data are m = 3.6000 and b = 42.0000.\n",
    "\n",
    "(The input values are m_true = 4.2000 and b_true = 35.0000)."
   ]
  },
  {
   "cell_type": "code",
   "execution_count": 53,
   "metadata": {
    "collapsed": false,
    "jupyter": {
     "outputs_hidden": false
    }
   },
   "outputs": [
    {
     "data": {
      "image/png": "[encoded data removed]",
      "text/plain": [
       "<Figure size 432x288 with 1 Axes>"
      ]
     },
     "metadata": {
      "needs_background": "light"
     },
     "output_type": "display_data"
    }
   ],
   "source": [
    "'''\n",
    "Plotting best-fit results\n",
    "\n",
    "'''\n",
    "\n",
    "# ms: marker size\n",
    "plt.errorbar(x, y, yerr=sig, fmt='o', ms=6, capsize=3) \n",
    "plt.plot(x, f(m_best, b_best, x), 'k-')\n",
    "plt.xlabel('Time')\n",
    "plt.ylabel('Temperature')\n",
    "plt.show()"
   ]
  },
  {
   "cell_type": "markdown",
   "metadata": {},
   "source": [
    "## I.D) Reduced $\\chi^2$\n",
    "\n",
    "## $\\chi^2_{\\nu} = \\frac {\\chi^2} {\\text{DOF}}$\n",
    "\n",
    "## Let\n",
    "\n",
    "## $N$ = number of independent data points, and \n",
    "\n",
    "## $n$ = number of fitting parameters.\n",
    "\n",
    "## Then,\n",
    "\n",
    "## $\\text{DOF} = \\nu = N - n$"
   ]
  },
  {
   "cell_type": "markdown",
   "metadata": {},
   "source": [
    "## Imagine if you only have two points, you will always be able to find m and b that will pass through these two points perfectly.  But you know that shouldn't happen because there will always be uncertainty.  Yes you can fit a line perfectly through 2 data points, but you are fitting for both the actual trend and the noise.  \n",
    "\n",
    "## This happens more often than you think.  It actually has a name:  Overfitting.\n",
    "\n",
    "## Overfitting results when the number of fitting parameter is comparable to or greater than the number of independent data points."
   ]
  },
  {
   "cell_type": "code",
   "execution_count": 55,
   "metadata": {
    "collapsed": false,
    "jupyter": {
     "outputs_hidden": false
    }
   },
   "outputs": [
    {
     "name": "stdout",
     "output_type": "stream",
     "text": [
      "The reduced chi^2 is 1.04\n"
     ]
    }
   ],
   "source": [
    "'''\n",
    "Reduced chi^2 = chi^2/DOF\n",
    "\n",
    "Note: For a sample of 20 simulated data points, you may get anything between 0.5 and 1.5.  \n",
    "\n",
    "This is due to the small number of data points.  \n",
    "\n",
    "'''\n",
    "\n",
    "DOF = len(x) - 2\n",
    "chi2_nu = chi2_min/DOF\n",
    "print(\"The reduced chi^2 is {:.2f}\".format(chi2_nu))\n"
   ]
  },
  {
   "cell_type": "markdown",
   "metadata": {},
   "source": [
    "## Breakout Excercise:\n",
    "\n",
    "## Go back to the example of 20 data points with uniform variance and calculate the reduced $\\chi^2$"
   ]
  },
  {
   "cell_type": "markdown",
   "metadata": {},
   "source": [
    "## We can go back further to the case of fitting for one parameter.  Remeber: 50 thermometers measuring room temperature at the same time.  \n",
    "\n",
    "We can easily calculate $\\chi^2_{\\nu}$.  First of all, recall, in general,\n",
    "$$\\chi^2 = \\sum_{i} { \\frac {[t_i - T]^2} {\\sigma_i^2} } \\tag {4}$$\n",
    "where $T$ is a guess (or your \"model\") for the true temperature.  \n",
    "We also know that the mean of all 50 measurements is the best guess (i.e., $T_{best} = \\langle t \\rangle$), which minimizes $\\chi^2$,\n",
    "$$\\chi_\\mathrm{min}^2 = \\sum_{i} { \\frac {[t_i - \\langle t \\rangle]^2} {\\sigma_i^2} } \\tag {5}$$\n",
    "Let $N$ be the number of independent data points; the degree of freedom is:\n",
    "$$ \\text{DOF} = \\nu = N - 1 $$\n",
    "We need to subtract 1 because there is *one* fitting parameter.  Then\n",
    "$$\\chi^2_{\\nu} = \\frac{\\chi^2} {N-1} \\tag {6}$$\n",
    "\n",
    "\n",
    "\n",
    "(Again, in the case of only one data point, it's meaningless to compute the average -- the simplest case of overfitting: a horizontal line can be shifted up and down to pass exactly through any one point!)"
   ]
  },
  {
   "cell_type": "markdown",
   "metadata": {},
   "source": [
    "## In this simplest of all cases, how do we understand why $\\chi^2_{\\nu}$ should be roughly 1:\n",
    "\n",
    "\n",
    "If our assumption that noise follows a Gaussian distribution is right, then roughly 2/3 of the times each of the terms\n",
    "\n",
    "$$\\frac{ t_i - \\langle t \\rangle} {\\sigma_i}  \\tag{6} $$\n",
    "\n",
    "\n",
    "is less than 1, and 1/3 of the times they are greater than 1.  But in the sum of $\\chi^2$, the terms we are summing is the square of the expression in (6):\n",
    "\n",
    "$$\\left[ \\frac{ t_i - \\langle t \\rangle} {\\sigma_i} \\right]^2 \\tag{7} $$\n",
    "\n",
    "\n",
    "When a number less than 1 is squared, it's even smaller, but there is a lower bound, 0.  When a number larger than 1 is squared, it's even larger, but there is no bound from above.  So even though only ~1/3 of the times will a term in the form of (7) be larger than 1, they have longer \"lever arms\" from the number 1.  If there are a large number of terms, those that are greater than 1 exactly balance those that are less than 1.  Thus the average of all the terms in $\\chi^2$ (eqn (4)) is 1.  This is essentially what the reduced $\\chi^2$ calculates: the average of the terms in the form of (7).  (You may wonder if for computing the average we need $N$ in the denominator of eqn (5) instead of $N-1$.  First of all, if $N$ is large, it makes little difference whether it's $N$ or $N-1$.  For small $N$, well, $N-1$ is correct -- if you actually do the math.).\n",
    "\n",
    "This is not a proof but rather an intuitive way for you understand why reduced $\\chi^2$ should be around 1.\n",
    "\n",
    "One other way of understanding eqn (4) or the expression in (7): We are basically trying to get a sense of how big the deviations are from our best estimate of the temperature.  It makes sense to measure the deviation for each data point in unit of $\\sigma_i$.  "
   ]
  },
  {
   "cell_type": "markdown",
   "metadata": {},
   "source": [
    "## II. Probability and $\\chi^2$ "
   ]
  },
  {
   "cell_type": "markdown",
   "metadata": {},
   "source": [
    "## II.A) PDF"
   ]
  },
  {
   "cell_type": "markdown",
   "metadata": {},
   "source": [
    "## Recall this is our goal: given data $D$, find the most likely value for the true temperature:\n",
    "\n",
    "## $$P(D|T)\\text{,} \\tag{9}$$"
   ]
  },
  {
   "cell_type": "markdown",
   "metadata": {},
   "source": [
    "## For one temperature measurement, the probability is (See Week1-2, $\\S$ II.B)),\n",
    "\n",
    "\n",
    "## $$P(t; T) = {1 \\over {\\scriptstyle {\\sigma\\sqrt{2\\pi}}}} e^{ -\\frac{ (t - T)^2 } { 2\\sigma^2 }} \\tag{10}$$\t\n",
    "\n",
    "## For a data set of $N$ measurements,\n",
    "\n",
    "\n",
    "## $P(D|T) = P(t_1, t_2, t_i,..., t_N; T) = P(t_1; T)P(t_2; T)...P(t_i; T)...P(t_N; T)$ \n",
    "## $\\hspace{2.75em} = e^{\\left[ -\\frac{(t_1-T)^2}{2\\sigma^2}-\\frac{(t_2-T)^2}{2\\sigma^2}-...\\frac{(t_i-T)^2}{ 2\\sigma^2}-...-\\frac{(t_N-T)^2}{2\\sigma^2} \\right]}$\n",
    "\n",
    "## Or,\n",
    "\n",
    "## $$P(D|T) = Ae^{-\\chi^2/2} \\text{,} \\tag{11}$$\n",
    "\n",
    "## where $A = \\left(1 \\over {\\scriptstyle {\\sigma \\sqrt{2\\pi}}}\\right)^N$ (See $\\S$ II.B) of Notebook Week1-2.)\n",
    "\n",
    "## Eqn (11) is the probability of how likely the data set $D = \\{t_i\\}$ is going to occur given the temperture is $T$.  When it is integrated over all possible values for $\\{t_i\\}$, we should get 1, by definition.\n",
    "\n",
    "## For the R.H.S. of (11), what's traditionally done is to divide it by $e^{-\\chi_\\text{min}^2/2}$.  So now we have:\n",
    "\n",
    "## $$P(T|D) \\propto e^{-\\Delta\\chi^2/2} \\text{,} \\tag{12}$$\n",
    "\n",
    "## where $\\Delta\\chi^2 = \\chi^2 - \\chi^2_{\\text{min}}$.\n",
    "\n",
    "## The proportionality constant will be determined by requiring that this probability integrated over all possible values of $T$ is 1.\n",
    "\n",
    "## Computationally, you integrate over a large enough range of $T$ around $T_{best}$ and require the result to be 1.\n",
    "\n",
    "\n",
    "## This an example of one fitting parameter ($T$)."
   ]
  },
  {
   "cell_type": "markdown",
   "metadata": {},
   "source": [
    "## In the case of 2 fitting parameters:\n",
    "\n",
    "## Given $m$ and $b$, the probability of the $i$th measurement being $y_i$ is\n",
    "\n",
    "## $${1 \\over {\\scriptstyle {\\sigma \\sqrt{2\\pi}}}} e^{\\frac {[y_i - f(x_i)]^2} {\\sigma^2}} = {1 \\over \\scriptstyle{{\\sigma\\sqrt{2\\pi}}}} e^{ \\frac{[y_i - (mx_i + b)]^2}{\\sigma^2} } \\tag{13}$$\n",
    "\n",
    "\n",
    "## and thus, \n",
    "\n",
    "## $P(D|[m, b]) = P(y_1; [m, b])P(y_2; [m, b])...P(y_i; [m, b])...P(y_N; [m, b])$ \n",
    "## $\\hspace{4.3em} = Ae^{\\sum_{i=1}^N {\\frac{[y_i - (mx_i + b)]^2}{2\\sigma^2}}}$\n",
    "\n",
    "## Or,\n",
    "\n",
    "## $$P(D|[m, b]) = Ae^{-\\chi^2/2}\\text{,} \\tag{14}$$\n",
    "\n",
    "## where, again, $A = \\left( \\frac{1}{\\sigma\\sqrt{2\\pi}}\\right)^N$\n",
    "\n",
    "## Eqn (14) is the probability of how likely the data set $D = \\{y_i\\}$ going to occur given the slope and intercept are $[m, b]$.  When it is integrated over all possible values for $\\{y_i\\}$, we should get 1, by definition.\n",
    "\n",
    "## We interpret this as the likelihood for $[m, b]$.\n",
    "\n",
    "## So again, replacing the L.H.S. of (14) by $P([m, b]|D)$ and dividing the R.H.S. by $e^{-\\chi_\\text{min}^2/2}$, we have:\n",
    "\n",
    "## $$P([m, b]|D) \\propto e^{-\\Delta\\chi^2/2} \\text{,} \\tag{15}$$\n",
    "\n",
    "## The proportionality constant will be determined by requiring that this probability integrated over all possible values of $m$ and $b$ is 1.\n",
    "\n",
    "## Computationally, you integrate over a large enough area in the $m\\text{-}b$ space around the point $(m_{best}, b_{best})$ and require the result to be 1."
   ]
  },
  {
   "cell_type": "markdown",
   "metadata": {},
   "source": [
    "# The takeaway:\n",
    "\n",
    "## The probability of a model, characterized by a set of parameters, being the correct model for reality is proportional to $e^{-\\Delta\\chi^2/2}$.\n",
    "\n",
    "## For the one-parameter example,\n",
    "\n",
    "## $$P(\\text{ data } | \\text{ model })= P(D | T) \\propto Ae^{-\\Delta\\chi^2/2} .$$\n",
    "\n",
    "## For the two-parameter example, \n",
    "\n",
    "## $$P(\\text{ data } |\\text{ model }) = P(D | [m, b]) \\propto e^{-\\Delta\\chi^2/2}.$$\n",
    "\n",
    "## In general,\n",
    "\n",
    "## $$P(\\text{ data } | \\text{ model }) \\propto e^{-\\Delta\\chi^2/2} \\text{.} \\tag{16}$$\n",
    "\n",
    "## If your model has $n$ parameters, $\\text{model}(p_1, p_2,..., p_n)$, the proportionality constant in (16) will be determined by requiring that this probability integrated over all these parameters is 1.\n",
    "\n",
    "\n",
    "## N.B.: The quantity in the exponent in (16) is $\\Delta\\chi^2$ and not $\\Delta\\chi^2_{\\nu}$!"
   ]
  },
  {
   "cell_type": "markdown",
   "metadata": {},
   "source": [
    "\n",
    "## OK, let's do it!\n",
    "\n",
    "## First, the simplest example, a one-parameter model"
   ]
  },
  {
   "cell_type": "markdown",
   "metadata": {},
   "source": [
    "## II.B) CDF \n",
    "\n",
    "## In the example below:\n",
    "\n",
    "-  ## Get Probability Distribution Function (PDF) from $e^{-\\Delta\\chi^2/2}$ .  \n",
    "\n",
    "-  ## We will then calculate the Cumulative Distribution Function, or CDF. "
   ]
  },
  {
   "cell_type": "code",
   "execution_count": null,
   "metadata": {},
   "outputs": [],
   "source": []
  },
  {
   "cell_type": "code",
   "execution_count": 3,
   "metadata": {
    "collapsed": false,
    "jupyter": {
     "outputs_hidden": false
    }
   },
   "outputs": [
    {
     "name": "stdout",
     "output_type": "stream",
     "text": [
      "The mean temperature value is 70.009 deg (expected: 70.000).\n",
      "The standard deviation of the simulated temperature measurement results are 0.493 deg (expected: 0.500).\n"
     ]
    },
    {
     "data": {
      "image/png": "[encoded data removed]",
      "text/plain": [
       "<Figure size 432x288 with 1 Axes>"
      ]
     },
     "metadata": {
      "needs_background": "light"
     },
     "output_type": "display_data"
    },
    {
     "name": "stdout",
     "output_type": "stream",
     "text": [
      "0.01\n"
     ]
    },
    {
     "data": {
      "image/png": "[encoded data removed]",
      "text/plain": [
       "<Figure size 432x288 with 1 Axes>"
      ]
     },
     "metadata": {
      "needs_background": "light"
     },
     "output_type": "display_data"
    },
    {
     "data": {
      "image/png": "[encoded data removed]",
      "text/plain": [
       "<Figure size 432x288 with 1 Axes>"
      ]
     },
     "metadata": {
      "needs_background": "light"
     },
     "output_type": "display_data"
    },
    {
     "name": "stdout",
     "output_type": "stream",
     "text": [
      "Maximum Value and the sum of PDF: 0.0405, 1.0000\n",
      "Maximum Value of CDF: 1.0000\n"
     ]
    }
   ],
   "source": [
    "'''\n",
    "*******************  IMPORTANT  ***************** \n",
    "\n",
    "- The histogram will show the standard deviation of the measurement, \n",
    "  independent of the number of measurements (N) --  the standard deviation \n",
    "  for the simulated data is roughly the same as sigma; in this case, 0.5.\n",
    "  \n",
    "- But you know you can take the mean and it represents a measurement \n",
    "  of the temperature with a much smaller uncertainty: sigma/sqrt(N).  \n",
    "  As you will see, the probability you calculate based on chi^2 reflects \n",
    "  that (because the calculation of chi^2 includes all data points).\n",
    "************************************************** \n",
    "\n",
    "'''\n",
    "\n",
    "T_true = 70\n",
    "sigma = 0.5\n",
    "N = 50\n",
    "\n",
    "t = np.random.randn(N) * sigma + T_true\n",
    "t_mean = t.mean()\n",
    "sig_t = np.std(t)\n",
    "\n",
    "print(\"The mean temperature value is {:.3f} deg (expected: {:.3f}).\".format(t_mean, T_true))\n",
    "print(\"The standard deviation of the simulated temperature measurement \\\n",
    "results are {:.3f} deg (expected: {:.3f}).\".format(sig_t, sigma))\n",
    "\n",
    "plt.figure()\n",
    "bin_heights, xbins, _ = plt.hist(t, bins=7, density=1, alpha=0.5)\n",
    "plt.title('Histogram of {:d} Measurements'.format(N))\n",
    "plt.show()\n",
    "\n",
    "# Now the new stuff: PDF and CDF\n",
    "\n",
    "delT = 0.01\n",
    "print(delT)\n",
    "\n",
    "chi2 = []\n",
    "# I pick a small temperature range, because I know with N = 50, \n",
    "# the PDF will have a small spread. You can verify for yourself\n",
    "# that you can change the breadth of the PDF by varying N.\n",
    "T_lo, T_hi = 69.5, 70.5\n",
    "T_vals = np.arange(T_lo, T_hi, delT)\n",
    "for T in T_vals:\n",
    "    # We could use the input sigma (which can be measured from looking at instrumentation carefully)\n",
    "    # But our simulated data set is simple enough and we can use data itself to estimate the sigma, \n",
    "    # which, of course, is just sig_t.\n",
    "    chi2.append(((t - T)**2/(2.*sig_t**2)).sum())\n",
    "\n",
    "chi2 = np.array(chi2)\n",
    "P = np.exp(-chi2 / 2.)\n",
    "\n",
    "# normalization of PDF\n",
    "P /= P.sum()\n",
    "plt.figure()\n",
    "plt.plot(T_vals, P)\n",
    "\n",
    "# writing text on the plot\n",
    "plt.text(69.6, 0.07, \"Note: A much narrower distribution than the histogram\")\n",
    "\n",
    "# setting limits for the plot\n",
    "plt.axis([T_lo, T_hi, 0, 0.075])\n",
    "\n",
    "# adding a descriptive title \n",
    "plt.title('Probability Distribution Function (PDF) Based on {:d} Measurements'.format(N))\n",
    "\n",
    "# CDF\n",
    "\n",
    "# Using numpy.cumsum to obtain the cumulative probability.\n",
    "CDF = np.cumsum(P)\n",
    "plt.figure()\n",
    "plt.plot(T_vals, CDF)\n",
    "plt.axis([T_lo, T_hi, 0., 1+1e-2])\n",
    "plt.xlabel('Temperature')\n",
    "plt.title('Cumulative Distribution Function (CDF)')\n",
    "plt.show()\n",
    "\n",
    "# sanity check\n",
    "print(\"Maximum Value and the sum of PDF: {:.4f}, {:.4f}\".format(P.max(), P.sum()))\n",
    "print(\"Maximum Value of CDF: {:.4f}\".format(CDF.max()))\n"
   ]
  },
  {
   "cell_type": "markdown",
   "metadata": {},
   "source": [
    "## End of Week 2-1"
   ]
  }
 ],
 "metadata": {
  "kernelspec": {
   "display_name": "Python 3",
   "language": "python",
   "name": "python3"
  },
  "language_info": {
   "codemirror_mode": {
    "name": "ipython",
    "version": 3
   },
   "file_extension": ".py",
   "mimetype": "text/x-python",
   "name": "python",
   "nbconvert_exporter": "python",
   "pygments_lexer": "ipython3",
   "version": "3.8.3"
  }
 },
 "nbformat": 4,
 "nbformat_minor": 4
}
