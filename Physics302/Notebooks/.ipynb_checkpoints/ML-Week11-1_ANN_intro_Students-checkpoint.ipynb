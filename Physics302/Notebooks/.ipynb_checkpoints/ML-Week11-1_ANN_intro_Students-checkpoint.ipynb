{
 "cells": [
  {
   "cell_type": "markdown",
   "metadata": {},
   "source": [
    "# Topics \n",
    "\n",
    "## 1. Multi-layer Forward-feed NN from sklearn\n",
    "\n",
    "\n"
   ]
  },
  {
   "cell_type": "code",
   "execution_count": 1,
   "metadata": {},
   "outputs": [],
   "source": [
    "%matplotlib inline\n",
    "# All imports\n",
    "\n",
    "from random import choice\n",
    "import numpy as np\n",
    "import matplotlib.pyplot as plt\n",
    "from copy import copy\n",
    "import time\n",
    "from IPython import display\n",
    "\n",
    "\n",
    "# from sklearn.neural_network import MLPClassifier\n",
    "np.set_printoptions(formatter={'float': '{:.5f}'.format})\n"
   ]
  },
  {
   "cell_type": "code",
   "execution_count": 2,
   "metadata": {},
   "outputs": [
    {
     "name": "stdout",
     "output_type": "stream",
     "text": [
      "0.23.1\n"
     ]
    }
   ],
   "source": [
    "import sklearn\n",
    "print(sklearn.__version__)\n",
    "\n",
    "from sklearn.neural_network import MLPClassifier\n",
    "#Multi Layer Perceptron Classifier: https://scikit-learn.org/stable/modules/generated/sklearn.neural_network.MLPClassifier.html\n",
    "from sklearn.neural_network import MLPRegressor\n",
    "from sklearn.model_selection import train_test_split"
   ]
  },
  {
   "cell_type": "code",
   "execution_count": 3,
   "metadata": {},
   "outputs": [
    {
     "data": {
      "text/plain": [
       "MLPClassifier(alpha=1e-10, hidden_layer_sizes=(4, 2), solver='lbfgs')"
      ]
     },
     "execution_count": 3,
     "metadata": {},
     "output_type": "execute_result"
    }
   ],
   "source": [
    "X = [[0., 0.], [1., 1.]]\n",
    "y = [0, 1]\n",
    "# (4, 2) means: 2 inputs, 4 neaurons in 2 hidden layers, 1 output\n",
    "clf = MLPClassifier(solver='lbfgs', alpha=1e-10, hidden_layer_sizes=(4, 2))\n",
    "clf.fit(X, y)"
   ]
  },
  {
   "cell_type": "code",
   "execution_count": 4,
   "metadata": {},
   "outputs": [
    {
     "data": {
      "text/plain": [
       "array([1, 0])"
      ]
     },
     "execution_count": 4,
     "metadata": {},
     "output_type": "execute_result"
    }
   ],
   "source": [
    "X_test = [[2., 2.], [-1., -2.]]\n",
    "clf.predict(X_test)"
   ]
  },
  {
   "cell_type": "code",
   "execution_count": 5,
   "metadata": {},
   "outputs": [
    {
     "data": {
      "text/plain": [
       "array([0, 1])"
      ]
     },
     "execution_count": 5,
     "metadata": {},
     "output_type": "execute_result"
    }
   ],
   "source": [
    "X_test2 = [[0.1, 0.2], [0.8, 0.7]]\n",
    "clf.predict(X_test2)"
   ]
  },
  {
   "cell_type": "markdown",
   "metadata": {},
   "source": [
    "## Breakout:\n",
    "\n",
    "## Draw the schematic for this neural network.\n",
    "\n",
    "## Remember, there is a bias unit at every layer, except the output layer."
   ]
  },
  {
   "cell_type": "markdown",
   "metadata": {},
   "source": [
    "## From wikipedia:\n",
    "\n",
    "In the context of artificial neural networks, the rectifier is an activation function defined as\n",
    "\n",
    "\n",
    "$f(x) = \\max(0, x)$\n",
    "\n",
    "\n",
    "where $x$ is the input to a neuron. This is also known as a ramp function... This activation function has been argued to be more biologically plausible[1] than the widely used logistic sigmoid... and its more practical counterpart, the hyperbolic tangent. The rectifier is, as of 2015, the most popular activation function for deep neural networks.\n",
    "\n",
    "A unit employing the rectifier is also called a rectified linear unit (ReLU).\n",
    "\n",
    "A smooth approximation to the rectifier is the analytic function\n",
    "\n",
    "$f(x) = \\ln(1 + e^x)$\n",
    "\n",
    "when x->infinity, f(x)=infinity\n",
    "when x->-infinity, f(x)=0\n",
    "\n",
    "which is called the softplus function. The derivative of softplus is $f'(x) = e^x / (e^x+1) = 1 / (1 + e^{-x})$, i.e. the logistic function.\n",
    "\n",
    "\n",
    "## From sklearn neural network classifier documentation:\n",
    "\n",
    "**activation** : {‘logistic’, ‘tanh’, ‘relu’}, default ‘relu’\n",
    "\n",
    "Activation function for the hidden layer.\n",
    "\n",
    "‘logistic’, the logistic sigmoid function, returns f(x) = 1 / (1 + exp(-x)).\n",
    "\n",
    "‘tanh’, the hyperbolic tan function, returns f(x) = tanh(x).\n",
    "\n",
    "‘relu’, the rectified linear unit function, returns f(x) = max(0, x)\n",
    "\n"
   ]
  },
  {
   "cell_type": "markdown",
   "metadata": {},
   "source": [
    "## From sklearn neural network classifier documentation:\n",
    "\n",
    "### 1.17.5. Algorithms\n",
    "\n",
    "MLP trains using Stochastic Gradient Descent, Adam, or L-BFGS. Stochastic Gradient Descent (SGD) updates parameters using the gradient of the loss function with respect to a parameter that needs adaptation, i.e.\n",
    "\n",
    "$$w \\leftarrow w - \\eta \\left( \\alpha \\frac{\\partial R(w)}{\\partial w}\n",
    "+ \\frac{\\partial Loss}{\\partial w} \\right)$$\n",
    "\n",
    "where \\eta is the learning rate which controls the step-size in the parameter space search.  Loss is the loss function used for the network. R is the regulurazation\n",
    "\n",
    "More details can be found in the documentation of SGD\n",
    "\n",
    "Adam is similar to SGD in a sense that it is a stochastic optimization algorithm, but it can automatically adjust the amount to update parameters based on adaptive estimates of lower-order moments.\n",
    "\n",
    "...\n",
    "\n",
    "L-BFGS is a fast learning algorithm that approximates the Hessian matrix which represents the second-order partial derivative of a function. Further it approximates the inverse of the Hessian matrix to perform parameter updates. \n",
    "[We haven't talked about how to use the second derivatives.]\n"
   ]
  },
  {
   "cell_type": "markdown",
   "metadata": {},
   "source": [
    "## Breakout\n",
    "\n",
    "- ## Plot softplus and the rectifier functions\n",
    "\n",
    "- ## Use legends to mark which is which:\n",
    "\n",
    "   http://matplotlib.org/users/legend_guide.html"
   ]
  },
  {
   "cell_type": "code",
   "execution_count": 6,
   "metadata": {},
   "outputs": [
    {
     "data": {
      "image/png": "[encoded data removed]",
      "text/plain": [
       "<Figure size 432x288 with 1 Axes>"
      ]
     },
     "metadata": {
      "needs_background": "light"
     },
     "output_type": "display_data"
    }
   ],
   "source": [
    "x = np.linspace(-5, 5, 100)\n",
    "# def softplus(x):\n",
    "#     return np.log(1+np.exp(x))\n",
    "#or:\n",
    "softplus = lambda x: np.log(1+np.exp(x))\n",
    "# def rectifier(x):\n",
    "#     return np.maximum(0, x)\n",
    "# #or:\n",
    "# rectifier = lambda x: np.maximum(0, x)\n",
    "#or:\n",
    "rectifier = lambda x: (x>0)*x\n",
    "\n",
    "plt.plot(softplus(x), label='Softplus')\n",
    "plt.plot(rectifier(x), label='Rectifier')\n",
    "plt.legend()\n",
    "# plt.ylim(-5, 5)\n",
    "plt.show()"
   ]
  },
  {
   "cell_type": "code",
   "execution_count": 7,
   "metadata": {},
   "outputs": [
    {
     "data": {
      "text/plain": [
       "[(2, 4), (4, 2), (2, 1)]"
      ]
     },
     "execution_count": 7,
     "metadata": {},
     "output_type": "execute_result"
    }
   ],
   "source": [
    "[coef.shape for coef in clf.coefs_]"
   ]
  },
  {
   "cell_type": "code",
   "execution_count": 9,
   "metadata": {},
   "outputs": [
    {
     "name": "stdout",
     "output_type": "stream",
     "text": [
      "weights:\n",
      " [[4.97895 0.05498 -0.43250 -0.82713]\n",
      " [4.43404 -0.38135 -0.57489 0.62468]]\n",
      "weights:\n",
      " [[-0.41900 8.08494]\n",
      " [-0.33837 0.65864]\n",
      " [0.66451 0.98892]\n",
      " [0.40510 0.89159]]\n",
      "weights:\n",
      " [[1.21651]\n",
      " [4.15108]]\n"
     ]
    }
   ],
   "source": [
    "# The (non-bias) weights\n",
    "# \"coefs_ is a list of weight matrices, where weight matrix at index i \n",
    "# represents the weights between layer i and layer i+1\"\n",
    "for coef in clf.coefs_:\n",
    "    print(\"weights:\\n\", coef)\n",
    "# [coef for coef in clf.coefs_]"
   ]
  },
  {
   "cell_type": "code",
   "execution_count": 11,
   "metadata": {},
   "outputs": [
    {
     "data": {
      "text/plain": [
       "[array([-1.36071, -0.89131, -0.42229, -0.90832]),\n",
       " array([-0.26968, -1.57633]),\n",
       " array([-8.93763])]"
      ]
     },
     "execution_count": 11,
     "metadata": {},
     "output_type": "execute_result"
    }
   ],
   "source": [
    "# The weigths for the bias unit\n",
    "# called intercepts because for a 2d fit, it is the intercept on the verital axis\n",
    "# remember otherwise the decision boundary line always passes through the origin.\n",
    "# - layer 0 (4): the bias for the input layer needs to have five weights to the 5 hidden units\n",
    "# - layer 1 (2): the bias for the first hidden layer (it has 5 units) needs to have 2 weights for the 2\n",
    "# units in the second hidden layer.\n",
    "# - layer2 (1): bias for the second hidden layer needs to have one weight for the output\n",
    "# Note: the bias unit is not very strong, except for the output\n",
    "clf.intercepts_"
   ]
  },
  {
   "cell_type": "code",
   "execution_count": 11,
   "metadata": {},
   "outputs": [
    {
     "data": {
      "text/plain": [
       "['__abstractmethods__',\n",
       " '__class__',\n",
       " '__delattr__',\n",
       " '__dict__',\n",
       " '__dir__',\n",
       " '__doc__',\n",
       " '__eq__',\n",
       " '__format__',\n",
       " '__ge__',\n",
       " '__getattribute__',\n",
       " '__getstate__',\n",
       " '__gt__',\n",
       " '__hash__',\n",
       " '__init__',\n",
       " '__init_subclass__',\n",
       " '__le__',\n",
       " '__lt__',\n",
       " '__module__',\n",
       " '__ne__',\n",
       " '__new__',\n",
       " '__reduce__',\n",
       " '__reduce_ex__',\n",
       " '__repr__',\n",
       " '__setattr__',\n",
       " '__setstate__',\n",
       " '__sizeof__',\n",
       " '__str__',\n",
       " '__subclasshook__',\n",
       " '__weakref__',\n",
       " '_abc_impl',\n",
       " '_backprop',\n",
       " '_coef_indptr',\n",
       " '_compute_loss_grad',\n",
       " '_estimator_type',\n",
       " '_fit',\n",
       " '_fit_lbfgs',\n",
       " '_fit_stochastic',\n",
       " '_forward_pass',\n",
       " '_get_param_names',\n",
       " '_get_tags',\n",
       " '_init_coef',\n",
       " '_initialize',\n",
       " '_intercept_indptr',\n",
       " '_label_binarizer',\n",
       " '_loss_grad_lbfgs',\n",
       " '_partial_fit',\n",
       " '_predict',\n",
       " '_random_state',\n",
       " '_unpack',\n",
       " '_update_no_improvement_count',\n",
       " '_validate_hyperparameters',\n",
       " '_validate_input',\n",
       " 'activation',\n",
       " 'alpha',\n",
       " 'batch_size',\n",
       " 'beta_1',\n",
       " 'beta_2',\n",
       " 'classes_',\n",
       " 'coefs_',\n",
       " 'early_stopping',\n",
       " 'epsilon',\n",
       " 'fit',\n",
       " 'get_params',\n",
       " 'hidden_layer_sizes',\n",
       " 'intercepts_',\n",
       " 'learning_rate',\n",
       " 'learning_rate_init',\n",
       " 'loss',\n",
       " 'loss_',\n",
       " 'max_iter',\n",
       " 'momentum',\n",
       " 'n_iter_',\n",
       " 'n_iter_no_change',\n",
       " 'n_layers_',\n",
       " 'n_outputs_',\n",
       " 'nesterovs_momentum',\n",
       " 'out_activation_',\n",
       " 'partial_fit',\n",
       " 'power_t',\n",
       " 'predict',\n",
       " 'predict_log_proba',\n",
       " 'predict_proba',\n",
       " 'random_state',\n",
       " 'score',\n",
       " 'set_params',\n",
       " 'shuffle',\n",
       " 'solver',\n",
       " 't_',\n",
       " 'tol',\n",
       " 'validation_fraction',\n",
       " 'verbose',\n",
       " 'warm_start']"
      ]
     },
     "execution_count": 11,
     "metadata": {},
     "output_type": "execute_result"
    }
   ],
   "source": [
    "dir(clf)"
   ]
  },
  {
   "cell_type": "code",
   "execution_count": 12,
   "metadata": {},
   "outputs": [
    {
     "name": "stdout",
     "output_type": "stream",
     "text": [
      "[[2.0, 2.0], [-1.0, -2.0]]\n"
     ]
    },
    {
     "data": {
      "text/plain": [
       "array([1, 0])"
      ]
     },
     "execution_count": 12,
     "metadata": {},
     "output_type": "execute_result"
    }
   ],
   "source": [
    "'''\n",
    "2018: you can't call the MLP classifier's decision_function this way anymore.\n",
    "\n",
    "XH: \n",
    "\n",
    "This shows sklearn removed the attribute decision_function() and replaced it with predict_proba().\n",
    "\n",
    "Notice the usage of hasattr().\n",
    "\n",
    "From: http://scikit-learn.org/stable/auto_examples/neural_networks/plot_mlp_alpha.html\n",
    "'''\n",
    "print(X_test)\n",
    "clf.predict(X_test) "
   ]
  },
  {
   "cell_type": "code",
   "execution_count": 13,
   "metadata": {},
   "outputs": [
    {
     "data": {
      "text/plain": [
       "6.567468728078908e-05"
      ]
     },
     "execution_count": 13,
     "metadata": {},
     "output_type": "execute_result"
    }
   ],
   "source": [
    "# The loss function (more or less opposite to the performance function)\n",
    "clf.loss_"
   ]
  },
  {
   "cell_type": "code",
   "execution_count": 14,
   "metadata": {},
   "outputs": [
    {
     "data": {
      "text/plain": [
       "'logistic'"
      ]
     },
     "execution_count": 14,
     "metadata": {},
     "output_type": "execute_result"
    }
   ],
   "source": [
    "# the output activation function is often different from the activation funcitons used in the hidden layers.\n",
    "clf.out_activation_"
   ]
  },
  {
   "cell_type": "markdown",
   "metadata": {},
   "source": [
    "## Clearly, \n",
    "\n",
    "Passing 47.6 through the logistic function, you will get a number very close to 1, and \n",
    "passing -8.8 through the logistica function, you will get a number very close to 0.\n",
    "\n",
    "## Finally, digging into the source code (on github, \n",
    "\n",
    "## sklearn/neural_network/multilayer_perceptron.py),\n",
    "\n",
    "## you will see that  sklearn uses what it calls a LabelBinarizer to turn floats into either 0 or 1:\n",
    "\n",
    "http://scikit-learn.org/stable/modules/generated/sklearn.preprocessing.LabelBinarizer.html"
   ]
  },
  {
   "cell_type": "markdown",
   "metadata": {},
   "source": [
    "## Breakout\n",
    "\n",
    "## Now, our favorite problem the XOR"
   ]
  },
  {
   "cell_type": "markdown",
   "metadata": {},
   "source": [
    "# End of Week 11-1"
   ]
  }
 ],
 "metadata": {
  "kernelspec": {
   "display_name": "Python 3",
   "language": "python",
   "name": "python3"
  },
  "language_info": {
   "codemirror_mode": {
    "name": "ipython",
    "version": 3
   },
   "file_extension": ".py",
   "mimetype": "text/x-python",
   "name": "python",
   "nbconvert_exporter": "python",
   "pygments_lexer": "ipython3",
   "version": "3.8.3"
  }
 },
 "nbformat": 4,
 "nbformat_minor": 4
}
