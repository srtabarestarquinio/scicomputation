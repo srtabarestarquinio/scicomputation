{
 "cells": [
  {
   "cell_type": "code",
   "execution_count": 1,
   "metadata": {},
   "outputs": [],
   "source": [
    "%matplotlib widget\n",
    "# All imports\n",
    "from random import choice\n",
    "import numpy as np\n",
    "import matplotlib.pyplot as plt\n",
    "#to make sure variables are seperate entities\n",
    "from copy import copy\n",
    "\n",
    "from sklearn.neural_network import MLPRegressor, MLPClassifier\n",
    "from sklearn.model_selection import train_test_split\n",
    "\n",
    "from time import time\n",
    "from sklearn.metrics import classification_report, confusion_matrix\n",
    "\n",
    "import pickle\n",
    "\n",
    "np.set_printoptions(formatter={'float': '{:.4f}'.format})"
   ]
  },
  {
   "cell_type": "code",
   "execution_count": 3,
   "metadata": {},
   "outputs": [
    {
     "name": "stdout",
     "output_type": "stream",
     "text": [
      "{'african elephant': 3, 'blue whale': 30, 'polar bear': 2.5}\n"
     ]
    }
   ],
   "source": [
    "test_dict = {'african elephant': 3, 'blue whale': 30}\n",
    "test_dict['polar bear'] = 2.5\n",
    "print(test_dict)\n",
    "\n",
    "pickle.dump(test_dict, open('test_pickle.p', 'wb'))\n",
    "#wb will save in binary mode"
   ]
  },
  {
   "cell_type": "code",
   "execution_count": 5,
   "metadata": {},
   "outputs": [],
   "source": [
    "#Better way\n",
    "#this way, the file will close for you and do garbage collection for you\n",
    "with open('test_pickle.p', 'wb') as f:\n",
    "    pickle.dump(test_dict, f)"
   ]
  },
  {
   "cell_type": "code",
   "execution_count": 6,
   "metadata": {},
   "outputs": [
    {
     "name": "stdout",
     "output_type": "stream",
     "text": [
      "{'african elephant': 3, 'blue whale': 30, 'polar bear': 2.5}\n"
     ]
    }
   ],
   "source": [
    "#To open\n",
    "read_dict = pickle.load(open('test_pickle.p', 'rb'))\n",
    "#rb is opening in binary read mode\n",
    "print(read_dict)"
   ]
  },
  {
   "cell_type": "markdown",
   "metadata": {},
   "source": [
    "Breakout: Write example using with.."
   ]
  },
  {
   "cell_type": "code",
   "execution_count": null,
   "metadata": {},
   "outputs": [],
   "source": [
    "with open('test_pickle.p', 'rb') as f:\n",
    "    read_dict2 = pickle.load(f)\n",
    "print(read_dict2)"
   ]
  },
  {
   "cell_type": "code",
   "execution_count": null,
   "metadata": {},
   "outputs": [],
   "source": []
  },
  {
   "cell_type": "code",
   "execution_count": 4,
   "metadata": {},
   "outputs": [
    {
     "name": "stdout",
     "output_type": "stream",
     "text": [
      "Original board\n",
      "xxxx__oooo \n",
      "0123456789\n",
      "\n",
      "\n",
      "Move: x: 3 => 5\n",
      "xxx__xoooo \n",
      "0123456789\n",
      "xxx__xoooo \n",
      "0123456789\n",
      "\n",
      "\n",
      "Move: o: 7 => 4\n",
      "xxx_oxo_oo \n",
      "0123456789\n",
      "indeces to kill:  [5]\n",
      "xxx_o_o_oo \n",
      "0123456789\n",
      "\n",
      "\n",
      "Move: x: 0 => 3\n",
      "_xxxo_o_oo \n",
      "0123456789\n",
      "_xxxo_o_oo \n",
      "0123456789\n",
      "\n",
      "\n",
      "Move: o: 9 => 5\n",
      "_xxxooo_o_ \n",
      "0123456789\n",
      "_xxxooo_o_ \n",
      "0123456789\n",
      "\n",
      "\n",
      "Move: x: 3 => 7\n",
      "_xx_oooxo_ \n",
      "0123456789\n",
      "indeces to kill:  [7]\n",
      "_xx_ooo_o_ \n",
      "0123456789\n",
      "\n",
      "\n",
      "Move: o: 4 => 9\n",
      "_xx__oo_oo \n",
      "0123456789\n",
      "_xx__oo_oo \n",
      "0123456789\n",
      "\n",
      "\n",
      "Move: x: 2 => 4\n",
      "_x__xoo_oo \n",
      "0123456789\n",
      "_x__xoo_oo \n",
      "0123456789\n",
      "\n",
      "\n",
      "Move: o: 8 => 7\n",
      "_x__xooo_o \n",
      "0123456789\n",
      "_x__xooo_o \n",
      "0123456789\n",
      "\n",
      "\n",
      "Move: x: 1 => 8\n",
      "____xoooxo \n",
      "0123456789\n",
      "indeces to kill:  [5, 6, 7]\n",
      "____x___xo \n",
      "0123456789\n"
     ]
    }
   ],
   "source": [
    "indices = '0123456789'\n",
    "def move(board, a, b):\n",
    "    print('\\n')\n",
    "    piece = board[a]\n",
    "    board[a] = '_'\n",
    "    board[b] = piece\n",
    "    \n",
    "    print(\"Move: \"+ piece + \": \"+str(a) + \" => \"+ str(b))\n",
    "    print(''.join(board), '\\n'+ indices)\n",
    "    \n",
    "#     if turn == 'x':\n",
    "#         turn == 'o'\n",
    "#     else:\n",
    "#         turn == 'x'\n",
    "        \n",
    "    idx_to_kill = check_kill(board)\n",
    "    kill(board, idx_to_kill)\n",
    "\n",
    "# def check_win(x_score, o_score, alive):\n",
    "#     if x_score + o_score == 10:\n",
    "#         alive = False\n",
    "#         if x_score > o_Score\n",
    "    \n",
    "def check_kill(board):\n",
    "    idx_to_kill = []\n",
    "    for i in range(len(board)-1):  \n",
    "        if board[i] == 'x' and board[i+1] == 'o':\n",
    "            for j in range(i+1, len(board)):\n",
    "                if board[j] == 'x':\n",
    "                    print('indeces to kill: ', idx_to_kill)\n",
    "                    return idx_to_kill\n",
    "                elif board[j] == '_':\n",
    "                    idx_to_kill.clear()\n",
    "                    break\n",
    "                else:\n",
    "                    idx_to_kill.append(j)\n",
    "        elif board[i]=='o' and board[i+1]=='x':\n",
    "            for j in range(i+1, len(board)):\n",
    "                if board[j] == 'o':\n",
    "                    print('indeces to kill: ', idx_to_kill)\n",
    "                    return idx_to_kill\n",
    "                elif board[j] == '_':\n",
    "                    idx_to_kill.clear()\n",
    "                    break\n",
    "                else:\n",
    "                    idx_to_kill.append(j)\n",
    "    return []\n",
    "\n",
    "def kill(board, idx_to_kill):\n",
    "    for i in idx_to_kill:\n",
    "        board[i] = '_'\n",
    "    print(''.join(board), '\\n'+indices)\n",
    "        \n",
    "        \n",
    "def main():\n",
    "    indices = '0123456789'\n",
    "    board = list(\"xxxx__oooo\")\n",
    "    print('Original board')\n",
    "    print(''.join(board), '\\n'+indices)\n",
    "\n",
    "    turn = 'x'\n",
    "\n",
    "    move(board, 3, 5)\n",
    "    # survive(board)\n",
    "    move(board, 7, 4)\n",
    "    # survive(board)\n",
    "    move(board, 0, 3)\n",
    "    move(board, 9, 5)\n",
    "    move(board, 3, 7)\n",
    "    move(board, 4, 9)\n",
    "    move(board, 2, 4)\n",
    "    move(board, 8, 7)\n",
    "    move(board, 1, 8)\n",
    "    \n",
    "main()"
   ]
  },
  {
   "cell_type": "code",
   "execution_count": null,
   "metadata": {},
   "outputs": [],
   "source": [
    "game = Alak(interactive = False, random = False, NN = True)\n",
    "o_num = 0\n",
    "game_num = 100\n",
    "for k in ranhe(game_num):\n",
    "    print('\\nGAME: {}\\n'.format(k))\n",
    "    game.reset()\n",
    "    game.play()\n",
    "    if game.o_won:\n",
    "        o_num += 1\n",
    "        \n",
    "    print(k, game.X.shape)\n",
    "    print(k, game.y.shape)\n",
    "    if k == 0:\n",
    "        X = game.X\n",
    "        y = game.y\n",
    "    else:\n",
    "        X = np.vstack((X, game.X))\n",
    "        y = np.concatenate((y, game.y))\n",
    "\n",
    "print(X.shape)\n",
    "print(y.shape)\n",
    "print('o win percentage', o_num/game_num)"
   ]
  },
  {
   "cell_type": "code",
   "execution_count": null,
   "metadata": {},
   "outputs": [],
   "source": [
    "print('o win percentage', o_num/game_num)\n",
    "print(X.shape)\n",
    "print(y.shape)\n",
    "print(game.random, game.interactive, game.NN)"
   ]
  },
  {
   "cell_type": "code",
   "execution_count": null,
   "metadata": {},
   "outputs": [],
   "source": [
    "'''\n",
    "Savgin data\n",
    "\n",
    "\n",
    "'''\n",
    "with open('alak_train.p', 'wb') as f:\n",
    "    pickle.dump((X, y), f)"
   ]
  },
  {
   "cell_type": "code",
   "execution_count": null,
   "metadata": {},
   "outputs": [],
   "source": [
    "with open('alak_train.p', 'rb') as f:\n",
    "    train_data = pickle.load(f)\n",
    "X, y = train_data\n",
    "print(X.shape)\n",
    "print(y.shape)"
   ]
  },
  {
   "cell_type": "code",
   "execution_count": null,
   "metadata": {},
   "outputs": [],
   "source": [
    "print(y)\n",
    "print(X)"
   ]
  }
 ],
 "metadata": {
  "kernelspec": {
   "display_name": "Python 3",
   "language": "python",
   "name": "python3"
  },
  "language_info": {
   "codemirror_mode": {
    "name": "ipython",
    "version": 3
   },
   "file_extension": ".py",
   "mimetype": "text/x-python",
   "name": "python",
   "nbconvert_exporter": "python",
   "pygments_lexer": "ipython3",
   "version": "3.8.3"
  }
 },
 "nbformat": 4,
 "nbformat_minor": 4
}
