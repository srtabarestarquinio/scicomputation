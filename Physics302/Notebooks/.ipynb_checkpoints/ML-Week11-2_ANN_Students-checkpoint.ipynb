{
 "cells": [
  {
   "cell_type": "markdown",
   "metadata": {},
   "source": [
    "# Multi-layer Forward-feed NN \n",
    "\n",
    "## 1. Plotting Decision Boundaries\n",
    "## 2. The Problem of Overfitting: Training vs. Validation Sets\n",
    "## 3. The Regularization Parameter: alpha\n"
   ]
  },
  {
   "cell_type": "code",
   "execution_count": 1,
   "metadata": {},
   "outputs": [],
   "source": [
    "%matplotlib inline\n",
    "# All imports\n",
    "\n",
    "from random import choice\n",
    "import numpy as np\n",
    "import matplotlib.pyplot as plt\n",
    "# from copy import copy\n",
    "# import time\n",
    "# from IPython import display\n",
    "\n",
    "\n",
    "# from sklearn.neural_network import MLPClassifier\n",
    "\n",
    "np.set_printoptions(formatter={'float': '{:.5f}'.format})\n"
   ]
  },
  {
   "cell_type": "code",
   "execution_count": 2,
   "metadata": {},
   "outputs": [],
   "source": [
    "import sklearn\n",
    "# print(sklearn.__version__)\n",
    "\n",
    "# ------------> Note: new imports <------------------\n",
    "from sklearn.neural_network import MLPRegressor, MLPClassifier\n",
    "from sklearn.model_selection import train_test_split"
   ]
  },
  {
   "cell_type": "markdown",
   "metadata": {},
   "source": [
    "## Let's take a look at the sklearn neural network documentation:\n",
    "\n",
    "http://scikit-learn.org/dev/modules/neural_networks_supervised.html"
   ]
  },
  {
   "cell_type": "markdown",
   "metadata": {},
   "source": [
    "## Summary: \n",
    "\n",
    "- ## Activation: {‘logistic’, ‘tanh’, ‘relu’}; for classifcation: default ‘relu’\n",
    "\n",
    "     Activation function for the hidden layer.\n",
    "\n",
    "     ‘logistic’, the logistic sigmoid function, returns f(x) = 1 / (1 + exp(-x)).\n",
    "\n",
    "     ‘tanh’, the hyperbolic tan function, returns f(x) = tanh(x).\n",
    "\n",
    "     ‘relu’, the rectified linear unit function, returns f(x) = max(0, x)\n",
    "     \n",
    "     From experience: \n",
    "     \n",
    "     'relu' is effective for classification, but NOT for regression -- why?  \n",
    "     Whereas 'tanh' is much better for regression.\n",
    "\n",
    "- ## Important Attributes (suppose we're using a classifier):\n",
    "\n",
    "    clf.coefs\\_\n",
    "    \n",
    "    clf.intercepts\\_ weights for just biases\n",
    "    \n",
    "    clf.loss\\_ loss function\n",
    "    \n",
    "    clf.out\\_activation\\_ sigmoid function\n",
    "    \n",
    "    clf.score\n",
    "    \n",
    "    clf.decision_function (has to be accessed a different way -- see my comments for the decision_function cell in Week9-1)\n",
    "    \n",
    "- ## Methods:\n",
    "\n",
    "    fit(X, y)  Fit the model to data matrix X and target(s) y.\n",
    "\n",
    "    get_params([deep]) Get parameters for this estimator.\n",
    "\n",
    "    predict(X)  Predict using the multi-layer perceptron classifier\n",
    "\n",
    "    predict_log_proba(X)  Return the log of probability estimates.\n",
    "\n",
    "    predict_proba(X)   Probability estimates.\n",
    "\n",
    "    score(X, y[, sample_weight])   Return the mean accuracy on the given test data and labels.\n",
    "\n",
    "    set_params(\\*\\*params)  Set the parameters of this estimator.\n",
    "    \n",
    "- ## Difference between a classifier and a regressor:\n",
    "\n",
    "    The regressror (fitting model, chi2 minimization) does NOT have an output activation function, or \n",
    "    \n",
    "    The output activation funciton for the regressor is the identity\n",
    "\n"
   ]
  },
  {
   "cell_type": "code",
   "execution_count": null,
   "metadata": {},
   "outputs": [],
   "source": []
  },
  {
   "cell_type": "code",
   "execution_count": null,
   "metadata": {},
   "outputs": [],
   "source": []
  },
  {
   "cell_type": "markdown",
   "metadata": {},
   "source": [
    "## Now, our favorite problem the XOR"
   ]
  },
  {
   "cell_type": "code",
   "execution_count": 3,
   "metadata": {},
   "outputs": [
    {
     "name": "stdout",
     "output_type": "stream",
     "text": [
      "[[0 0]\n",
      " [0 1]\n",
      " [1 0]\n",
      " [1 1]]\n"
     ]
    },
    {
     "data": {
      "text/plain": [
       "array([0, 1, 1, 0])"
      ]
     },
     "execution_count": 3,
     "metadata": {},
     "output_type": "execute_result"
    }
   ],
   "source": [
    "X_train = np.array([[0, 0],\n",
    "                  [0, 1],          \n",
    "                  [1, 0],\n",
    "                  [1, 1]])\n",
    "\n",
    "y_train = np.array([0, 1, 1, 0])\n",
    "\n",
    "# using 'tanh' as activation function\n",
    "# default value: learning_rate_init = 0.001 way too slow,\n",
    "# so change it to 0.2\n",
    "#solver='lbfgs' is for second derivative\n",
    "#alpha really low, so bassically no regularization but not zero to avoid instability problems\n",
    "# random_state is like seed, not stocastic, so that it is reprodusable, to make sure training keeps going through same sequence\n",
    "clf = MLPClassifier(solver='lbfgs', alpha=1e-10, hidden_layer_sizes=(2, 2), activation = 'tanh', \\\n",
    "                    random_state=5, max_iter=10000, learning_rate_init=0.1)\n",
    "\n",
    "# try sgd\n",
    "# clf = MLPClassifier(solver=\"sgd\", alpha=1e-5, hidden_layer_sizes=(2, 2), activation='tanh', \\\n",
    "#                     random_state=5, max_iter=10000, learning_rate_init = 0.1)\n",
    "\n",
    "clf.fit(X_train, y_train)\n",
    "print(X_train)\n",
    "clf.predict(X_train)"
   ]
  },
  {
   "cell_type": "markdown",
   "metadata": {},
   "source": [
    "## Breakout Exercise:\n",
    "\n",
    "## Modify the function visual_NN_boundaries from previous class to generate 2000 random points in the square of x1 between (0, 1) and x2 between (0, 1) to visualize the decision boundaries, where x1 and x2 are Cartesian coordinates:\n",
    "\n",
    "## 1. Explicitly instantiate the subplot (or Axes) object:\n",
    "\n",
    "    fig, ax = plt.subplots()\n",
    "    \n",
    "## 2. Set the aspect ratio to 1:1\n",
    "\n",
    "    ax.set_aspect('equal')\n",
    "    \n",
    "## 3. Try plotting with or without this line"
   ]
  },
  {
   "cell_type": "code",
   "execution_count": 4,
   "metadata": {},
   "outputs": [
    {
     "data": {
      "image/png": "[encoded data removed]",
      "text/plain": [
       "<Figure size 432x288 with 1 Axes>"
      ]
     },
     "metadata": {
      "needs_background": "light"
     },
     "output_type": "display_data"
    }
   ],
   "source": [
    "'''\n",
    "Breakout Solution:\n",
    "\n",
    "Two-layer NN as a classifier, using XOR truth table.\n",
    "'''\n",
    "\n",
    "def visual_NN_boundaries(X_train, y_train, Nsamp = 2000):\n",
    "    X = np.random.rand(2000, 2)\n",
    "\n",
    "    z = clf.predict(X)\n",
    "    \n",
    "    fig, ax = plt.subplots()\n",
    "    ax.set_aspect('equal')#this makes the figure a square\n",
    "    for i, x in enumerate(X):\n",
    "        if z[i]:\n",
    "            plt.plot(x[0], x[1], 'r.')\n",
    "        else:\n",
    "            plt.plot(x[0], x[1], 'b.')\n",
    "\n",
    "    plt.axis([-0.1, 1.1, -0.1, 1.1])\n",
    "\n",
    "    for i, x_train in enumerate(X_train):\n",
    "        if y_train[i]:\n",
    "            plt.plot(x_train[0], x_train[1], 'ro', ms = 20)\n",
    "        else:\n",
    "            plt.plot(x_train[0], x_train[1], 'bo', ms = 20)\n",
    "\n",
    "    plt.show()\n",
    "    \n",
    "visual_NN_boundaries(X_train, y_train)"
   ]
  },
  {
   "cell_type": "markdown",
   "metadata": {},
   "source": [
    "## Breakout Exercise:\n",
    "\n",
    "## Instead of using random pairs of (x1, x2) coordinates, now generate a grid of points for x1 between [0, 1) and for x2 between [0, 1).  Find the predictions (that is, the the output, z) by using the trained classifier for these points.  Try a (10, 10) grid first.\n",
    "\n",
    "\n",
    "## Suggestions: \n",
    "\n",
    "    1. Use np.meshgrid() to creat 100 pairs of (x1, x2) coordinates)\n",
    "    2. Flatten the 2d arrays that correspond to all the x1 values and all the x2 values\n",
    "    3. Create X by using np.column_stack().  Remmember X should be in this case 100 pairs of (x1, x2)\n",
    "    4. Make prediction using the trained nn\n",
    "    5. Print the predictions z for all 100 points\n",
    "\n",
    "## Then use \n",
    "\n",
    "    plt.contourf() \n",
    "    \n",
    "to demarcate the boundaries.  A useful resource: \n",
    "\n",
    "https://matplotlib.org/3.3.2/api/_as_gen/matplotlib.pyplot.contourf.html"
   ]
  },
  {
   "cell_type": "code",
   "execution_count": 5,
   "metadata": {},
   "outputs": [
    {
     "name": "stdout",
     "output_type": "stream",
     "text": [
      "Predictions: \n",
      " [[0 0 1 1 1 1 1 1 1 1]\n",
      " [0 1 1 1 1 1 1 1 1 1]\n",
      " [1 1 1 1 1 1 1 1 1 1]\n",
      " [1 1 1 1 1 1 1 1 1 1]\n",
      " [1 1 1 1 1 1 1 1 1 1]\n",
      " [1 1 1 1 1 1 1 1 1 0]\n",
      " [1 1 1 1 1 1 1 1 0 0]\n",
      " [1 1 1 1 1 1 1 0 0 0]\n",
      " [1 1 1 1 1 0 0 0 0 0]\n",
      " [1 1 1 1 0 0 0 0 0 0]]\n"
     ]
    },
    {
     "data": {
      "image/png": "[encoded data removed]",
      "text/plain": [
       "<Figure size 432x288 with 1 Axes>"
      ]
     },
     "metadata": {
      "needs_background": "light"
     },
     "output_type": "display_data"
    }
   ],
   "source": [
    "#1. Use np.meshgrid() to creat 100 pairs of (x1, x2) coordinates)\n",
    "# x = np.arange(0, 1, 0.1)\n",
    "# x1, x2 = np.meshgrid(x, x)\n",
    "#more general way:\n",
    "x1_min, x1_max = X_train.T[0].min(), X_train.T[0].max()\n",
    "x2_min, x2_max = X_train.T[1].min(), X_train.T[1].max()\n",
    "step_size = 0.1\n",
    "x1, x2 = np.meshgrid(np.arange(x1_min, x1_max, step_size), np.arange(x2_min, x2_max, step_size))\n",
    "\n",
    "# 2. Flatten the 2d arrays that correspond to all the x1 values and all the x2 values\n",
    "shape = x1.shape\n",
    "x1_flat = x1.ravel()\n",
    "x2_flat = x2.ravel()\n",
    "\n",
    "# 3. Create X by using np.column_stack(). coordinates\n",
    "X = np.column_stack((x1_flat, x2_flat))\n",
    "\n",
    "# 4. Make prediction using the trained nn\n",
    "z = clf.predict(X)\n",
    "z = z.reshape(shape)\n",
    "# 5. Print the predictions z for all 100 points\n",
    "print('Predictions: \\n', z)\n",
    "fig, ax = plt.subplots()\n",
    "ax.set_aspect('equal')\n",
    "cs = plt.contourf(x1, x2, z, cmap=plt.cm.plasma) #contourf is find contour and fill\n",
    "ax.set_title('XOR Decision Boundaries')\n",
    "ax.set_xlabel('x1')\n",
    "ax.set_ylabel('x2')\n",
    "plt.show()\n",
    "# ax.imshow(z, extent=[0, 1, 0, 1])"
   ]
  },
  {
   "cell_type": "code",
   "execution_count": 6,
   "metadata": {},
   "outputs": [
    {
     "name": "stdout",
     "output_type": "stream",
     "text": [
      "x values for the training set: [0 0 1 1]\n",
      "y values for the training set: [0 1 0 1]\n"
     ]
    }
   ],
   "source": [
    "print('x values for the training set:', X_train.T[0])\n",
    "print('y values for the training set:', X_train.T[1])"
   ]
  },
  {
   "cell_type": "markdown",
   "metadata": {},
   "source": [
    "## ANN for Regression"
   ]
  },
  {
   "cell_type": "markdown",
   "metadata": {},
   "source": [
    "## In the (1, 1, 1) NN, you are only able to generate the activation function.\n",
    "\n",
    "- ## The input-to-hidden layer weight passes through the activation function and so it sets the scale for independnect variable (usu. x).\n",
    "- ## The the hidden layer-to-output layer weight, on the other hand, doesn't pass through the activation function (at least not the same one as the hidden layer), and it sets the vertical scale."
   ]
  },
  {
   "cell_type": "code",
   "execution_count": 7,
   "metadata": {},
   "outputs": [
    {
     "name": "stdout",
     "output_type": "stream",
     "text": [
      "Total number of points: 40\n",
      "Total number of weights: [(1, 1), (1, 1)]\n",
      "Loss function 0.3491153171692497\n",
      "score 0.9662101514501872\n"
     ]
    },
    {
     "data": {
      "image/png": "[encoded data removed]",
      "text/plain": [
       "<Figure size 432x288 with 1 Axes>"
      ]
     },
     "metadata": {
      "needs_background": "light"
     },
     "output_type": "display_data"
    },
    {
     "data": {
      "image/png": "[encoded data removed]",
      "text/plain": [
       "<Figure size 432x288 with 1 Axes>"
      ]
     },
     "metadata": {
      "needs_background": "light"
     },
     "output_type": "display_data"
    }
   ],
   "source": [
    "from sklearn.neural_network import MLPRegressor\n",
    "\n",
    "N = 40\n",
    "xmin = 0.\n",
    "xmax = 2.\n",
    "x = np.linspace(xmin, xmax, N)\n",
    "# expects a 2d array.\n",
    "X = np.atleast_2d(x).T\n",
    "\n",
    "a0 = 1.5\n",
    "a1 = 2.\n",
    "a2 = 2.5\n",
    "\n",
    "#Quadratic function:\n",
    "y = a0 + a1*x + a2*x**2  # - a3*x**3 + a4*x**4\n",
    "# add noise\n",
    "y += np.random.randn(y.shape[0]) * 1. \n",
    "\n",
    "# even though there is only one node, it allows for non-linearity throught the tanh funcion.\n",
    "# For regression, don't use the rectifier!!\n",
    "# So in the (1, 1, 1) NN, the nonlinearity comes directly from tanh\n",
    "#only 1 hidden layer with only 1 neuron\n",
    "reg = MLPRegressor(solver='lbfgs', hidden_layer_sizes=(1,), activation='tanh',\\\n",
    "                    random_state=1, max_iter=1000000, learning_rate_init=0.1)\n",
    "\n",
    "#train:\n",
    "reg.fit(X, y)\n",
    "# print('X_train:', X_train)\n",
    "# print('y_train:', y_train)\n",
    "# print('Prediction:')\n",
    "print(\"Total number of points:\", N)\n",
    "print(\"Total number of weights:\", [coef.shape for coef in reg.coefs_])\n",
    "print(\"Loss function\", reg.loss_)\n",
    "\n",
    "\n",
    "# score = 1 is the best; \n",
    "# score = 0 corresponds to fitting the data with a flat line\n",
    "# score can be negative, as a fit can be arbitrarily bad!!\n",
    "print(\"score\", reg.score(X, y))\n",
    "\n",
    "x_plot = np.linspace(xmin, xmax, 1000)\n",
    "X_plot = np.atleast_2d(x_plot).T\n",
    "\n",
    "y_predict = reg.predict(X_plot)\n",
    "plt.plot(x, y, '.')\n",
    "plt.plot(x_plot, y_predict)\n",
    "plt.show()\n",
    "\n",
    "#Architecture: [1, 1, 1]\n",
    "plt.plot(x_plot)\n",
    "plt.show()\n"
   ]
  },
  {
   "cell_type": "code",
   "execution_count": 45,
   "metadata": {},
   "outputs": [
    {
     "data": {
      "text/plain": [
       "'identity'"
      ]
     },
     "execution_count": 45,
     "metadata": {},
     "output_type": "execute_result"
    }
   ],
   "source": [
    "reg.out_activation_"
   ]
  },
  {
   "cell_type": "markdown",
   "metadata": {},
   "source": [
    "## Let's look at the weights"
   ]
  },
  {
   "cell_type": "markdown",
   "metadata": {},
   "source": [
    "## Breakout:\n",
    "\n",
    "- ## 1. Draw the schematic for this NN\n",
    "\n",
    "- ## 2. Write out the output, z, in terms of the input x and the weights (including weights for the bias units), and the tanh function.\n",
    "\n",
    "- ## 3. Impeplement 2. numerically and show that it is exactly the same as the output from the 1-1-1 NN."
   ]
  },
  {
   "cell_type": "code",
   "execution_count": 8,
   "metadata": {},
   "outputs": [],
   "source": [
    "def tanh(x):\n",
    "    sinh = (np.exp(x) - np.exp(-x))/2\n",
    "    cosh = (np.exp(x) + np.exp(-x))/2\n",
    "    return sinh/cosh"
   ]
  },
  {
   "cell_type": "code",
   "execution_count": 9,
   "metadata": {},
   "outputs": [
    {
     "data": {
      "image/png": "[encoded data removed]",
      "text/plain": [
       "<Figure size 432x288 with 1 Axes>"
      ]
     },
     "metadata": {
      "needs_background": "light"
     },
     "output_type": "display_data"
    }
   ],
   "source": [
    "w1 = reg.coefs_[0][0][0]\n",
    "w2 = reg.coefs_[1][0][0]\n",
    "bias1 = reg.intercepts_[0][0]\n",
    "bias2 = reg.intercepts_[1][0]\n",
    "# z = bias2 + tanh(X_plot * reg.coefs_[0][0][0] + bias1) * reg.coefs_[1][0][0]\n",
    "\n",
    "\n",
    "a = X_plot * w1 + bias1 \n",
    "z = bias2 + tanh(a) *w2\n",
    "# z = A * w2    \n",
    "# z = tanh(b) + bias2\n",
    "plt.plot(x_plot, z)\n",
    "plt.show()"
   ]
  },
  {
   "cell_type": "code",
   "execution_count": 10,
   "metadata": {},
   "outputs": [
    {
     "name": "stdout",
     "output_type": "stream",
     "text": [
      "-0.760904070267097 -14.63086626267951\n"
     ]
    }
   ],
   "source": [
    "print(reg.coefs_[0][0, 0], reg.coefs_[1][0][0])"
   ]
  },
  {
   "cell_type": "code",
   "execution_count": 11,
   "metadata": {},
   "outputs": [
    {
     "name": "stderr",
     "output_type": "stream",
     "text": [
      "/opt/anaconda3/lib/python3.8/site-packages/sklearn/neural_network/_multilayer_perceptron.py:471: ConvergenceWarning: lbfgs failed to converge (status=1):\n",
      "STOP: TOTAL NO. of f AND g EVALUATIONS EXCEEDS LIMIT.\n",
      "\n",
      "Increase the number of iterations (max_iter) or scale the data as shown in:\n",
      "    https://scikit-learn.org/stable/modules/preprocessing.html\n",
      "  self.n_iter_ = _check_optimize_result(\"lbfgs\", opt_res, self.max_iter)\n"
     ]
    },
    {
     "name": "stdout",
     "output_type": "stream",
     "text": [
      "Total number of points: 40\n",
      "Total number of weights: [(1, 100), (100, 1)]\n",
      "Loss function 0.02976518398324972\n",
      "score 0.9993278431690975\n",
      "(1000,)\n",
      "(1000, 1)\n"
     ]
    },
    {
     "data": {
      "image/png": "[encoded data removed]",
      "text/plain": [
       "<Figure size 432x288 with 1 Axes>"
      ]
     },
     "metadata": {
      "needs_background": "light"
     },
     "output_type": "display_data"
    }
   ],
   "source": [
    "reg = MLPRegressor(solver='lbfgs', hidden_layer_sizes=(1,), activation='tanh',\\\n",
    "                    random_state=1, max_iter=1000000, learning_rate_init=0.1)\n",
    "\n",
    "\n",
    "reg.hidden_layer_sizes=(100,)\n",
    "reg.fit(X, y)\n",
    "\n",
    "print(\"Total number of points:\", N)\n",
    "print(\"Total number of weights:\", [coef.shape for coef in reg.coefs_])\n",
    "print(\"Loss function\", reg.loss_)\n",
    "print(\"score\", reg.score(X, y))\n",
    "\n",
    "x_plot = np.linspace(xmin, xmax, 1000)\n",
    "X_plot = np.atleast_2d(x_plot).T\n",
    "print(x_plot.shape)\n",
    "print(X_plot.shape)\n",
    "\n",
    "\n",
    "y_predict = reg.predict(X_plot)\n",
    "plt.plot(x, y, '.')\n",
    "plt.plot(x_plot, y_predict)\n",
    "plt.show()\n",
    "\n",
    "#1 input of 40 elements\n",
    "#100 hidden layer size\n",
    "#1 output\n",
    "#every layer has a bias, 1 bias for input + 1 bias for hidden layer\n",
    "#arquitecture: 1, 100, 1, \n",
    "#DOF is data points minus free parameters, should be at least 1 b/c you need \n",
    "#here we have too many DOFs, this is called Overfitting, and fitting through noise, not signal\n"
   ]
  },
  {
   "cell_type": "code",
   "execution_count": 14,
   "metadata": {},
   "outputs": [
    {
     "name": "stdout",
     "output_type": "stream",
     "text": [
      "(30, 1) (30,)\n",
      "(10, 1) (10,)\n",
      "Total number of points: 30\n",
      "Total number of weights: [(1, 100), (100, 1)]\n",
      "score 0.9999956264529701\n",
      "Loss function 0.007882150982020435\n"
     ]
    },
    {
     "data": {
      "image/png": "[encoded data removed]",
      "text/plain": [
       "<Figure size 432x288 with 1 Axes>"
      ]
     },
     "metadata": {
      "needs_background": "light"
     },
     "output_type": "display_data"
    }
   ],
   "source": [
    "'''Splitting data into training and validation (testing) sets'''\n",
    "\n",
    "X_train, X_test, y_train, y_test = train_test_split(X, y, test_size=0.25, random_state=0)\n",
    "#0.25, a quarter of the data, you get 2 data sets, training set and testing/validation set\n",
    "print(X_train.shape, y_train.shape)\n",
    "print(X_test.shape, y_test.shape)\n",
    "\n",
    "# reg = MLPRegressor(algorithm='l-bfgs', hidden_layer_sizes=(80,), activation='tanh',\\\n",
    "#                     random_state=1, max_iter=10000, learning_rate_init = 0.01)\n",
    "\n",
    "reg.hidden_layer_sizes = (100, )\n",
    "\n",
    "reg.fit(X_train, y_train)\n",
    "\n",
    "print(\"Total number of points:\", y_train.shape[0])\n",
    "print(\"Total number of weights:\", [coef.shape for coef in reg.coefs_])\n",
    "#just weights for neurons, not including biases\n",
    "print(\"score\", reg.score(X_train, y_train))\n",
    "#1 score is the best\n",
    "print(\"Loss function\", reg.loss_)\n",
    "\n",
    "x_train = X_train.ravel()\n",
    "sort_i = np.argsort(x_train)\n",
    "x_train = x_train[sort_i]\n",
    "y_train = y_train[sort_i]\n",
    "plt.plot(x_train, y_train, '.')\n",
    "\n",
    "X_plot = np.atleast_2d(np.linspace(0., 2., 1000)).T\n",
    "x_plot = X_plot.ravel()\n",
    "\n",
    "y_predict = reg.predict(X_plot)\n",
    "#now we have a model to predict the outcomes\n",
    "plt.plot(x_train, y_train, '.')\n",
    "plt.plot(x_plot, y_predict)\n",
    "plt.show()"
   ]
  },
  {
   "cell_type": "code",
   "execution_count": 15,
   "metadata": {},
   "outputs": [
    {
     "name": "stdout",
     "output_type": "stream",
     "text": [
      "score 0.6682894083618423\n"
     ]
    },
    {
     "data": {
      "image/png": "[encoded data removed]",
      "text/plain": [
       "<Figure size 432x288 with 1 Axes>"
      ]
     },
     "metadata": {
      "needs_background": "light"
     },
     "output_type": "display_data"
    }
   ],
   "source": [
    "print(\"score\", reg.score(X_test, y_test))\n",
    "#how do you test how well that model predicts?\n",
    "#to put this model that we got form the trainig sample, and test on test sample\n",
    "x_test = X_test.ravel()\n",
    "sort_i = np.argsort(x_test)\n",
    "x_test = x_test[sort_i]\n",
    "y_test = y_test[sort_i]\n",
    "plt.plot(x_test, y_test, '.')\n",
    "\n",
    "plt.plot(x_test, y_test, '.')\n",
    "plt.plot(x_plot, y_predict)\n",
    "plt.show()\n",
    "#we see that the original model overfitted the data"
   ]
  },
  {
   "cell_type": "code",
   "execution_count": 16,
   "metadata": {},
   "outputs": [
    {
     "name": "stdout",
     "output_type": "stream",
     "text": [
      "Total number of points: 30\n",
      "Total number of weights: [(1, 1), (1, 1)]\n",
      "Training score 0.9651722989470738\n",
      "Loss function 0.4282792035245031\n"
     ]
    },
    {
     "data": {
      "image/png": "[encoded data removed]",
      "text/plain": [
       "<Figure size 432x288 with 1 Axes>"
      ]
     },
     "metadata": {
      "needs_background": "light"
     },
     "output_type": "display_data"
    }
   ],
   "source": [
    "X_train, X_test, y_train, y_test = train_test_split(\n",
    "    X, y, test_size=0.25, random_state=0)\n",
    "\n",
    "#we go back to our original model and only train on training data\n",
    "reg.hidden_layer_sizes=(1,)\n",
    "\n",
    "reg.fit(X_train, y_train)\n",
    "# print('X_train:', X_train)\n",
    "# print('y_train:', y_train)\n",
    "# print('Prediction:')\n",
    "print(\"Total number of points:\", y_train.shape[0])\n",
    "print(\"Total number of weights:\", [coef.shape for coef in reg.coefs_])\n",
    "print(\"Training score\", reg.score(X_train, y_train))\n",
    "print(\"Loss function\", reg.loss_)\n",
    "\n",
    "x_train = X_train.ravel()\n",
    "\n",
    "y_predict = reg.predict(X_train)\n",
    "sort_i = np.argsort(x_train)\n",
    "x_train = x_train[sort_i]\n",
    "y_train = y_train[sort_i]\n",
    "\n",
    "\n",
    "X_plot = np.atleast_2d(np.linspace(0., 2., 1000)).T\n",
    "x_plot = X_plot.ravel()\n",
    "\n",
    "y_predict = reg.predict(X_plot)\n",
    "\n",
    "plt.plot(x_train, y_train, '.')\n",
    "plt.plot(x_plot, y_predict)\n",
    "plt.show()"
   ]
  },
  {
   "cell_type": "code",
   "execution_count": 17,
   "metadata": {},
   "outputs": [
    {
     "name": "stdout",
     "output_type": "stream",
     "text": [
      "score 0.9696028004732202\n",
      "Loss function 0.4282792035245031\n"
     ]
    },
    {
     "data": {
      "image/png": "[encoded data removed]",
      "text/plain": [
       "<Figure size 432x288 with 1 Axes>"
      ]
     },
     "metadata": {
      "needs_background": "light"
     },
     "output_type": "display_data"
    }
   ],
   "source": [
    "print(\"score\", reg.score(X_test, y_test))\n",
    "print(\"Loss function\", reg.loss_)\n",
    "X_plot = np.atleast_2d(np.linspace(0., 2., 1000)).T\n",
    "x_plot = X_plot.ravel()\n",
    "#now this model works better on the test set\n",
    "#in this case, suing a less sofisticated architecture, gives you a better model\n",
    "#\n",
    "y_predict = reg.predict(X_plot)\n",
    "\n",
    "x_test = X_test.ravel()\n",
    "sort_i = np.argsort(x_test)\n",
    "x_test = x_test[sort_i]\n",
    "y_test = y_test[sort_i]\n",
    "plt.plot(x_test, y_test, '.')\n",
    "plt.plot(x_plot, y_predict)\n",
    "\n",
    "plt.show()"
   ]
  },
  {
   "cell_type": "markdown",
   "metadata": {},
   "source": [
    "## The Power of Regularization"
   ]
  },
  {
   "cell_type": "code",
   "execution_count": 18,
   "metadata": {},
   "outputs": [
    {
     "name": "stdout",
     "output_type": "stream",
     "text": [
      "Total number of points: 30\n",
      "Total number of weights: [(1, 100), (100, 1)]\n",
      "Training score 0.9650770488043188\n",
      "Loss function 0.5008577399263705\n"
     ]
    },
    {
     "data": {
      "image/png": "[encoded data removed]",
      "text/plain": [
       "<Figure size 432x288 with 1 Axes>"
      ]
     },
     "metadata": {
      "needs_background": "light"
     },
     "output_type": "display_data"
    }
   ],
   "source": [
    "X_train, X_test, y_train, y_test = train_test_split(\n",
    "    X, y, test_size=0.25, random_state=0)\n",
    "\n",
    "reg.hidden_layer_sizes=(100,)\n",
    "#now turn up regularization to avoid overfitting, it is not exactly a simple curve but more complex b/c of the neurons\n",
    "#regularization is a demand that the model be as smooth as possible but not crazy smooth, also has onculations\n",
    "reg.alpha = 0.2\n",
    "#the smaller the alpha, the more ondulation, the bigger alpha, the more smooth\n",
    "\n",
    "reg.fit(X_train, y_train)\n",
    "# print('X_train:', X_train)\n",
    "# print('y_train:', y_train)\n",
    "# print('Prediction:')\n",
    "print(\"Total number of points:\", y_train.shape[0])\n",
    "print(\"Total number of weights:\", [coef.shape for coef in reg.coefs_])\n",
    "print(\"Training score\", reg.score(X_train, y_train))\n",
    "print(\"Loss function\", reg.loss_)\n",
    "\n",
    "x_train = X_train.ravel()\n",
    "\n",
    "y_predict = reg.predict(X_train)\n",
    "sort_i = np.argsort(x_train)\n",
    "x_train = x_train[sort_i]\n",
    "y_train = y_train[sort_i]\n",
    "\n",
    "\n",
    "X_plot = np.atleast_2d(np.linspace(0., 2., 1000)).T\n",
    "x_plot = X_plot.ravel()\n",
    "\n",
    "y_predict = reg.predict(X_plot)\n",
    "\n",
    "plt.plot(x_train, y_train, '.')\n",
    "plt.plot(x_plot, y_predict)\n",
    "plt.show()"
   ]
  },
  {
   "cell_type": "code",
   "execution_count": 19,
   "metadata": {},
   "outputs": [
    {
     "name": "stdout",
     "output_type": "stream",
     "text": [
      "score 0.9702349145540765\n",
      "Loss function 0.5008577399263705\n"
     ]
    },
    {
     "data": {
      "image/png": "[encoded data removed]",
      "text/plain": [
       "<Figure size 432x288 with 1 Axes>"
      ]
     },
     "metadata": {
      "needs_background": "light"
     },
     "output_type": "display_data"
    }
   ],
   "source": [
    "print(\"score\", reg.score(X_test, y_test))\n",
    "print(\"Loss function\", reg.loss_)\n",
    "X_plot = np.atleast_2d(np.linspace(0., 2., 1000)).T\n",
    "x_plot = X_plot.ravel()\n",
    "\n",
    "y_predict = reg.predict(X_plot)\n",
    "\n",
    "x_test = X_test.ravel()\n",
    "sort_i = np.argsort(x_test)\n",
    "x_test = x_test[sort_i]\n",
    "y_test = y_test[sort_i]\n",
    "plt.plot(x_test, y_test, '.')\n",
    "plt.plot(x_plot, y_predict)\n",
    "\n",
    "plt.show()"
   ]
  },
  {
   "cell_type": "markdown",
   "metadata": {},
   "source": [
    "# End of Week11-2"
   ]
  }
 ],
 "metadata": {
  "kernelspec": {
   "display_name": "Python 3",
   "language": "python",
   "name": "python3"
  },
  "language_info": {
   "codemirror_mode": {
    "name": "ipython",
    "version": 3
   },
   "file_extension": ".py",
   "mimetype": "text/x-python",
   "name": "python",
   "nbconvert_exporter": "python",
   "pygments_lexer": "ipython3",
   "version": "3.8.3"
  }
 },
 "nbformat": 4,
 "nbformat_minor": 4
}
