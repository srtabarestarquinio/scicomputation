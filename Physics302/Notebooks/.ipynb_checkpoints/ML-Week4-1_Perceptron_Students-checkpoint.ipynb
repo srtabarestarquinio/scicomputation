{
 "cells": [
  {
   "cell_type": "markdown",
   "metadata": {},
   "source": [
    "## The Perceptron\n",
    "\n",
    "The simplest model of a neuron is that it takes a number of inputs, and when the total stimulus reaches a certain threshold, the neuron \"fires\" (sends out an electronic signal to another neuron).\n",
    "\n",
    "Mathematically, we can model it in the following way:\n",
    "\n",
    "$$y=\\sum_{i = 1}^{n} {w_i x_i} = \\vec{w} \\cdot \\vec{x} \\tag {1}$$\n",
    "\n",
    "where the $(x_1, x_2, ..., x_n)$ are the inputs, with different weights $(w_1, w_2, ..., w_n)$ for each of them, and $y$ is the total stimulus.\n",
    "\n",
    "(In coding, $\\vec{w}$ and $\\vec{x}$ will be implemented as numpy arrays.)\n",
    "\n",
    "The weighted sum $y$ of these inputs is then compared with a threshold, sometimes represented by step function:\n",
    "\n",
    "\n",
    "$$z(y) = \\begin{cases} \n",
    "      0 & y\\leq 0 \\\\\n",
    "      1 & y\\gt 0\n",
    "\\end{cases} \\tag {2}$$\n",
    "\n",
    "Really, $z$ is a function of $\\vec{x}$ and the weights, $\\vec{w}$, $z(\\vec{x}, \\vec{w})$.\n",
    "\n",
    "We then compare $z$ with a desired output: $d(\\vec{x})$ (which obviously depends on the input, but not the weights).\n",
    "\n",
    "Depending on how $z$ is different from $d$, we will adjust the weights to move $z$ closer and closer to $d$.  This process is called \"training\" (the weights).\n",
    "\n",
    "This is what we call a *perceptron*.\n",
    "\n",
    "Once a perceptron is trained, it can then produce an output given a set of previously unseen inputs."
   ]
  },
  {
   "cell_type": "markdown",
   "metadata": {},
   "source": [
    "## There is one problem:\n",
    "\n",
    "When the threshold function $z$ is written in the form of (2), $\\vec{x} = 0$ is necessarily at the boundary.  This may or may not be desirable."
   ]
  },
  {
   "cell_type": "markdown",
   "metadata": {},
   "source": [
    "## The fix: Introducing the bias, $b$,\n",
    "\n",
    "$$\n",
    "y=\\sum_{i}^{n} {w_i x_i} + b = \\vec{w} \\cdot \\vec{x} + b\\tag {3}\n",
    "$$\n",
    "\n",
    "\n",
    "Then, \n",
    "$$\n",
    "z(y) = z(\\vec{x}, \\vec{w}; b) = \\begin{cases}\n",
    "      0 & y\\leq 0 \\\\\n",
    "      1 & y\\gt 0\n",
    "\\end{cases} \\tag{4}$$\n",
    "\n",
    "The bias shifts the (threshold, or decision) boundary away from the origin and is independent on any input value."
   ]
  },
  {
   "cell_type": "markdown",
   "metadata": {},
   "source": [
    "## Conceptually, it's clearer to think of the problem in this way and treat the inputs and the bias distinctly.\n",
    "\n",
    "## However, mathematically (and numerically):\n",
    "\n",
    "*It's more convenient to implement the bias as an addition input with a constant value of 1.  Assign a weight for this (fake) input, then the weight is the same as the bias; $b$.*"
   ]
  },
  {
   "cell_type": "markdown",
   "metadata": {},
   "source": [
    "## Simple Example:\n",
    "\n",
    "## A perceptron that performs the AND operation on two inputs:\n",
    "\n",
    "| $x_1$ | $x_2$ | $z$   |\n",
    "|:-:    |:-:    |:-:    |   \n",
    "|   0   |   0   |   0   |\n",
    "|   0   |   1   |   0   |\n",
    "|   1   |   0   |   0   |\n",
    "|   1   |   1   |   1   |\n",
    "\n",
    " \n",
    "\n"
   ]
  },
  {
   "cell_type": "markdown",
   "metadata": {},
   "source": [
    "## You'd think in this case, two inputs, $x_1$ and $x_2$ would be enough...\n",
    "\n",
    "But acutally we need the bias.  Let's implement it as the third input; call it $x_3$ with an associated weight $w_3$.  You don't care about $w_3$ -- it's only there to help you achieve the desired outcome. \n",
    "\n"
   ]
  },
  {
   "cell_type": "code",
   "execution_count": 1,
   "metadata": {},
   "outputs": [],
   "source": [
    "%matplotlib inline\n",
    "# All imports\n",
    "from random import choice\n",
    "import numpy as np\n",
    "import matplotlib.pyplot as plt\n"
   ]
  },
  {
   "cell_type": "markdown",
   "metadata": {},
   "source": [
    "## Mini-breakout:\n",
    "- ## Write a python function that is the step function; call it step_function.\n",
    "- ## Turn it into a lambda function; call it step_fn. \n",
    "- ## Modify your lambda function and call it step_fun so that you can plot it for x between -10 and 10, say."
   ]
  },
  {
   "cell_type": "code",
   "execution_count": 2,
   "metadata": {},
   "outputs": [
    {
     "name": "stdout",
     "output_type": "stream",
     "text": [
      "Step_function\n",
      "-1 0\n",
      "0 0\n",
      "1 1\n",
      "Step_fn lambda\n",
      "-1 0\n",
      "0 0\n",
      "1 1\n",
      "Step_fun lambda\n"
     ]
    },
    {
     "data": {
      "image/png": "[encoded data removed]",
      "text/plain": [
       "<Figure size 432x288 with 1 Axes>"
      ]
     },
     "metadata": {
      "needs_background": "light"
     },
     "output_type": "display_data"
    }
   ],
   "source": [
    "#step function\n",
    "print(\"Step_function\")\n",
    "def step_function(x):\n",
    "    if(x<=0):\n",
    "        return 0\n",
    "    elif(x>0):\n",
    "        return 1\n",
    "for i in range(-1, 2):\n",
    "    print(i, step_function(i))\n",
    "#step_fn lambda function\n",
    "print(\"Step_fn lambda\")\n",
    "step_fn = lambda x: 0 if x<=0 else 1\n",
    "for i in range(-1, 2):\n",
    "    print(i, step_fn(i))\n",
    "\n",
    "print(\"Step_fun lambda\") \n",
    "step_fun= lambda x: x>0\n",
    "x=np.linspace(-10, 10, 100)\n",
    "z=step_fun(x)\n",
    "plt.plot(x, z)\n",
    "plt.ylim(-.1, 1.1)\n",
    "plt.show()\n"
   ]
  },
  {
   "cell_type": "code",
   "execution_count": 3,
   "metadata": {},
   "outputs": [
    {
     "name": "stdout",
     "output_type": "stream",
     "text": [
      "Trained weights (last one is the bias): [-0.48088972 -0.18842831  0.11330094]\n",
      "\n",
      "[0 0]: 0.1133 -> 1\n",
      "[0 1]: -0.0751 -> 0\n",
      "[1 0]: -0.3676 -> 0\n",
      "[1 1]: -0.5560 -> 0\n"
     ]
    }
   ],
   "source": [
    "'''\n",
    "Perceptron to implement the NOR operation\n",
    "\n",
    "With combined error.\n",
    "\n",
    "'''\n",
    "#4 tuples representing the 4 truth table\n",
    "training_data = [\n",
    "    (np.array([0,0,1]), 1),\n",
    "    (np.array([0,1,1]), 0),\n",
    "    (np.array([1,0,1]), 0),\n",
    "    (np.array([1,1,1]), 0),\n",
    "]\n",
    "\n",
    "# usu. random numbers for weights is not a bad starting point\n",
    "w = np.random.rand(3)\n",
    "#3 weights plus bias\n",
    "errors = []\n",
    "\n",
    "# \"learning rate\"\n",
    "alfa = 0.2\n",
    "\n",
    "# use 100 training steps\n",
    "n = 100\n",
    "# w.history = []\n",
    "for i in range(n):\n",
    "    #stochastic gradient of descent SGD\n",
    "    #choses randomly one of the tuples of the training_data\n",
    "    x, target = choice(training_data)\n",
    "    #b is now part of (w, x), x is 1 and w is bias\n",
    "    y = np.dot(w, x)\n",
    "    error = target - step_fun(y)\n",
    "    errors.append(error)\n",
    "    #updating w\n",
    "    w += alfa * error * x\n",
    "\n",
    "print('Trained weights (last one is the bias): {}\\n'.format(w))\n",
    "\n",
    "#sanity check: applying trained perceptron to the training data -- it ought to work!\n",
    "for x, _ in training_data:\n",
    "    y = np.dot(x, w)\n",
    "    # not including the bias, x[3]\n",
    "    print(\"{}: {:.4f} -> {:d}\".format(x[:2], y, step_fun(y)))"
   ]
  },
  {
   "cell_type": "code",
   "execution_count": 4,
   "metadata": {},
   "outputs": [
    {
     "data": {
      "image/png": "[encoded data removed]",
      "text/plain": [
       "<Figure size 432x288 with 1 Axes>"
      ]
     },
     "metadata": {
      "needs_background": "light"
     },
     "output_type": "display_data"
    }
   ],
   "source": [
    "#how the learning happens\n",
    "#you expect error to go down to zero\n",
    "plt.plot(np.arange(n), errors, '.')\n",
    "plt.ylim(-1.1, 1.1)\n",
    "plt.xlim(0, 50)\n",
    "plt.xlabel('Step')\n",
    "plt.ylabel('Error')\n",
    "plt.show()"
   ]
  },
  {
   "cell_type": "code",
   "execution_count": 5,
   "metadata": {},
   "outputs": [
    {
     "name": "stdout",
     "output_type": "stream",
     "text": [
      "[0.4 0.3]: -0.1356 -> 0\n"
     ]
    }
   ],
   "source": [
    "#applying the trained perceptron to new data. Note I added the bias\n",
    "#1 is bias\n",
    "x_test = np.array([0.4, 0.3, 1])\n",
    "y = np.dot(x_test, w)\n",
    "print(\"{}: {:.4f} -> {:d}\".format(x_test[:2], y, step_fun(y)))"
   ]
  },
  {
   "cell_type": "markdown",
   "metadata": {},
   "source": [
    "## Let's turn this into a classifier!!"
   ]
  },
  {
   "cell_type": "code",
   "execution_count": 6,
   "metadata": {},
   "outputs": [],
   "source": [
    "'''\n",
    "Perceptron to implement the AND operation\n",
    "\n",
    "There are lots of subtlties here.\n",
    "\n",
    "'''\n",
    "def NOR_perceptron_classifier(x, show_train=False):    \n",
    "    '''\n",
    "    this funtion trains on NOR gate data\n",
    "    Input: x(data)\n",
    "    Returns the prediction for x, and the trained weights\n",
    "    '''\n",
    "    training_data = [\n",
    "        (np.array([0,0,1]), 0),\n",
    "        (np.array([0,1,1]), 1),\n",
    "        (np.array([1,0,1]), 1),\n",
    "        (np.array([1,1,1]), 0),\n",
    "    ]\n",
    "\n",
    "    # usu. random numbers for weights is not a bad starting point\n",
    "    w = np.random.rand(3)\n",
    "    errors = []\n",
    "\n",
    "    # \"learning rate\"\n",
    "    alfa = 0.2\n",
    "\n",
    "    # use 100 training steps\n",
    "    n = 100\n",
    "    # w.history = []\n",
    "    for i in range(n):\n",
    "        x_train, target = choice(training_data)\n",
    "        y = np.dot(w, x_train)\n",
    "        error = target - step_fun(y)\n",
    "        errors.append(error)\n",
    "        w += alfa * error * x_train\n",
    "    \n",
    "    if show_train:\n",
    "        print('weights:', w)\n",
    "        print('Training results:')\n",
    "        for x_train, _ in training_data:\n",
    "            y = np.dot(x_train, w)\n",
    "            print(\"{}: {} -> {}\".format(x_train[:2], y, step_fun(y)))\n",
    "    \n",
    "    #add the bias node\n",
    "    x = np.append(x, 1)\n",
    "    return step_fun(np.dot(x, w)), w"
   ]
  },
  {
   "cell_type": "code",
   "execution_count": 7,
   "metadata": {},
   "outputs": [
    {
     "name": "stdout",
     "output_type": "stream",
     "text": [
      "0\n"
     ]
    }
   ],
   "source": [
    "z = NOR_perceptron_classifier(np.array([0.0, 0.2]))[0]\n",
    "print('{:d}'.format(z))"
   ]
  },
  {
   "cell_type": "markdown",
   "metadata": {},
   "source": [
    "## Breakout: Try 20 pairs of random numbers between [0, 1]\n",
    "\n",
    "- ## Classify them according their \"z\" value.\n",
    "\n",
    "- ## Plot them, with color coding according their \"z\" value.\n"
   ]
  },
  {
   "cell_type": "code",
   "execution_count": 8,
   "metadata": {},
   "outputs": [
    {
     "data": {
      "image/png": "[encoded data removed]",
      "text/plain": [
       "<Figure size 432x288 with 1 Axes>"
      ]
     },
     "metadata": {
      "needs_background": "light"
     },
     "output_type": "display_data"
    }
   ],
   "source": [
    "#fraccionally points\n",
    "x_arr = np.random.rand(20, 2)\n",
    "z_arr=np.array([])\n",
    "for x in x_arr:\n",
    "    z, x = NOR_perceptron_classifier(x)\n",
    "    z_arr = np.append(z_arr, z)\n",
    "    \n",
    "for i, x in enumerate(x_arr):\n",
    "    if z_arr[i]:\n",
    "        plt.plot(x[0], x[1], 'x', color='r')\n",
    "    else:\n",
    "        plt.plot(x[0], x[1], 'x', color='b')\n",
    "plt.xlabel('x1')\n",
    "plt.ylabel('x2')\n",
    "plt.show()\n",
    "\n"
   ]
  },
  {
   "cell_type": "code",
   "execution_count": 9,
   "metadata": {},
   "outputs": [],
   "source": [
    "#x_arr.T[0]"
   ]
  },
  {
   "cell_type": "markdown",
   "metadata": {},
   "source": [
    "## Breakout: Try 100 pairs of random numbers between [0, 1]\n",
    "\n",
    "- ## Classify them according their \"z\" value.\n",
    "\n",
    "- ## Plot them, with color coding according their \"z\" value.\n",
    "\n",
    "- ## Plot the four training points using large symbols, also color coded according their \"z\" values.  For inspiration:\n",
    "\n",
    "       http://matplotlib.org/api/pyplot_api.html\n",
    "\n",
    "- ## Plot the decision boundary (a line) using w."
   ]
  },
  {
   "cell_type": "code",
   "execution_count": 10,
   "metadata": {},
   "outputs": [
    {
     "name": "stdout",
     "output_type": "stream",
     "text": [
      "[0 1] [ 0.60129469 -1.9508151 ]\n",
      "0.11330093883714609\n"
     ]
    },
    {
     "data": {
      "image/png": "[encoded data removed]",
      "text/plain": [
       "<Figure size 432x288 with 1 Axes>"
      ]
     },
     "metadata": {
      "needs_background": "light"
     },
     "output_type": "display_data"
    }
   ],
   "source": [
    "x_arr = np.random.rand(100, 2)\n",
    "z_arr=np.array([])\n",
    "for x in x_arr:\n",
    "    z, x = NOR_perceptron_classifier(x)\n",
    "    z_arr = np.append(z_arr, z)\n",
    "\n",
    "for i, x in enumerate(x_arr):\n",
    "    if z_arr[i]:\n",
    "        plt.plot(x[0], x[1], '.', color='r')\n",
    "    else:\n",
    "        plt.plot(x[0], x[1], '.', color='b')\n",
    "\n",
    "\n",
    "#new things\n",
    "#boundaries:\n",
    "x1=np.array([0, 1])\n",
    "x2=x1 * (-w[0]/w[1]) - w[2] / w[1]\n",
    "print(x1, x2)\n",
    "#w2 is b, bias\n",
    "print(w[2])\n",
    "\n",
    "#Plot the four training points using large symbols, also color coded according their \"z\" values\n",
    "plt.plot(x1, x2, 'g--')\n",
    "x_train = (np.array([0, 0, 1, 1]), np.array([0, 1, 0, 1]))\n",
    "plt.plot([0, 1, 1], [1, 0, 1], 'bo', ms=10, label='Training Data (Negative)')\n",
    "plt.plot([0, ], [0, ], 'ro', ms=10, label='Training Data(positive)')\n",
    "# plt.plot(0, 0, marker='x', color='r', ms=20)\n",
    "# plt.plot(0, 1, marker = 'x', color='b', ms=20)\n",
    "# plt.plot(1, 0, marker = 'x', color='b', ms=20)\n",
    "# plt.plot(1, 1, marker = 'x', color='b', ms=20)\n",
    "\n",
    "\n",
    "\n",
    "#Plot the decision boundary (a line) using w.\n",
    "#y=0\n",
    "#w1x1+w2x2\n",
    "\n",
    "plt.legend()\n",
    "plt.xlabel('x1')\n",
    "plt.ylabel('x2')\n",
    "plt.show()\n",
    "\n"
   ]
  },
  {
   "cell_type": "code",
   "execution_count": 11,
   "metadata": {},
   "outputs": [
    {
     "name": "stdout",
     "output_type": "stream",
     "text": [
      "1\n"
     ]
    }
   ],
   "source": [
    "# How about a number outside the box?\n",
    "z, _ = NOR_perceptron_classifier(np.array([3, 4]))\n",
    "print('{:d}'.format(z))"
   ]
  },
  {
   "cell_type": "markdown",
   "metadata": {},
   "source": [
    "## Breakout: Generate 100 pairs of random numbers between [-10, 10]\n",
    "\n",
    "- ## Classify them according their \"z\" value.\n",
    "\n",
    "- ## Plot them, with color coding according their \"z\" value.\n",
    "\n",
    "- ## Plot the decision boundary (a line) using w."
   ]
  },
  {
   "cell_type": "code",
   "execution_count": 12,
   "metadata": {},
   "outputs": [],
   "source": [
    "x_arr = (np.random.rand(100, 2)*2 -1)*10"
   ]
  },
  {
   "cell_type": "code",
   "execution_count": null,
   "metadata": {},
   "outputs": [],
   "source": []
  },
  {
   "cell_type": "code",
   "execution_count": 13,
   "metadata": {},
   "outputs": [
    {
     "name": "stdout",
     "output_type": "stream",
     "text": [
      "[-10  10] [ 26.12239251 -24.91980314]\n",
      "0.11330093883714609\n"
     ]
    },
    {
     "data": {
      "image/png": "[encoded data removed]",
      "text/plain": [
       "<Figure size 432x288 with 1 Axes>"
      ]
     },
     "metadata": {
      "needs_background": "light"
     },
     "output_type": "display_data"
    }
   ],
   "source": [
    "x_arr = (np.random.rand(1000, 2)*2 - 1)*10\n",
    "\n",
    "z_arr=np.array([])\n",
    "for x in x_arr:\n",
    "    z, x = NOR_perceptron_classifier(x)\n",
    "    z_arr = np.append(z_arr, z)\n",
    "\n",
    "for i, x in enumerate(x_arr):\n",
    "    if z_arr[i]:\n",
    "        plt.plot(x[0], x[1], '.', color='r')\n",
    "    else:\n",
    "        plt.plot(x[0], x[1], '.', color='b')\n",
    "\n",
    "#Plot the decision boundary (a line) using w.\n",
    "#y=0\n",
    "#w1x1+w2x2\n",
    "x1=np.array([-10, 10])\n",
    "x2=x1 * (-w[0]/w[1]) - w[2] / w[1]\n",
    "print(x1, x2)\n",
    "#w2 is b, bias\n",
    "print(w[2])\n",
    "\n",
    "#Plot the four training points using large symbols, also color coded according their \"z\" values\n",
    "plt.plot(x1, x2, 'g--')\n",
    "x_train = (np.array([0, 0, 1, 1]), np.array([0, 1, 0, 1]))\n",
    "plt.plot([0, 1, 1], [1, 0, 1], 'bo', ms=10, label='Training Data (Negative)')\n",
    "plt.plot([0, ], [0, ], 'ro', ms=10, label='Training Data(positive)')\n",
    "\n",
    "plt.legend()\n",
    "plt.xlabel('x1')\n",
    "plt.ylabel('x2')\n",
    "plt.show()\n"
   ]
  },
  {
   "cell_type": "markdown",
   "metadata": {},
   "source": [
    "## Breakout: A general perceptron classifier:\n",
    "\n",
    "      perceptron_classifier(training_data, x, show_train=False)"
   ]
  },
  {
   "cell_type": "code",
   "execution_count": 14,
   "metadata": {},
   "outputs": [
    {
     "name": "stdout",
     "output_type": "stream",
     "text": [
      "[-1  1] [ 3.15340447 -1.9508151 ]\n",
      "0.11330093883714609\n"
     ]
    },
    {
     "data": {
      "image/png": "[encoded data removed]",
      "text/plain": [
       "<Figure size 432x288 with 1 Axes>"
      ]
     },
     "metadata": {
      "needs_background": "light"
     },
     "output_type": "display_data"
    }
   ],
   "source": [
    "def perceptron_classifier(training_data, x, show_train=False):\n",
    "#     if (training_data[3][1]==0)\n",
    "#         #XOR\n",
    "        \n",
    "        \n",
    "#     else if (training_data[3][1]==1 && training_data[1][1]==1)\n",
    "#         #OR\n",
    "\n",
    "    \n",
    "#     else if (training_data[3][1]==1 && training_data[1][1]==0)\n",
    "        #AND\n",
    "    w = np.random.rand(3)\n",
    "    errors = []\n",
    "\n",
    "    # \"learning rate\"\n",
    "    alfa = 0.2\n",
    "\n",
    "     # use 100 training steps\n",
    "    n = 100\n",
    "    # w.history = []\n",
    "    for i in range(n):\n",
    "        x_train, target = choice(training_data)\n",
    "        y = np.dot(w, x_train)\n",
    "        error = target - step_fun(y)\n",
    "        errors.append(error)\n",
    "        w += alfa * error * x_train\n",
    "\n",
    "    if show_train:\n",
    "        print('weights:', w)\n",
    "        print('Training results:')\n",
    "        for x_train, _ in training_data:\n",
    "            y = np.dot(x_train, w)\n",
    "            print(\"{}: {} -> {}\".format(x_train[:2], y, step_fun(y)))\n",
    "\n",
    "    #add the bias node\n",
    "    x = np.append(x, 1)\n",
    "    return step_fun(np.dot(x, w)), w \n",
    "    \n",
    "# training_data_NOR =[ \n",
    "#     (np.array([0,0,1]), 1),\n",
    "#     (np.array([0,1,1]), 0),\n",
    "#     (np.array([1,0,1]), 0),\n",
    "#     (np.array([1,1,1]), 0),\n",
    "# ] \n",
    "\n",
    "\n",
    "training_data_AND = [\n",
    "    (np.array([0,0,1]), 0),\n",
    "    (np.array([0,1,1]), 0),\n",
    "    (np.array([1,0,1]), 0),\n",
    "    (np.array([1,1,1]), 1),\n",
    "] \n",
    "\n",
    "training_data_OR = [\n",
    "    (np.array([0,0,1]), 0),\n",
    "    (np.array([0,1,1]), 1),\n",
    "    (np.array([1,0,1]), 1),\n",
    "    (np.array([1,1,1]), 1),\n",
    "]\n",
    "\n",
    "training_data_XOR = [\n",
    "    (np.array([0,0,1]), 0),\n",
    "    (np.array([0,1,1]), 1),\n",
    "    (np.array([1,0,1]), 1),\n",
    "    (np.array([1,1,1]), 0),\n",
    "]\n",
    "\n",
    "# print(perceptron_classifier(training_data, np.array([0.5, 1.0], show_train=False))\n",
    "x_arr = (np.random.rand(1000, 2)*2 - 1)*10\n",
    "\n",
    "z_arr=np.array([])\n",
    "for x in x_arr:\n",
    "    z, x = perceptron_classifier(training_data_XOR, x)\n",
    "    z_arr = np.append(z_arr, z)\n",
    "\n",
    "for i, x in enumerate(x_arr):\n",
    "    if z_arr[i]:\n",
    "        plt.plot(x[0], x[1], '.', color='r')\n",
    "    else:\n",
    "        plt.plot(x[0], x[1], '.', color='b')\n",
    "\n",
    "#Plot the decision boundary (a line) using w.\n",
    "#y=0\n",
    "#w1x1+w2x2\n",
    "x1=np.array([-1, 1])\n",
    "x2=x1 * (-w[0]/w[1]) - w[2] / w[1]\n",
    "print(x1, x2)\n",
    "#w2 is b, bias\n",
    "print(w[2])\n",
    "\n",
    "#Plot the four training points using large symbols, also color coded according their \"z\" values\n",
    "plt.plot(x1, x2, 'g--')\n",
    "#x_train = (np.array([0, 0, 1, 1]), np.array([0, 1, 0, 1]))\n",
    "\n",
    "#NOR Training set\n",
    "# plt.plot([0, 1, 1], [1, 0, 1], 'bo', ms=10, label='Training Data (Negative)')\n",
    "# plt.plot([0, ], [0, ], 'ro', ms=10, label='Training Data(positive)')\n",
    "\n",
    "#AND Training set\n",
    "# plt.plot([0, 1, 0], [1, 0, 0], 'bo', ms=10, label='Training Data (Negative)')\n",
    "# plt.plot([1, ], [1, ], 'ro', ms=10, label='Training Data(positive)')\n",
    "\n",
    "#OR Training set\n",
    "# plt.plot([0, 1], [1, 0], 'bo', ms=10, label='Training Data (Negative)')\n",
    "# plt.plot([0, 1], [0, 1], 'ro', ms=10, label='Training Data(positive)')\n",
    "\n",
    "#XOR Training set\n",
    "plt.plot([0, 1], [1, 0], 'bo', ms=10, label='Training Data (Negative)')\n",
    "plt.plot([0, 1], [0, 1], 'ro', ms=10, label='Training Data(positive)')\n",
    "\n",
    "\n",
    "plt.legend()\n",
    "plt.xlabel('x1')\n",
    "plt.ylabel('x2')\n",
    "plt.show()\n",
    "\n",
    "\n"
   ]
  },
  {
   "cell_type": "markdown",
   "metadata": {},
   "source": [
    "## Truth Table for OR:\n",
    "| $x_1$ | $x_2$ | $d$   |\n",
    "|:-:    |:-:    |:-:    |   \n",
    "|   0   |   0   |   0   |\n",
    "|   0   |   1   |   1   |\n",
    "|   1   |   0   |   1   |\n",
    "|   1   |   1   |   1   |"
   ]
  },
  {
   "cell_type": "markdown",
   "metadata": {},
   "source": [
    "## XOR: \n",
    "\n",
    "## Exclusive OR is a logical operation that outputs true only when inputs differ (one is true, the other is false).\n",
    "\n",
    "## Truth Table for XOR\n",
    "| $x_1$ | $x_2$ | $d$   |\n",
    "|:-:    |:-:    |:-:    |   \n",
    "|   0   |   0   |   0   |\n",
    "|   0   |   1   |   1   |\n",
    "|   1   |   0   |   1   |\n",
    "|   1   |   1   |   0   |"
   ]
  },
  {
   "cell_type": "code",
   "execution_count": 19,
   "metadata": {},
   "outputs": [
    {
     "data": {
      "image/png": "[encoded data removed]",
      "text/plain": [
       "<Figure size 432x288 with 1 Axes>"
      ]
     },
     "metadata": {
      "needs_background": "light"
     },
     "output_type": "display_data"
    }
   ],
   "source": [
    "#Plot Sigmoid function\n",
    "#S(y) = (1)/(1+(e^-y))\n",
    "#when y=0, S=1/2, y=infinity, S=1, y=-infinity, S=0\n",
    "\n",
    "def sigmoid_fun (y):\n",
    "    \n",
    "    y=np.linspace(-10, 10, 100)\n",
    "    return 1 / (1+np.exp(-y))\n",
    "\n",
    "plt.plot(y, sigmoid_fun(y))\n",
    "plt.title('Sig Function')\n",
    "plt.show()\n",
    "\n"
   ]
  },
  {
   "cell_type": "code",
   "execution_count": null,
   "metadata": {},
   "outputs": [],
   "source": []
  },
  {
   "cell_type": "markdown",
   "metadata": {},
   "source": [
    "# End of Week 4-1"
   ]
  }
 ],
 "metadata": {
  "kernelspec": {
   "display_name": "Python 3",
   "language": "python",
   "name": "python3"
  },
  "language_info": {
   "codemirror_mode": {
    "name": "ipython",
    "version": 3
   },
   "file_extension": ".py",
   "mimetype": "text/x-python",
   "name": "python",
   "nbconvert_exporter": "python",
   "pygments_lexer": "ipython3",
   "version": "3.8.3"
  }
 },
 "nbformat": 4,
 "nbformat_minor": 4
}
