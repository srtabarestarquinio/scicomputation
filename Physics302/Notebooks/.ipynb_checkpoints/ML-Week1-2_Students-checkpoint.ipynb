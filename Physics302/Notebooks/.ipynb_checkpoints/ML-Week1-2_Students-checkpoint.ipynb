{
 "cells": [
  {
   "cell_type": "markdown",
   "metadata": {},
   "source": [
    "# Lecture Week 1-2"
   ]
  },
  {
   "cell_type": "markdown",
   "metadata": {},
   "source": [
    "## Topics\n",
    "\n",
    "## I. Probabilities for the Gaussian Distribution\n",
    "\n",
    "## II. The Simplest Regression Problem (Fitting for One Parameter) and the Weighted Mean\n",
    "\n",
    "\n",
    "## Lab Exercises\n",
    "\n",
    "<br>\n",
    "<br>"
   ]
  },
  {
   "cell_type": "code",
   "execution_count": null,
   "metadata": {},
   "outputs": [],
   "source": [
    "#Regresion helps you classify\n",
    "#If the image is perfectly classifies, you should be able to futurely classify\n",
    "#Regression, the quantity is not discrete, it is continous, you are trying to classify your quantity that is continous"
   ]
  },
  {
   "cell_type": "markdown",
   "metadata": {},
   "source": [
    "## I. Probabilities for the Gaussian Distribution\n",
    "\n",
    "## The normalized Gaussian function tells us the probability ($P$) for a certain quantity ($x$) to have a certain value:\n",
    "\n",
    "\n",
    "## $$\n",
    "{P(x) =  {1 \\over {{\\scriptstyle \\sigma \\sqrt{2 \\pi}}} } }e^{ - {(x - \\mu)^2 \\over {2 \\sigma^2}}}  \\text{,}\n",
    "$$\n",
    "\n",
    "\n",
    "## Remember: $\\int_{-\\infty}^{+\\infty} P(x) dx = 1$. "
   ]
  },
  {
   "cell_type": "code",
   "execution_count": 2,
   "metadata": {},
   "outputs": [],
   "source": [
    "%matplotlib inline\n",
    "import numpy as np\n",
    "import matplotlib.pyplot as plt"
   ]
  },
  {
   "cell_type": "code",
   "execution_count": 44,
   "metadata": {
    "collapsed": false,
    "jupyter": {
     "outputs_hidden": false
    }
   },
   "outputs": [],
   "source": [
    "class Gaussian:    \n",
    "    def __init__(self, mean=0, sigma=1):\n",
    "        self.mean = mean\n",
    "        self.sigma = sigma\n",
    "        \n",
    "    def Calc_P(self, x):\n",
    "        a = 1/(self.sigma * np.sqrt(2 * np.pi))\n",
    "        P = a * np.exp(-(x - self.mean)**2 / (2.*self.sigma**2))\n",
    "        return P\n"
   ]
  },
  {
   "cell_type": "markdown",
   "metadata": {},
   "source": [
    "## Solution to Breakout Exercise from Week 1-1"
   ]
  },
  {
   "cell_type": "code",
   "execution_count": 45,
   "metadata": {
    "collapsed": false,
    "jupyter": {
     "outputs_hidden": false
    }
   },
   "outputs": [
    {
     "name": "stdout",
     "output_type": "stream",
     "text": [
      "Total Probability for the standard Gaussian (should be 1): 1.0000.\n",
      "Cumulative Probability between -sigma and sigma: 0.6832.\n",
      "Cumulative Probability between -2*sigma and 2*sigma: 0.9547.\n",
      "Cumulative Probability between -3*sigma and 3*sigma: 0.9973.\n"
     ]
    },
    {
     "data": {
      "image/png": "[encoded data removed]",
      "text/plain": [
       "<Figure size 432x288 with 1 Axes>"
      ]
     },
     "metadata": {
      "needs_background": "light"
     },
     "output_type": "display_data"
    }
   ],
   "source": [
    "'''\n",
    "Breakout Solution: Cumulative probabilities of a Gaussian distribution\n",
    "\n",
    "'''\n",
    "\n",
    "standard_gauss = Gaussian()\n",
    "\n",
    "x = np.linspace(-5., 5., 1000)\n",
    "y = standard_gauss.Calc_P(x)\n",
    "dx = x[1] - x[0]\n",
    "\n",
    "one_sig_idx = (x > -1.) * (x < 1.)\n",
    "two_sig_idx = (x > -2.) * (x < 2.)\n",
    "three_sig_idx = (x > -3.) * (x < 3.)\n",
    "\n",
    "total_area = (y*dx).sum()\n",
    "one_sig_area = (y[one_sig_idx]*dx).sum()\n",
    "two_sig_area = (y[two_sig_idx]*dx).sum()\n",
    "three_sig_area = (y[three_sig_idx]*dx).sum()\n",
    "\n",
    "print('Total Probability for the standard Gaussian (should be 1): {:.4f}.'.format(total_area))  \n",
    "print('Cumulative Probability between -sigma and sigma: {:.4f}.'.format(one_sig_area))  \n",
    "print('Cumulative Probability between -2*sigma and 2*sigma: {:.4f}.'.format(two_sig_area))  \n",
    "print('Cumulative Probability between -3*sigma and 3*sigma: {:.4f}.'.format(three_sig_area))  \n",
    "\n",
    "plt.plot(x, y, 'k', lw=3)\n",
    "ymin, ymax = 0, y.max()*1.1\n",
    "plt.ylim(ymin, ymax)\n",
    "\n",
    "plt.plot([-1, -1], [ymin, ymax], 'r--', label='1 sigma')\n",
    "plt.plot([1, 1], [ymin, ymax], 'r--')\n",
    "plt.plot([-2, -2], [ymin, ymax], 'g--', label='2 sigma')\n",
    "plt.plot([2, 2], [ymin, ymax], 'g--')\n",
    "plt.plot([-3, -3], [ymin, ymax], 'b--', label='3 sigma')\n",
    "plt.plot([3, 3], [ymin, ymax], 'b--')\n",
    "\n",
    "plt.legend()\n",
    "\n",
    "# if you want to be fancy:\n",
    "plt.fill_between(x[one_sig_idx], y[one_sig_idx], color='r', alpha=0.5)\n",
    "plt.fill_between(x[two_sig_idx], y[two_sig_idx], alpha = 0.3, color='g')\n",
    "plt.fill_between(x[three_sig_idx], y[three_sig_idx], alpha = 0.2, color='b')\n",
    "\n",
    "plt.text(-0.64, 0.25, '{:.3f}'.format(one_sig_area), fontsize=14)\n",
    "\n",
    "plt.show()"
   ]
  },
  {
   "cell_type": "markdown",
   "metadata": {},
   "source": [
    "# 5-min Break"
   ]
  },
  {
   "cell_type": "markdown",
   "metadata": {},
   "source": [
    "## II. The Simplest Linear Regression -- Fitting for One Parameter \n",
    "\n",
    "### (Recall it’s a regression problem if we are trying to determine the value of a continuous quantity the best we can.)\n"
   ]
  },
  {
   "cell_type": "markdown",
   "metadata": {},
   "source": [
    "### A) The goal of experimental science: you make measurements to gain knowledge about reality.  \n",
    "(We will make a more practical statement of this at the end of this sub-section.)\n",
    "\n",
    "Let's say you make several temperature measurements to find out the true temperature of a room.\n",
    "\n",
    "Let’s call the results of these measurements data, $D$.  $D$ of course consist of all the measured temperature values.  If you have measured the temperature $N$ times, and the temperature value you get for the $i$th measurement is $t_i$,  then $D$ = {$t_1$, $t_2$, $t_3$, …, $t_N$} = {$t_i$}.\n",
    "\n",
    "In what follows,\n",
    "\n",
    "$T_{true}$: The true temperature\n",
    "\n",
    "$T$: The value of a guess we have for $T_{true}$\n",
    "\n",
    "$T_{best}$: Our best guess for $T_{true}$ according to some criterion.\n",
    "\n",
    "$t$: Experimental result of a single temperature measurement.\n",
    "\n",
    "Each of your temperature measurements will have uncertainty.  Intuitively you know that: \n",
    "\n",
    "-  It’s more likely to have a measured value that is close to the true temperature than to have one that is far away.   \n",
    "-  The more precise your measurements (e.g., you have high quality equipment), the less likely it is to have a measured value that is very far away from the true temperature.\n"
   ]
  },
  {
   "cell_type": "markdown",
   "metadata": {},
   "source": [
    "### B) How to achieve the goal of A)\n",
    "\n",
    "To turn the last two statements in A) into a mathematical problem that we can solve:\n",
    "\n",
    "**We assume that we can model the probability of getting a certain measurement result using a Gaussian, with the true value of the quantity as $\\mu$ and the measurement uncertainty as the width, $\\sigma$, of the Gaussian.**\n",
    "\n",
    "If the difference between the measured value ($t$) and the the true temperature ($T_{true}$) is ($t - T_{true}$), the probability of such a measurement occurring is \n",
    "\n",
    "$$ P(t|T_{true}) = P(t; T_{true}) = \\frac{1}{\n",
    "\\scriptstyle \\sigma \\sqrt{2\\pi}} e^{-\\frac{ (t - T_{true})^2 } { 2\\sigma^2 }} \\tag{1}$$\t\n",
    "\n",
    "\n",
    "That is, **the relationship between a measurement and the true value is _probabilistic_.**\n",
    "\n",
    "If my guess for the true temperature is ${T}$, what is the probability that the observed data set should have occurred?\n",
    "\n",
    "That is, you want to know: $$P(D|T),$$\n",
    "\n",
    "where, as I said before, $D$ is a set of measurements: $D$ = {$t_1$, $t_2$, $t_3$, …, $t_N$} = {$t_i$}.\n",
    "\n",
    "Let's think this through one measurement at a time.  From eqn (1) above, the probability of getting a measured value of $t_1$ is \n",
    "\n",
    "$P(t_1; T) = \\frac{1}{\\sqrt{2\\pi\\sigma}} e^{-\\frac{ (t_1 - T)^2 } { 2\\sigma^2 }}$ \n",
    "\n",
    "Likewise, the probabilities of getting measured values $t_2$ and $t_3$, respectively, are  \n",
    "\n",
    "$P(t_2; T) = \\frac{1}{\\sqrt{2\\pi\\sigma}} e^{-\\frac{ (t_2 - T)^2 } { 2\\sigma^2 }}$ \n",
    "\n",
    "$P(t_3; T) = \\frac{1}{\\sqrt{2\\pi\\sigma}} e^{-\\frac{ (t_3 - T)^2 } { 2\\sigma^2 }}$ \n",
    "\n",
    "\n",
    "The probability that you have all three measured values is\n",
    "\n",
    "$P(D|T) = P(t_1, t_2, t_3; T) = P(t_1; T)P(t_2; T)P(t_3; T)$\n",
    "\n",
    "\n",
    "Given this expression, you can try using different $T$ values and see which one gives you the highest probability.  But the best way to do this is to do \n",
    "\n",
    "\n",
    "$$\\frac{dP(D|T)}{dT}  = \\frac{dP(t_1, t_2, t_3; T)}{dT} = 0$$\n",
    "\n",
    "Since you now have an explicit mathematical expression for $P(D|T) = P(t_1, t_2, t_3; T)$, you can easily calculate the derivative, set it to zero, and find the $T$ value that maximizes $P(D|T)$.  \n"
   ]
  },
  {
   "cell_type": "markdown",
   "metadata": {},
   "source": [
    "### C) Results\n",
    "\n",
    "If you maximize $P(D|T)$ in B) with respect to $T$, you get \n",
    "\n",
    "$$T_{best} = \\frac{1}{N} {\\sum_{i = 1}^{N} {t_i} } = \\langle t \\rangle \\tag{2}$$        \t\t\t\t\t \n",
    "\n",
    "That is, the mean value of the data set gives the best guess we have for the true temperature $T_{true}$.\n",
    "\n",
    "Now we can further ask, since $T_{best}$ must have an uncertainty (or standard deviation) as well, what would the uncertainty be?\n",
    "\n",
    "With a little math, you can show the standard deviation of $T_{best}$ is \n",
    "\n",
    "$$s_{T_{best}} = \\frac{\\sigma} {\\sqrt{N}} \\tag{3}$$\t\t\t\t\t\t\t\t\n",
    "\n",
    "In this case $N$ = 3, so \n",
    "\n",
    "$$s_{T_{best}} = \\frac{\\sigma} {1.7} \\tag{4}$$\t\t\t\t\t\t\t\t\n",
    "\n",
    "\n",
    "That is, if we take into account the results of all three measurements, we now have a tighter estimate for the true temperature.  \n",
    "\n",
    "Note: if you only make one measurement, and get $t_1$, then that is your best guess for the true temperature, $T_{best}$ with an uncertainty of $\\sigma$.  If you don't believe me, just go through the math of $\\frac{dP(t_1|T)}{dT}  = \\frac{dP(t_1; T)}{dT} = 0$, and you will see.\n",
    "\n",
    "\n",
    "\n",
    "#### Let’s now take a step back:\n",
    "\n",
    "That the mean of the data points gives us a tighter estimate of the true temperature seems rather obvious -- why did we go through so much trouble to get here in this long-winded way.  \n",
    "\n",
    "Because there are circumstances where it’s not nearly as obvious how to arrive at the best guess.  Then this prescription will show us how to get $T_{best}$.\n",
    "\n",
    "For example, what if the uncertainty is different for each of the 3 temperature measurements?\n",
    "\n",
    "It’s clear enough that in order to take into account all three measurements properly, you would want to give more weight to the points that have less uncertainty.  But what’s the exact prescription?\n",
    "\n",
    "It turns out if you maximize the probability in Question 2 you will find the best guess is\n",
    "\n",
    "$$T_{best} = \\frac{ \\sum_{i = 1}^{N} { t_i/\\sigma_i^2 } } {\\sum_{i = 1}^{N} {1/\\sigma_i^2} } \\tag{5}$$      \t\n",
    "\n",
    "You can check that for the case of all three $\\sigma_i$’s being the same, you get:\n",
    "\n",
    "\n",
    "$$T_{best} = \\frac{1}{N} {\\sum_{i = 1}^{N} {t_i} }$$\n",
    "\n",
    "In other words, just the mean.\n",
    "\n",
    "#### Eqn (5) is called the weighted mean.\n",
    "\n",
    "Again with a  little math, the uncertainty (standard deviation) *squared* of the weighted mean can also be calculated, and it is\n",
    "\n",
    "$$s_{T_{best}}^2 = \\frac{1} {\\sum_{i = 1}^{N} {1/\\sigma_i^2} } \\tag{6}$$\t\t\t\t\n",
    "\n",
    "You can verify that if, \n",
    "\n",
    "$$\\sigma_i = \\sigma$$\n",
    "\n",
    "eqn (6) becomes the same as eqn (3). \n",
    "\n",
    "[If this is a statistics course, I would have you go through _all_ the calculations, and verify for yourself that it’s all true.]\n"
   ]
  },
  {
   "cell_type": "markdown",
   "metadata": {},
   "source": [
    "## Important Takeaway:\n",
    "\n",
    "### If the only experimental uncertainty you have to contend with is Gaussian (a good assumption in many cases):\n",
    "\n",
    "(Continuing to use temperature measurement as an example)\n",
    "\n",
    "-    The weighted mean is a better estimate of the true temperature\n",
    "\n",
    "     $T_{best} = \\frac{ \\sum_{i = 1}^{N} { t_i/\\sigma_i^2 } } {\\sum_{i = 1}^{N} {1/\\sigma_i^2} }$      \t\n",
    "     \n",
    "\n",
    "-    The uncertainty (the standard devisation) of the mean is \n",
    "\n",
    "     $s_{T_{best}} = \\sqrt { \\frac{1} {\\sum_{i = 1}^{N} {1/\\sigma_i^2}}  }$\t\t\t\t\n",
    "\n",
    "\n",
    "### If the experimental uncertainty is the same for all $N$ measurements:\n",
    "\n",
    "\n",
    "-    $T_{best} = \\frac{1}{N} {\\sum_{i = 1}^{N} {t_i} } = \\langle t \\rangle $        \t\t\t\t\t\n",
    "     \n",
    "\n",
    "-    $s_{T_{best}} = \\frac{\\sigma} {\\sqrt{N}}$\n",
    "\n"
   ]
  },
  {
   "cell_type": "markdown",
   "metadata": {},
   "source": [
    "## Going back to the very top: The Simplest Regression -- Fitting for One Parameter. (the true temperature)\n",
    "\n",
    "## In this example, we're using the data to \"fit for\" -- that is, to find the best guess for -- the true temperature."
   ]
  },
  {
   "cell_type": "markdown",
   "metadata": {},
   "source": [
    "## Example (Breakout Exercise):\n",
    "\n",
    "- ### Generate a set of 50 Gaussian random numbers that represent 50 temperture measurements.  The true temperature is 70 and the measurement uncertainty is 0.5.  That is, the Gaussian model should have T_true (= mu) = 70 and sigma = 0.5.\n",
    "\n",
    "    ### Note: In reality, of course, you don't know the true temperature (otherwise, what's the point of measuring it?).  But in the simulated world, you know everything!\n",
    "\n",
    "-  ### Find the mean and standard deviation of the set of measurement results and report them as \n",
    "\n",
    "    - ### t_mean \n",
    "\n",
    "    - ### sig_t.  \n",
    "\n",
    "   ### Are the values of t_mean and sig_t what you would expect?\n",
    "    \n",
    "- ### Plot the histogram of the measurements using 7 bins (normed = True in plt.hist recommended);\n",
    "    \n"
   ]
  },
  {
   "cell_type": "code",
   "execution_count": 26,
   "metadata": {},
   "outputs": [
    {
     "name": "stdout",
     "output_type": "stream",
     "text": [
      "Mean: 70.07574344652916 Standard Deviation: 0.4951932831648082\n"
     ]
    },
    {
     "data": {
      "image/png": "[encoded data removed]",
      "text/plain": [
       "<Figure size 432x288 with 1 Axes>"
      ]
     },
     "metadata": {
      "needs_background": "light"
     },
     "output_type": "display_data"
    },
    {
     "data": {
      "text/plain": [
       "[<matplotlib.lines.Line2D at 0x11d7b2ee0>]"
      ]
     },
     "execution_count": 26,
     "metadata": {},
     "output_type": "execute_result"
    },
    {
     "data": {
      "image/png": "[encoded data removed]",
      "text/plain": [
       "<Figure size 432x288 with 1 Axes>"
      ]
     },
     "metadata": {
      "needs_background": "light"
     },
     "output_type": "display_data"
    }
   ],
   "source": [
    "%matplotlib inline\n",
    "import numpy as np\n",
    "import matplotlib.pyplot as plt\n",
    "\n",
    "N=50\n",
    "T_true = 70\n",
    "sigma = 0.5\n",
    "\n",
    "t=np.random.randn(N) * sigma + T_true\n",
    "\n",
    "T_mean=np.mean(t)\n",
    "sig_t=np.std(t)\n",
    "\n",
    "print(\"Mean: \" + str(T_mean) + \" Standard Deviation: \" + str(sig_t))\n",
    "\n",
    "plot = plt.hist(t, bins=7, density=True)\n",
    "plt.show()"
   ]
  },
  {
   "cell_type": "markdown",
   "metadata": {},
   "source": [
    "# 10-min Break"
   ]
  },
  {
   "cell_type": "markdown",
   "metadata": {},
   "source": [
    "## Lab Breakout Exercise:\n",
    "\n",
    "## 1. The purpose of this exercise to estimate the uncertainty on the mean for an experiment with a given size of N (colloquiually, this uncertainty is called \"error on the mean\")\n",
    "\n",
    "To estimate the uncertainty on the mean for the above experiment, let's pretend that we will repeat the experiment in the example above 100 times, each time store t_mean.  Find and report the following:\n",
    "\n",
    "\n",
    "- t_mean_avg: average of 100 t_mean's (this is only for plotting purposes), \n",
    "\n",
    "- t_mean_sig: standard deviation of 100 t_mean's \n",
    "\n",
    "\n",
    "## Are the values of t_mean_avg and t_mean_sig (compared with sigma) what you would expect?\n",
    "\n",
    "## 2. Plotting\n",
    "\n",
    "-  ## plot the histogram for the last of the 100 times the simulated experiment was carried out (recall N = 50), again using 7 bins, and then plot a smooth Gaussian over the histogram.\n",
    "\n",
    "-  ## plot the historgram for the 100 t_mean's -- choose the number of bins wisely -- and then plot a smooth Gaussian over it.\n",
    "\n",
    "-  ## put the two historgrams on the same plot.\n",
    "\n",
    "\n",
    "## 3. Generate a set of 50 Gaussian random numbers that represent 50 temperture measurements.  The true temperature is 70 and the measurement uncertainty is different for each of the measurements (let's say you used 50 different thermometers to make the 50 measurements).  Suppose the uncertainties are: \n",
    "\n",
    "(0.3, 0.4, 0.15, 0.2, 0.5, 0.6, 0.1, 0.2, 0.15, 0.25,  \n",
    "0.2, 0.14, 0.35, 0.32, 0.23, 0.7, 1., 0.32, 0.51, 0.5,  \n",
    "0.3, 0.24, 0.5, 0.33, 0.51, 0.26, 0.31, 0.42, 0.15, 0.25,  \n",
    "0.13, 0.42, 0.15, 0.2, 0.5, 0.6, 0.1, 0.2, 0.15, 0.25,  \n",
    "0.32, 0.3, 0.2, 0.4, 0.3, 0.65, 1., 0.2, 0.35, 0.15).  \n",
    "\n",
    "\n",
    "## Find the weighted mean of the data, and report it as t_mean.\n",
    "\n",
    "## 4. Repeat 3. above 100 times and report \n",
    "\n",
    "- t_mean_avg (again, only for plotting purposes) \n",
    "- t_mean_sig\n",
    "\n",
    "## Are the values of t_mean and t_mean_sig (compared with the mean of of the sigma's, which are listed in Step 3.) what you would expect?\n"
   ]
  },
  {
   "cell_type": "code",
   "execution_count": 49,
   "metadata": {},
   "outputs": [
    {
     "name": "stdout",
     "output_type": "stream",
     "text": [
      "T mean average:  69.9979405295483 , T mean sigma:  0.06853829200232411\n"
     ]
    },
    {
     "data": {
      "image/png": "[encoded data removed]",
      "text/plain": [
       "<Figure size 432x288 with 1 Axes>"
      ]
     },
     "metadata": {
      "needs_background": "light"
     },
     "output_type": "display_data"
    }
   ],
   "source": [
    "N=50\n",
    "T_true = 70\n",
    "sigma = 0.5\n",
    "\n",
    "#model=np.random.randn(N)*sigma+t_true\n",
    "#T_mean_sig = 0\n",
    "M=100\n",
    "#initialize python list\n",
    "#T_mean_sig_list = []\n",
    "T_mean_list = []\n",
    "for _ in range(0, M):\n",
    "    t=np.random.randn(N)*sigma+T_true\n",
    "    T_mean=np.mean(t)\n",
    "    T_mean_list.append(T_mean)\n",
    "    #T_mean_avg_sum += T_mean\n",
    "    #sig_t=np.std(t)\n",
    "    #T_mean_sig_list.append(sig_t)\n",
    "\n",
    "#T_mean_avg = T_mean_avg_sum/100\n",
    "#T_mean_sig = t_mean_sig/100\n",
    "plot1 = plt.hist(t, bins=7, density=True)\n",
    "plot2 = plt.hist(T_mean_list, bins=7, density=True)\n",
    "x2 = np.linspace(68., 72., 1000)\n",
    "y2 = standard_gauss.Calc_P(x2)\n",
    "plot3=plt.plot(x2, y2, 'k', lw=3)\n",
    "\n",
    "\n",
    "#T_mean_sig_list = np.asarray(T_mean_sig_list)\n",
    "T_mean_list = np.asarray(T_mean_list)\n",
    "\n",
    "T_mean_avg = np.mean(T_mean_list)\n",
    "T_mean_sig = np.std(T_mean_list)\n",
    "\n",
    "#print(T_mean_list)\n",
    "#print(T_mean_sig_list)\n",
    "   \n",
    "print(\"T mean average: \", str(T_mean_avg),  \", T mean sigma: \", str(T_mean_sig))\n",
    "#plot = plt.hist(model, bins=7, density=True)\n",
    "plt.show()\n",
    "\n"
   ]
  },
  {
   "cell_type": "code",
   "execution_count": null,
   "metadata": {},
   "outputs": [],
   "source": []
  },
  {
   "cell_type": "code",
   "execution_count": null,
   "metadata": {},
   "outputs": [],
   "source": []
  }
 ],
 "metadata": {
  "kernelspec": {
   "display_name": "Python 3",
   "language": "python",
   "name": "python3"
  },
  "language_info": {
   "codemirror_mode": {
    "name": "ipython",
    "version": 3
   },
   "file_extension": ".py",
   "mimetype": "text/x-python",
   "name": "python",
   "nbconvert_exporter": "python",
   "pygments_lexer": "ipython3",
   "version": "3.8.3"
  }
 },
 "nbformat": 4,
 "nbformat_minor": 4
}
