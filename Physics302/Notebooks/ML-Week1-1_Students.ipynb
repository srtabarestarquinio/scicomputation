{
 "cells": [
  {
   "cell_type": "markdown",
   "metadata": {},
   "source": [
    "# Lecture Week 1-1"
   ]
  },
  {
   "cell_type": "markdown",
   "metadata": {},
   "source": [
    "## Topics\n",
    "\n",
    "## I. Classification vs. Regression\n",
    "\n",
    "## II. The Gaussian Function\n",
    "\n",
    "## III. The Gaussian Distribution: The Mean, Standard Deviation ($\\sigma$), and Variance ($\\sigma^2$)\n",
    "\n",
    "## Lab Exercises\n",
    "\n",
    "<br>\n",
    "<br>"
   ]
  },
  {
   "cell_type": "markdown",
   "metadata": {},
   "source": [
    "## I.  Classification vs. Regression\n",
    "\n",
    "-  ## Classification: Find how to place a face/number/letter etc. into a discrete set of groups (Einstein/Bohr, [0, 1, ..., 9], [A, B, ..., Z], etc.).\n",
    "\n",
    "-  ## Regression: Find the best estimate for one or more continuous quantities, given experimental observations.  It's not as different from classification as you may think.  Eventually we will use regression to make predictions -- in that context, you will see similarities between the two.  In fact some machine learning tecniques can be applied to both."
   ]
  },
  {
   "cell_type": "markdown",
   "metadata": {},
   "source": [
    "## II. The Gaussian Function"
   ]
  },
  {
   "cell_type": "code",
   "execution_count": 1,
   "metadata": {},
   "outputs": [
    {
     "data": {
      "text/html": [
       "\n",
       "        <iframe\n",
       "            width=\"700\"\n",
       "            height=\"350\"\n",
       "            src=\"http://www.usablestats.com/lessons/normal\"\n",
       "            frameborder=\"0\"\n",
       "            allowfullscreen\n",
       "        ></iframe>\n",
       "        "
      ],
      "text/plain": [
       "<IPython.lib.display.IFrame at 0x10516d6a0>"
      ]
     },
     "execution_count": 1,
     "metadata": {},
     "output_type": "execute_result"
    }
   ],
   "source": [
    "# Note: different mean and different width.\n",
    "from IPython.display import IFrame\n",
    "IFrame('http://www.usablestats.com/lessons/normal', width=700, height=350)\n"
   ]
  },
  {
   "cell_type": "markdown",
   "metadata": {},
   "source": [
    "## The profile of the probability distribution is approximately described by a function called the Gaussian."
   ]
  },
  {
   "cell_type": "markdown",
   "metadata": {},
   "source": [
    "## The Gaussian function tells us how likely (the probability is represented by $P$ below) it is for a certain quantity (in the above example, height, represented by $x$) to have a certain value.\n",
    "\n",
    "\n",
    "## $$\n",
    "P(x) = ae^{ - {(x - \\mu)^2 \\over {2 \\sigma^2}}}\n",
    "$$\n",
    "\n",
    "\n",
    "\n",
    "-  ## The location for the peak of the distribution is usually refered to as $\\mu$, and it is also the average value of the distribution (or the mean; in our case, it's the average height of men or women).\n",
    "\n",
    "- ## The \"width\" of the distribtuion is captured by \"sigma\" ($\\sigma$).  It's also called the standard deviation, as you will see later.\n",
    "\n",
    "\n",
    "\n",
    "## For the standard Gaussian, $a = {1 \\over {\\sigma \\sqrt{2 \\pi}}}$.  This way, the area underneath the Gaussian is 1 -- as the total probability of a woman (or a man) to have *some* height is 1."
   ]
  },
  {
   "cell_type": "markdown",
   "metadata": {},
   "source": [
    "## Breakout Exercises:\n",
    "\n",
    "## Write a class, Gaussian.  It should have \n",
    "\n",
    "- ###  two attributes, mean and sigma, initialized to 0 and 1.\n",
    "- ###  a method, called Calc_P, which takes an argument x, and calculates the probability for x.\n",
    "\n",
    "## At the time of instantiation, you may using the default mean and sigma.\n",
    "\n",
    "## Create an object of class Gaussian; call it standard_gauss.\n",
    "\n",
    "## Use standard_gauss to calculate the probability of a single value of x, say x = 3.\n",
    "\n",
    "## Use standard_gauss to calculate the probabilities of all the numbers in an array x, which has 1000 equally spaced values between -10 and 10.  Call the probabilities, y.  Then make an inline plot of y vs. x.\n",
    "\n",
    "## Create another object of class Gaussian, with mean = 3 and sigma =2.5; call it gauss.\n",
    "\n",
    "## Use guass to calculate the probabilities for the same array x.  Call the probabilities, y2.  On the same inline figure above, plot y2 vs. x.\n",
    "\n",
    "## Students who have taken CP-I should code."
   ]
  },
  {
   "cell_type": "code",
   "execution_count": 6,
   "metadata": {},
   "outputs": [
    {
     "name": "stdout",
     "output_type": "stream",
     "text": [
      "[0 1 2 3 4 5 6 7 8 9]\n"
     ]
    },
    {
     "data": {
      "text/plain": [
       "[<matplotlib.lines.Line2D at 0x114a34c40>]"
      ]
     },
     "execution_count": 6,
     "metadata": {},
     "output_type": "execute_result"
    },
    {
     "data": {
      "image/png": "[encoded data removed]",
      "text/plain": [
       "<Figure size 432x288 with 1 Axes>"
      ]
     },
     "metadata": {
      "needs_background": "light"
     },
     "output_type": "display_data"
    }
   ],
   "source": [
    "%matplotlib inline\n",
    "import numpy as np\n",
    "import matplotlib.pyplot as plt\n",
    "x = np.arange(10)\n",
    "print(x)\n",
    "plt.plot(x)"
   ]
  },
  {
   "cell_type": "code",
   "execution_count": 16,
   "metadata": {},
   "outputs": [
    {
     "name": "stdout",
     "output_type": "stream",
     "text": [
      "Probability of x = 3 for a standar Gaussian:  0.0044318484119380075\n"
     ]
    },
    {
     "data": {
      "image/png": "[encoded data removed]",
      "text/plain": [
       "<Figure size 432x288 with 1 Axes>"
      ]
     },
     "metadata": {
      "needs_background": "light"
     },
     "output_type": "display_data"
    }
   ],
   "source": [
    "%matplotlib inline\n",
    "import numpy as np\n",
    "import matplotlib.pyplot as plt\n",
    "\n",
    "class Gaussian:\n",
    "    def __init__(self, mean=0, sigma=1):\n",
    "        self.mean = mean\n",
    "        self.sigma = sigma\n",
    "        \n",
    "    def Calc_P(self, x):\n",
    "        a = 1/np.sqrt(2 * np.pi * self.sigma)\n",
    "        P = a * np.exp(-(x - self.mean)**2/(2. * self.sigma ** 2))\n",
    "        return P\n",
    "    \n",
    "standard_gauss = Gaussian()\n",
    "print('Probability of x = 3 for a standar Gaussian: ', standard_gauss.Calc_P(3))\n",
    "\n",
    "x = np.linspace(-10, 10, 1000)\n",
    "y = standard_gauss.Calc_P(x)\n",
    "\n",
    "gauss = Gaussian(3, 2.5)\n",
    "y2 = gauss.Calc_P(x)\n",
    "\n",
    "plt.plot(x, y, label='mean=0, std=1')\n",
    "plt.plot(x, y2, label='mean=3, std=2.5')\n",
    "plt.legend()\n",
    "plt.show()\n"
   ]
  },
  {
   "cell_type": "markdown",
   "metadata": {},
   "source": [
    "## III. The Gaussian Distribution\n",
    "\n",
    "### Before you meet someone, that person's height is a random variable to you.  But that doesn't mean you have zero predictive power over the height of that person.  For example, if you know that person is a woman, it's likely that the height is within a few inches of 5'5.\n",
    "\n",
    "------------------\n",
    "\n",
    "### This is a VERY important insight: \n",
    "\n",
    "### _Just because a quantity is random, it does NOT necessarliy mean that you have zero knowledge over it!!!_\n",
    "\n",
    "### In fact, you often have _statistical knowledge_ over it.  \n",
    "\n",
    "### You may even argue all of modern science (social or physical) make use of this realization.\n",
    "\n",
    "------------------\n",
    "\n",
    "\n",
    "### As you saw in the example of the heights of men and women above, if you know the *distribution* of that random variable, you can make some kind of prediction -- a statistical prediction: a woman will likely have a height of 5'5 plus minus a couple of inches, more likely than having a height around 5'10. "
   ]
  },
  {
   "cell_type": "markdown",
   "metadata": {},
   "source": [
    "## You can build a distribution from data, say the data of heights -- starting by constructing a histogram: you divide weights into different bins, and then count how many people are in each bin. "
   ]
  },
  {
   "cell_type": "markdown",
   "metadata": {},
   "source": [
    "## We now know how to simulate random variables that follow many different kinds of distribution."
   ]
  },
  {
   "cell_type": "markdown",
   "metadata": {},
   "source": [
    "## The module you want to use is: numpy.random, for example:\n",
    "\n",
    "- numpy.random.rand()\n",
    "- numpy.random.randn()\n",
    "\n",
    "(For more distributions, go to https://numpy.org/doc/stable/reference/random/)"
   ]
  },
  {
   "cell_type": "code",
   "execution_count": 18,
   "metadata": {},
   "outputs": [
    {
     "name": "stdout",
     "output_type": "stream",
     "text": [
      "0.6337049267690948\n"
     ]
    }
   ],
   "source": [
    "# repeat running this cell a few times\n",
    "from numpy.random import rand\n",
    "x = rand()\n",
    "print(x)"
   ]
  },
  {
   "cell_type": "code",
   "execution_count": 19,
   "metadata": {},
   "outputs": [
    {
     "name": "stdout",
     "output_type": "stream",
     "text": [
      "-0.48888420539094396\n"
     ]
    }
   ],
   "source": [
    "# repeat running this cell a few times\n",
    "from numpy.random import randn\n",
    "x = randn()\n",
    "print(x)"
   ]
  },
  {
   "cell_type": "code",
   "execution_count": 30,
   "metadata": {},
   "outputs": [
    {
     "name": "stdout",
     "output_type": "stream",
     "text": [
      "Uniform Random Variable:\n",
      " [0.15160419 0.16805109 0.060167   0.35758047 0.40116384 0.94785139\n",
      " 0.41932781 0.43234815 0.05905337 0.69756414]\n"
     ]
    }
   ],
   "source": [
    "x_u = rand(10)\n",
    "print('Uniform Random Variable:\\n {}'.format(x_u))"
   ]
  },
  {
   "cell_type": "code",
   "execution_count": 31,
   "metadata": {},
   "outputs": [
    {
     "name": "stdout",
     "output_type": "stream",
     "text": [
      "Gaussian (Normal) Random Variable:\n",
      " [-1.01532607 -1.34334678 -0.82229576  0.90800484 -1.5202194  -0.55115888\n",
      "  1.24675937 -0.49866409  1.04028613 -0.4807232 ]\n"
     ]
    }
   ],
   "source": [
    "x_n = randn(10)\n",
    "print('Gaussian (Normal) Random Variable:\\n {}'.format(x_n))"
   ]
  },
  {
   "cell_type": "code",
   "execution_count": 32,
   "metadata": {},
   "outputs": [
    {
     "name": "stdout",
     "output_type": "stream",
     "text": [
      "The min, max, and mean of a uniformly distributedly random variable:\n",
      "       0.00042, 0.99922, 0.50559\n"
     ]
    }
   ],
   "source": [
    "# A \"standard\" uniform random variable, or a uniformly distributed random variable \n",
    "# has a mean of 0.5, and can take on values between 0 and +1.  \n",
    "# Any real number between 0 and 1 is *equally* probable.\n",
    "x_u = rand(1000)\n",
    "print('The min, max, and mean of a uniformly distributedly random variable:\\n \\\n",
    "      {:.5f}, {:.5f}, {:.5f}'.format(x_u.min(),  x_u.max(), x_u.mean()))"
   ]
  },
  {
   "cell_type": "code",
   "execution_count": 20,
   "metadata": {},
   "outputs": [
    {
     "name": "stdout",
     "output_type": "stream",
     "text": [
      "The min, max, and mean of a normally distributedly random variable:\n",
      "       -4.72086, 5.26360, -0.00108\n"
     ]
    }
   ],
   "source": [
    "# As mentioned before, a \"standard\" Gaussian random variable, or a normally distributed \n",
    "# random variable has zero mean, and can take on values between -inf and +inf.\n",
    "# Numbers with large absolute values are less probable. \n",
    "x_n = randn(1000000)\n",
    "print('The min, max, and mean of a normally distributedly random variable:\\n \\\n",
    "      {:.5f}, {:.5f}, {:.5f}'.format(x_n.min(),  x_n.max(), x_n.mean()))"
   ]
  },
  {
   "cell_type": "markdown",
   "metadata": {},
   "source": [
    "## Let's now focus on the Gaussian distribution"
   ]
  },
  {
   "cell_type": "code",
   "execution_count": 21,
   "metadata": {},
   "outputs": [],
   "source": [
    "# shifting the mean\n",
    "x_n_pr = x_n + 3."
   ]
  },
  {
   "cell_type": "markdown",
   "metadata": {},
   "source": [
    "## What's the mean of x_n_pr?"
   ]
  },
  {
   "cell_type": "code",
   "execution_count": 35,
   "metadata": {},
   "outputs": [
    {
     "name": "stdout",
     "output_type": "stream",
     "text": [
      "3.000011638917362\n"
     ]
    }
   ],
   "source": [
    "print(x_n_pr.mean())"
   ]
  },
  {
   "cell_type": "code",
   "execution_count": 36,
   "metadata": {},
   "outputs": [],
   "source": [
    "# Changing the sigma.\n",
    "x_n_pr = x_n*2"
   ]
  },
  {
   "cell_type": "code",
   "execution_count": 37,
   "metadata": {},
   "outputs": [
    {
     "name": "stdout",
     "output_type": "stream",
     "text": [
      "2.00012385028655\n"
     ]
    }
   ],
   "source": [
    "print(x_n_pr.std())"
   ]
  },
  {
   "cell_type": "markdown",
   "metadata": {},
   "source": [
    "## As you know, $\\sigma$ tells you how wide the distribution is.\n",
    "\n",
    "## Given a set of random numbers, $x_i$, drawn from a certain kind of distribution, there is a way to estimate how spread out the distribution is -- you can find out the variance of these numbers:\n",
    "\n",
    "\n",
    "## $$\n",
    "Var = \\sum_{i}{(x_i - \\langle x \\rangle)^2}\n",
    "$$\n",
    "\n",
    "## Here $\\langle x \\rangle$ is the average of all the $x_i \\text{'s}$.  (For a set of random numbers that follow a Gaussian distribution  $\\langle x \\rangle$ should be very close to $\\mu$.)\n",
    "\n",
    "\n",
    "## and the standard deviation, $S$:\n",
    "\n",
    "## $$\n",
    "S = \\sqrt{Var}\n",
    "$$\n",
    " \n",
    "## For the Gaussian distribution, the standard deviation is the same as $\\sigma$!\n",
    "\n",
    "## This is one of many reasons that the Gaussian is so useful.\n",
    "\n",
    "\n",
    "## For some other distributions, there may not even be a $\\sigma$ in its definition (e.g. the uniform distribution), or there may be a $\\sigma$ in its definition that is related to its width (e.g., the Rayleigh distribution), but $S$ is not the same as that quantity.\n",
    "\n",
    "## Often, we assume a distribution is Gaussian; in that case,\n",
    "\n",
    "## $$Var = S^2 = \\sigma^2$$\n",
    "\n",
    "## But keep in mind that if your assumption is wrong, then this is no longer true!\n"
   ]
  },
  {
   "cell_type": "markdown",
   "metadata": {},
   "source": [
    "## Let's change both the mean and the sigma of a Gaussian distribution"
   ]
  },
  {
   "cell_type": "code",
   "execution_count": 3,
   "metadata": {},
   "outputs": [
    {
     "name": "stdout",
     "output_type": "stream",
     "text": [
      "2.9583773352912437\n",
      "1.983934248924405\n"
     ]
    }
   ],
   "source": [
    "# Generate Gaussian random variables with non-standard mean and sigma \n",
    "# and then verify through calculating the mean and the standard deviation.\n",
    "import numpy as np\n",
    "from numpy.random import randn\n",
    "avg = 3.\n",
    "sig = 2.\n",
    "\n",
    "x = randn(10000)*sig + avg\n",
    "#print(x)\n",
    "print(np.mean(x))\n",
    "print(np.std(x))"
   ]
  },
  {
   "cell_type": "code",
   "execution_count": 8,
   "metadata": {},
   "outputs": [
    {
     "name": "stdout",
     "output_type": "stream",
     "text": [
      "10000\n",
      "100.16771388556376\n",
      "15.146063008141253\n"
     ]
    },
    {
     "data": {
      "image/png": "[encoded data removed]",
      "text/plain": [
       "<Figure size 432x288 with 1 Axes>"
      ]
     },
     "metadata": {
      "needs_background": "light"
     },
     "output_type": "display_data"
    }
   ],
   "source": [
    "#Breakout exercise\n",
    "import numpy as np\n",
    "from numpy.random import randn\n",
    "import matplotlib\n",
    "import matplotlib.pyplot as plt\n",
    "\n",
    "mean = 100.\n",
    "sig = 15.\n",
    "x = randn(10000)*sig + avg\n",
    "print(x.size)\n",
    "print(np.mean(x))\n",
    "print(np.std(x))\n",
    "Nbins=25\n",
    "bin_heights, xbins, patches = plt.hist(x, Nbins, density=1, facecolor='blue', alpha=.4)\n",
    "plt.xlim(0, 200)\n",
    "plt.ylim(0, 0.03)\n",
    "plt.show()\n"
   ]
  },
  {
   "cell_type": "markdown",
   "metadata": {},
   "source": [
    "## Breakout Exercise:\n",
    "\n",
    "## Generate 10000 random numbers that follow the Gaussian distribution, with a mean of 100, and sigma of 15.\n",
    "\n",
    "## Calculate its mean and standard deviation to verify that the random numbers you have generated follow the right kind of distribution.\n",
    "\n",
    "## Plot the histogram using matplotlib.pyplot.hist (feel free to look it up online if you forget how to use it).  Try using 25 bins.\n",
    "\n",
    "## Students who haven't taken CP-I should code with assistance from those who have (you can even help them set axis limits)."
   ]
  },
  {
   "cell_type": "code",
   "execution_count": 40,
   "metadata": {},
   "outputs": [
    {
     "name": "stdout",
     "output_type": "stream",
     "text": [
      "bin_heights (normalized):\n",
      "[1.94132296e-05 0.00000000e+00 3.88264592e-05 2.91198444e-04\n",
      " 4.46504280e-04 7.57115954e-04 2.07721557e-03 4.42621635e-03\n",
      " 8.40592841e-03 1.34533681e-02 1.92579237e-02 2.34900078e-02\n",
      " 2.67514304e-02 2.62272732e-02 2.27911315e-02 1.75689728e-02\n",
      " 1.22109214e-02 7.80411829e-03 4.48445603e-03 1.88308327e-03\n",
      " 9.51248250e-04 4.46504280e-04 2.71785214e-04 3.88264592e-05\n",
      " 3.88264592e-05]\n",
      "bins (locations of bin edges):\n",
      "[ 33.242626    38.39375243  43.54487886  48.69600529  53.84713172\n",
      "  58.99825815  64.14938458  69.30051101  74.45163744  79.60276387\n",
      "  84.7538903   89.90501672  95.05614315 100.20726958 105.35839601\n",
      " 110.50952244 115.66064887 120.8117753  125.96290173 131.11402816\n",
      " 136.26515459 141.41628102 146.56740745 151.71853388 156.86966031\n",
      " 162.02078674]\n"
     ]
    }
   ],
   "source": [
    "# To help you understand what's going on:\n",
    "print('bin_heights (normalized):\\n{}'.format(bin_heights)) \n",
    "print('bins (locations of bin edges):\\n{}'.format(xbins))\n",
    "# patches is a list that has information on the height of each bin \n",
    "# and the shape it's plotted as (rectangle, in our case).\n",
    "print(len())"
   ]
  },
  {
   "cell_type": "markdown",
   "metadata": {},
   "source": [
    "## Breakout Excercise: Use bin_heights and xbins to plot the outline of the histograms"
   ]
  },
  {
   "cell_type": "code",
   "execution_count": 10,
   "metadata": {},
   "outputs": [
    {
     "name": "stdout",
     "output_type": "stream",
     "text": [
      "lenght of bin_heights: 25\n",
      "lenght of bin_heights: 26\n"
     ]
    },
    {
     "data": {
      "image/png": "[encoded data removed]",
      "text/plain": [
       "<Figure size 432x288 with 1 Axes>"
      ]
     },
     "metadata": {
      "needs_background": "light"
     },
     "output_type": "display_data"
    }
   ],
   "source": [
    "print('lenght of bin_heights: {}'.format(len(bin_heights)))\n",
    "print('lenght of bin_heights: {}'.format(len(xbins)))\n",
    "plt.plot(xbins[:-1], bin_heights)\n",
    "bin_heights, xbins, patches = plt.hist(x, Nbins, density=1, facecolor='blue', alpha=.5)\n",
    "plt.plot([85, 85], [0, 0.03], 'r--')\n",
    "plt.plot([115, 115], [0, 0.03], 'r--')\n",
    "plt.plot([100, 100], [0, 0.03], 'r', lw=2)\n",
    "plt.show()"
   ]
  },
  {
   "cell_type": "markdown",
   "metadata": {},
   "source": [
    "# 5-min Break"
   ]
  },
  {
   "cell_type": "code",
   "execution_count": 62,
   "metadata": {},
   "outputs": [
    {
     "name": "stdout",
     "output_type": "stream",
     "text": [
      "Probability of x = 3 for a standar Gaussian:  0.0044318484119380075\n",
      "Total Probability for the standard Gaussian (should be 1):  0.9999999999999993\n",
      "15\n",
      "9\n",
      "0\n",
      "Cumulative Probability between -sigma and sigma:  0.6941999999999994\n",
      "Cumulative Probability between -2sigma and 2sigma:  0.9999999999999993\n",
      "Cumulative Probability between -3sigma and 3sigma:  0.9999999999999993\n",
      "Total Probability for the standard Gaussian (should be 1): 1.0000.\n",
      "Cumulative Probability between -sigma and sigma: 0.6832.\n",
      "Cumulative Probability between -2sigma and 2sigma: 0.9547.\n",
      "Cumulative Probability between -3sigma and 3sigma: 0.9973.\n"
     ]
    },
    {
     "data": {
      "image/png": "[encoded data removed]",
      "text/plain": [
       "<Figure size 432x288 with 1 Axes>"
      ]
     },
     "metadata": {
      "needs_background": "light"
     },
     "output_type": "display_data"
    }
   ],
   "source": [
    "%matplotlib inline\n",
    "import numpy as np\n",
    "import matplotlib.pyplot as plt\n",
    "\n",
    "class Gaussian:\n",
    "    def __init__(self, mean=0, sigma=1):\n",
    "        self.mean = mean\n",
    "        self.sigma = sigma\n",
    "        \n",
    "    def Calc_P(self, x):\n",
    "        a = 1/np.sqrt(2 * np.pi * self.sigma)\n",
    "        P = a * np.exp(-(x - self.mean)**2/(2. * self.sigma ** 2))\n",
    "        return P\n",
    "    \n",
    "standard_gauss = Gaussian()\n",
    "print('Probability of x = 3 for a standar Gaussian: ', standard_gauss.Calc_P(3))\n",
    "#1 sigma is 15, each bin has ~4.4\n",
    "print('Total Probability for the standard Gaussian (should be 1): ', (bin_heights* (xbins[1]-xbins[0])).sum()) #area under the curve)\n",
    "x1=(30/(xbins[1]-xbins[0]))/2\n",
    "x1binmax=int((Nbins/2)-x1)\n",
    "x1binmin=int((Nbins/2)+x1)\n",
    "print(x1binmin)\n",
    "print(x1binmax)\n",
    "sumx1=0\n",
    "for i in range(x1binmin, x1binmax):\n",
    "    print(i)\n",
    "    #sumx1+=xbins[x]\n",
    "print(sumx1)\n",
    "print('Cumulative Probability between -sigma and sigma: ', (bin_heights[9]* (xbins[1]-xbins[0]))+(bin_heights[10]* (xbins[1]-xbins[0]))+(bin_heights[11]* (xbins[1]-xbins[0]))+(bin_heights[12]* (xbins[1]-xbins[0]))+(bin_heights[13]* (xbins[1]-xbins[0]))+(bin_heights[14]* (xbins[1]-xbins[0]))+(bin_heights[15]* (xbins[1]-xbins[0]))) #between 115 and 85\n",
    "x2=(60/(xbins[1]-xbins[0]))/2\n",
    "x2binmax=(Nbins/2)-x2\n",
    "x2binmin=(Nbins/2)+x2\n",
    "print('Cumulative Probability between -2sigma and 2sigma: ', (bin_heights* (xbins[1]-xbins[0])).sum()) #between 130 and 70\n",
    "x3=(90/(xbins[1]-xbins[0]))/2\n",
    "x3binmax=(Nbins/2)-x3\n",
    "x3binmin=(Nbins/2)+x3\n",
    "print('Cumulative Probability between -3sigma and 3sigma: ', (bin_heights* (xbins[1]-xbins[0])).sum()) #between 145 and 55\n",
    "\n",
    "\n",
    "x=np.linspace(-5., 5., 1000)\n",
    "y=standard_gauss.Calc_P(x)\n",
    "dx=x[1]-x[0]\n",
    "\n",
    "one_sig_idx=(x>-1.)*(x<1.)\n",
    "two_sig_idx=(x>-2.)*(x<2.)\n",
    "three_sig_idx=(x>-3.)*(x<3.)\n",
    "\n",
    "total_area = (y*dx).sum()\n",
    "one_sig_area = (y[one_sig_idx]*dx).sum()\n",
    "two_sig_area = (y[two_sig_idx]*dx).sum()\n",
    "three_sig_area = (y[three_sig_idx]*dx).sum()\n",
    "\n",
    "print('Total Probability for the standard Gaussian (should be 1): {:.4f}.'.format(total_area))\n",
    "print('Cumulative Probability between -sigma and sigma: {:.4f}.'.format(one_sig_area))\n",
    "print('Cumulative Probability between -2sigma and 2sigma: {:.4f}.'.format(two_sig_area))\n",
    "print('Cumulative Probability between -3sigma and 3sigma: {:.4f}.'.format(three_sig_area))\n",
    "\n",
    "plt.plot(x, y, 'k', lw=1)\n",
    "ymin, ymax = 0, y.max()*1.1\n",
    "plt.ylim(ymin, ymax)\n",
    "\n",
    "plt.plot([-1, -1], [ymin, ymax], 'r--', label='1 sigma')\n",
    "plt.plot([1, 1], [ymin, ymax], 'r--')\n",
    "plt.plot([-2, -2], [ymin, ymax], 'g--', label='2 sigma')\n",
    "plt.plot([2, 2], [ymin, ymax], 'g--')\n",
    "plt.plot([-3, -3], [ymin, ymax], 'b--', label='3 sigma')\n",
    "plt.plot([3, 3], [ymin, ymax], 'b--')\n",
    "\n",
    "plt.legend()\n",
    "\n",
    "##extra fancy graph\n",
    "plt.fill_between(x[one_sig_idx], y[one_sig_idx], color='r', alpha=0.5)\n",
    "plt.fill_between(x[two_sig_idx], y[two_sig_idx], color='g', alpha=0.3)\n",
    "plt.fill_between(x[three_sig_idx], y[three_sig_idx], color='b', alpha=0.2)\n",
    "\n",
    "plt.show()\n"
   ]
  },
  {
   "cell_type": "markdown",
   "metadata": {},
   "source": [
    "## Breakout Exercise: \n",
    "\n",
    "## Cumulative probability of a Gaussian distribution by calculating the area underneath the Gaussian curve.  You may use the Gaussian class defined above.\n",
    "\n",
    "## Coder: Students who took CP-I\n",
    "\n",
    "## At the end, you should have these statements printed:\n",
    "\n",
    "Total Probability for the standard Gaussian (should be 1): 1.0000.\n",
    "\n",
    "Cumulative Probability between -sigma and sigma: 0.xxxx.\n",
    "\n",
    "Cumulative Probability between -2\\*sigma and 2\\*sigma: 0.xxxx.\n",
    "\n",
    "Cumulative Probability between -3\\*sigma and 3\\*sigma: 0.xxxx."
   ]
  },
  {
   "cell_type": "markdown",
   "metadata": {},
   "source": [
    "## End of Week 1-1"
   ]
  }
 ],
 "metadata": {
  "kernelspec": {
   "display_name": "Python 3",
   "language": "python",
   "name": "python3"
  },
  "language_info": {
   "codemirror_mode": {
    "name": "ipython",
    "version": 3
   },
   "file_extension": ".py",
   "mimetype": "text/x-python",
   "name": "python",
   "nbconvert_exporter": "python",
   "pygments_lexer": "ipython3",
   "version": "3.8.3"
  }
 },
 "nbformat": 4,
 "nbformat_minor": 4
}
