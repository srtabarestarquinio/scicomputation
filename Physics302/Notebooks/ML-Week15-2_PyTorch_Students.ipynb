{
 "cells": [
  {
   "cell_type": "markdown",
   "metadata": {},
   "source": [
    "## Installing PyTorch\n",
    "\n",
    "    conda install -c pytorch pytorch\n",
    "    conda install -c pytorch torchvision"
   ]
  },
  {
   "cell_type": "code",
   "execution_count": 1,
   "metadata": {},
   "outputs": [
    {
     "name": "stdout",
     "output_type": "stream",
     "text": [
      "Collecting package metadata (current_repodata.json): done\n",
      "Solving environment: done\n",
      "\n",
      "## Package Plan ##\n",
      "\n",
      "  environment location: /opt/anaconda3\n",
      "\n",
      "  added / updated specs:\n",
      "    - pytorch\n",
      "\n",
      "\n",
      "The following packages will be downloaded:\n",
      "\n",
      "    package                    |            build\n",
      "    ---------------------------|-----------------\n",
      "    conda-4.9.2                |   py38hecd8cb5_0         2.9 MB\n",
      "    libuv-1.40.0               |       haf1e3a3_0         334 KB\n",
      "    ninja-1.10.2               |   py38hf7b0b51_0         101 KB\n",
      "    pytorch-1.7.0              |          py3.8_0        63.5 MB  pytorch\n",
      "    ------------------------------------------------------------\n",
      "                                           Total:        66.8 MB\n",
      "\n",
      "The following NEW packages will be INSTALLED:\n",
      "\n",
      "  libuv              pkgs/main/osx-64::libuv-1.40.0-haf1e3a3_0\n",
      "  ninja              pkgs/main/osx-64::ninja-1.10.2-py38hf7b0b51_0\n",
      "  pytorch            pytorch/osx-64::pytorch-1.7.0-py3.8_0\n",
      "\n",
      "The following packages will be UPDATED:\n",
      "\n",
      "  conda              conda-forge::conda-4.8.5-py38h32f6830~ --> pkgs/main::conda-4.9.2-py38hecd8cb5_0\n",
      "\n",
      "\n",
      "\n",
      "Downloading and Extracting Packages\n",
      "libuv-1.40.0         | 334 KB    | ##################################### | 100% \n",
      "ninja-1.10.2         | 101 KB    | ##################################### | 100% \n",
      "conda-4.9.2          | 2.9 MB    | ##################################### | 100% \n",
      "pytorch-1.7.0        | 63.5 MB   | ##################################### | 100% \n",
      "Preparing transaction: done\n",
      "Verifying transaction: done\n",
      "Executing transaction: done\n",
      "\n",
      "Note: you may need to restart the kernel to use updated packages.\n"
     ]
    }
   ],
   "source": [
    "conda install -c pytorch pytorch"
   ]
  },
  {
   "cell_type": "code",
   "execution_count": 2,
   "metadata": {},
   "outputs": [
    {
     "name": "stdout",
     "output_type": "stream",
     "text": [
      "Collecting package metadata (current_repodata.json): done\n",
      "Solving environment: done\n",
      "\n",
      "## Package Plan ##\n",
      "\n",
      "  environment location: /opt/anaconda3\n",
      "\n",
      "  added / updated specs:\n",
      "    - torchvision\n",
      "\n",
      "\n",
      "The following packages will be downloaded:\n",
      "\n",
      "    package                    |            build\n",
      "    ---------------------------|-----------------\n",
      "    torchvision-0.8.1          |         py38_cpu         6.5 MB  pytorch\n",
      "    ------------------------------------------------------------\n",
      "                                           Total:         6.5 MB\n",
      "\n",
      "The following NEW packages will be INSTALLED:\n",
      "\n",
      "  torchvision        pytorch/osx-64::torchvision-0.8.1-py38_cpu\n",
      "\n",
      "\n",
      "\n",
      "Downloading and Extracting Packages\n",
      "torchvision-0.8.1    | 6.5 MB    | ##################################### | 100% \n",
      "Preparing transaction: done\n",
      "Verifying transaction: done\n",
      "Executing transaction: done\n",
      "\n",
      "Note: you may need to restart the kernel to use updated packages.\n"
     ]
    }
   ],
   "source": [
    "conda install -c pytorch torchvision"
   ]
  },
  {
   "cell_type": "markdown",
   "metadata": {},
   "source": [
    "# Topics\n",
    "\n",
    "## 1. Convolutional Neural Net\n",
    "## 2. New Conecpts\n",
    "   - ## Tensors \n",
    "   - ## Training Batch\n",
    "   \n",
    "## 3. PyTorch"
   ]
  },
  {
   "cell_type": "code",
   "execution_count": 1,
   "metadata": {},
   "outputs": [],
   "source": [
    "%matplotlib inline\n",
    "import numpy as np\n",
    "import matplotlib.pyplot as plt\n",
    "import torch\n",
    "import torchvision\n",
    "import torchvision.transforms as transforms"
   ]
  },
  {
   "cell_type": "markdown",
   "metadata": {},
   "source": [
    "## 1. Convolutional Neural Net"
   ]
  },
  {
   "cell_type": "markdown",
   "metadata": {},
   "source": [
    "## 2. New Conecpts\n",
    "   \n",
    "   - ## Tensors: multidimensional matrices\n",
    "   \n",
    "   - ## Training Batch: typically in integer powers of 2"
   ]
  },
  {
   "cell_type": "markdown",
   "metadata": {},
   "source": [
    "## 3 Trying PyTorch\n",
    "\n",
    "    https://pytorch.org/tutorials/beginner/pytorch_with_examples.html"
   ]
  },
  {
   "cell_type": "markdown",
   "metadata": {},
   "source": [
    "## CFAR10"
   ]
  },
  {
   "cell_type": "code",
   "execution_count": 2,
   "metadata": {},
   "outputs": [
    {
     "data": {
      "text/html": [
       "\n",
       "        <iframe\n",
       "            width=\"700\"\n",
       "            height=\"350\"\n",
       "            src=\"https://www.cs.toronto.edu/~kriz/cifar.html\"\n",
       "            frameborder=\"0\"\n",
       "            allowfullscreen\n",
       "        ></iframe>\n",
       "        "
      ],
      "text/plain": [
       "<IPython.lib.display.IFrame at 0x104726760>"
      ]
     },
     "execution_count": 2,
     "metadata": {},
     "output_type": "execute_result"
    }
   ],
   "source": [
    "from IPython.display import IFrame\n",
    "IFrame('https://www.cs.toronto.edu/~kriz/cifar.html', width=700, height=350)"
   ]
  },
  {
   "cell_type": "code",
   "execution_count": 3,
   "metadata": {},
   "outputs": [
    {
     "name": "stdout",
     "output_type": "stream",
     "text": [
      "Downloading https://www.cs.toronto.edu/~kriz/cifar-10-python.tar.gz to ./data/cifar-10-python.tar.gz\n"
     ]
    },
    {
     "data": {
      "application/vnd.jupyter.widget-view+json": {
       "model_id": "f4172a3a509441bdbfcbe5da6cb11665",
       "version_major": 2,
       "version_minor": 0
      },
      "text/plain": [
       "HBox(children=(FloatProgress(value=1.0, bar_style='info', max=1.0), HTML(value='')))"
      ]
     },
     "metadata": {},
     "output_type": "display_data"
    },
    {
     "name": "stdout",
     "output_type": "stream",
     "text": [
      "Extracting ./data/cifar-10-python.tar.gz to ./data\n",
      "Files already downloaded and verified\n"
     ]
    }
   ],
   "source": [
    "'''\n",
    "Image data will be downloaded the first time this code is run\n",
    "\n",
    "'''\n",
    "\n",
    "transform = transforms.Compose(\n",
    "    [transforms.ToTensor(),\n",
    "     transforms.Normalize((0.5, 0.5, 0.5), (0.5, 0.5, 0.5))])\n",
    "\n",
    "# training set\n",
    "trainset = torchvision.datasets.CIFAR10(root='./data', train=True, download=True, transform=transform)\n",
    "trainloader = torch.utils.data.DataLoader(trainset, batch_size=4, shuffle=True, num_workers=2)\n",
    "\n",
    "# test set\n",
    "testset = torchvision.datasets.CIFAR10(root='./data', train=False, download=True, transform=transform)\n",
    "testloader = torch.utils.data.DataLoader(testset, batch_size=4, shuffle=False, num_workers=2)\n",
    "\n",
    "classes = ('plane', 'car', 'bird', 'cat','deer', 'dog', 'frog', 'horse', 'ship', 'truck')"
   ]
  },
  {
   "cell_type": "code",
   "execution_count": 4,
   "metadata": {},
   "outputs": [],
   "source": [
    "'''\n",
    "A generator (covered in PHYS 301) is used to retrieve images \n",
    "\n",
    "This is a good idea because you do NOT want to load the entire dataset at once.\n",
    "\n",
    "There are 6000 images per class, so a total of 60,000 images, each with with R, G, B channels\n",
    "'''\n",
    "dataiter = iter(trainloader)\n",
    "images, labels = dataiter.next()"
   ]
  },
  {
   "cell_type": "code",
   "execution_count": 5,
   "metadata": {},
   "outputs": [
    {
     "data": {
      "text/plain": [
       "torch.Size([4, 3, 32, 32])"
      ]
     },
     "execution_count": 5,
     "metadata": {},
     "output_type": "execute_result"
    }
   ],
   "source": [
    "# A batch of 4 image\n",
    "images.shape"
   ]
  },
  {
   "cell_type": "code",
   "execution_count": 15,
   "metadata": {},
   "outputs": [
    {
     "data": {
      "text/plain": [
       "(torch.Size([3, 32, 32]), torch.Size([32, 32]))"
      ]
     },
     "execution_count": 15,
     "metadata": {},
     "output_type": "execute_result"
    }
   ],
   "source": [
    "### each image has three channels -- R, G, B\n",
    "img = images[3]\n",
    "img.shape, img[0].shape"
   ]
  },
  {
   "cell_type": "code",
   "execution_count": 16,
   "metadata": {},
   "outputs": [
    {
     "data": {
      "image/png": "[encoded data removed]",
      "text/plain": [
       "<Figure size 648x216 with 6 Axes>"
      ]
     },
     "metadata": {
      "needs_background": "light"
     },
     "output_type": "display_data"
    }
   ],
   "source": [
    "'''\n",
    "Show RGB channels\n",
    "'''\n",
    "fig, (axR, axG, axB) = plt.subplots(1, 3, figsize=(9, 3),)\n",
    "imR = axR.imshow(img[0], interpolation='gaussian', cmap=plt.cm.gray_r)\n",
    "axR.axis('off')\n",
    "plt.colorbar(imR, ax=axR, shrink=0.7)\n",
    "\n",
    "imG = axG.imshow(img[1], interpolation='gaussian', cmap=plt.cm.gray_r)\n",
    "axG.axis('off')\n",
    "plt.colorbar(imG, ax=axG, shrink=0.7)\n",
    "\n",
    "imB = axB.imshow(img[2], interpolation='gaussian', cmap=plt.cm.gray_r)\n",
    "axB.axis('off')\n",
    "plt.colorbar(imB, ax=axB, shrink=0.7)\n",
    "\n",
    "plt.show()"
   ]
  },
  {
   "cell_type": "code",
   "execution_count": 17,
   "metadata": {},
   "outputs": [
    {
     "name": "stdout",
     "output_type": "stream",
     "text": [
      "<class 'torch.Tensor'>\n"
     ]
    },
    {
     "data": {
      "text/plain": [
       "(tensor(0.9922),\n",
       " tensor(-0.8745),\n",
       " tensor(0.9686),\n",
       " tensor(-0.8196),\n",
       " tensor(0.9686),\n",
       " tensor(-0.8588))"
      ]
     },
     "execution_count": 17,
     "metadata": {},
     "output_type": "execute_result"
    }
   ],
   "source": [
    "print(type(img[0]))\n",
    "img[0].max(), img[0].min(), img[1].max(), img[1].min(), img[2].max(), img[2].min()"
   ]
  },
  {
   "cell_type": "code",
   "execution_count": 19,
   "metadata": {},
   "outputs": [
    {
     "name": "stdout",
     "output_type": "stream",
     "text": [
      "Now everthing's  positive, to make imshow happy when displaying a RGB image\n",
      "tensor(0.9961) tensor(0.0627) tensor(0.9843) tensor(0.0902) tensor(0.9843) tensor(0.0706)\n",
      "<class 'numpy.ndarray'>\n"
     ]
    },
    {
     "data": {
      "image/png": "[encoded data removed]",
      "text/plain": [
       "<Figure size 432x288 with 1 Axes>"
      ]
     },
     "metadata": {
      "needs_background": "light"
     },
     "output_type": "display_data"
    }
   ],
   "source": [
    "# img = images[2]\n",
    "img = images[3] / 2 + 0.5 # scales the color a little differently\n",
    "print(\"Now everthing's  positive, to make imshow happy when displaying a RGB image\")\n",
    "print(img[0].max(), img[0].min(), img[1].max(), img[1].min(), img[2].max(), img[2].min())\n",
    "\n",
    "# turning tensor into numpy array\n",
    "npimg = img.numpy()\n",
    "print(type(npimg))\n",
    "\n",
    "# need to swap: for numpy, the channel number comes last; and for tensor, it comes first \n",
    "plt.imshow(np.transpose(npimg, (1, 2, 0)))\n",
    "plt.show()"
   ]
  },
  {
   "cell_type": "code",
   "execution_count": 13,
   "metadata": {},
   "outputs": [
    {
     "data": {
      "image/png": "[encoded data removed]",
      "text/plain": [
       "<Figure size 432x288 with 1 Axes>"
      ]
     },
     "metadata": {
      "needs_background": "light"
     },
     "output_type": "display_data"
    },
    {
     "name": "stdout",
     "output_type": "stream",
     "text": [
      "deer frog ship dog\n"
     ]
    }
   ],
   "source": [
    "import matplotlib.pyplot as plt\n",
    "import numpy as np\n",
    "\n",
    "# functions to show an image\n",
    "def imshow(img):\n",
    "    img = img / 2 + 0.5     # unnormalize \n",
    "    npimg = img.numpy()\n",
    "    plt.imshow(np.transpose(npimg, (1, 2, 0)))\n",
    "    plt.show()\n",
    "\n",
    "# get some random training images\n",
    "# A generator is used -- this is covered in PHYS 301\n",
    "# you will always get the *next* four images\n",
    "dataiter = iter(trainloader)\n",
    "images, labels = dataiter.next()\n",
    "\n",
    "# show images\n",
    "imshow(torchvision.utils.make_grid(images))\n",
    "# print labels\n",
    "print(' '.join('{:s}'.format(classes[labels[j]]) for j in range(4)))"
   ]
  },
  {
   "cell_type": "code",
   "execution_count": 21,
   "metadata": {},
   "outputs": [],
   "source": [
    "import torch.nn as nn\n",
    "import torch.nn.functional as F\n",
    "\n",
    "class Net(nn.Module):\n",
    "    '''\n",
    "    This a variation of LeNet\n",
    "    \n",
    "    when you define a class with argument, that argument is called superclass (covered in PHYS 301)\n",
    "    You \"inherit\" all the methods and attributes of the superclass \n",
    "    but you can make modifications, which is what happens below\n",
    "    '''\n",
    "    def __init__(self):\n",
    "        super(Net, self).__init__()\n",
    "        \n",
    "        # in_channels, out_channels, kernel_size\n",
    "        self.conv1 = nn.Conv2d(3, 6, 5)\n",
    "        \n",
    "        self.pool = nn.MaxPool2d(2, 2)\n",
    "        \n",
    "        self.conv2 = nn.Conv2d(6, 16, 5)\n",
    "        \n",
    "        # fc layer going from 16x5x5 = 160 neurons to 120 neurons\n",
    "        self.fc1 = nn.Linear(16 * 5 * 5, 120)\n",
    "        \n",
    "        # fc layer going from 16x5x5 = 120 neurons to 84 neurons\n",
    "        self.fc2 = nn.Linear(120, 84)\n",
    "        \n",
    "        # fc layer going from 16x5x5 = 84 neurons to 10 neurons, for the 10 classes\n",
    "        self.fc3 = nn.Linear(84, 10)\n",
    "\n",
    "    def forward(self, x):\n",
    "        x = self.pool(F.relu(self.conv1(x)))\n",
    "        x = self.pool(F.relu(self.conv2(x)))\n",
    "        x = x.view(-1, 16 * 5 * 5) # collapsing 16 channels of 5x5 feature maps to a 1d array\n",
    "        x = F.relu(self.fc1(x))\n",
    "        x = F.relu(self.fc2(x))\n",
    "        x = self.fc3(x)\n",
    "        return x\n",
    "\n",
    "net = Net()"
   ]
  },
  {
   "cell_type": "code",
   "execution_count": 22,
   "metadata": {},
   "outputs": [],
   "source": [
    "import torch.optim as optim\n",
    "\n",
    "criterion = nn.CrossEntropyLoss()\n",
    "\n",
    "# note: we didn't define the parameters method for the Net class -- it's inherited\n",
    "optimizer = optim.SGD(net.parameters(), lr=0.001, momentum=0.9)"
   ]
  },
  {
   "cell_type": "code",
   "execution_count": 23,
   "metadata": {},
   "outputs": [
    {
     "name": "stdout",
     "output_type": "stream",
     "text": [
      "[    1,  2000] loss: 2.190\n",
      "[    1,  4000] loss: 1.849\n",
      "[    1,  6000] loss: 1.681\n",
      "[    1,  8000] loss: 1.591\n",
      "[    1, 10000] loss: 1.508\n",
      "[    1, 12000] loss: 1.468\n",
      "Finished Training\n"
     ]
    }
   ],
   "source": [
    "for epoch in range(1):  # loop over the dataset multiple times to get a sense of the average performance of the CNN\n",
    "\n",
    "    running_loss = 0.0\n",
    "    for i, data in enumerate(trainloader, 0):\n",
    "        # get the inputs; data is a list of [inputs, labels]\n",
    "        inputs, labels = data\n",
    "\n",
    "        # zero the parameter gradients -- initializing\n",
    "        optimizer.zero_grad()\n",
    "\n",
    "        # forward + backward + optimize\n",
    "        outputs = net(inputs)\n",
    "        loss = criterion(outputs, labels)\n",
    "        loss.backward()\n",
    "        \n",
    "        # the step() method updates the weights\n",
    "        # https://pytorch.org/docs/stable/optim.html\n",
    "        optimizer.step()\n",
    "\n",
    "        # print statistics\n",
    "        running_loss += loss.item()\n",
    "        if i % 2000 == 1999:    # print every 2000 mini-batches\n",
    "            print('[{:5d}, {:5d}] loss: {:.3f}'.format(epoch + 1, i + 1, running_loss / 2000))\n",
    "            running_loss = 0.0\n",
    "\n",
    "print('Finished Training')"
   ]
  },
  {
   "cell_type": "code",
   "execution_count": 26,
   "metadata": {},
   "outputs": [],
   "source": [
    "PATH = './cifar_net.pth'\n",
    "torch.save(net.state_dict(), PATH)"
   ]
  },
  {
   "cell_type": "code",
   "execution_count": 27,
   "metadata": {},
   "outputs": [
    {
     "data": {
      "image/png": "[encoded data removed]",
      "text/plain": [
       "<Figure size 432x288 with 1 Axes>"
      ]
     },
     "metadata": {
      "needs_background": "light"
     },
     "output_type": "display_data"
    },
    {
     "name": "stdout",
     "output_type": "stream",
     "text": [
      "Ground Truth (label):cat ship ship plane\n"
     ]
    }
   ],
   "source": [
    "'''\n",
    "See how the trained cnn is doing on four test images\n",
    "'''\n",
    "\n",
    "dataiter = iter(testloader)\n",
    "images, labels = dataiter.next()\n",
    "\n",
    "# print images\n",
    "imshow(torchvision.utils.make_grid(images))\n",
    "print('Ground Truth (label):' + ' '.join('{:s}'.format(classes[labels[j]]) for j in range(4)))"
   ]
  },
  {
   "cell_type": "code",
   "execution_count": 163,
   "metadata": {},
   "outputs": [
    {
     "data": {
      "text/plain": [
       "<All keys matched successfully>"
      ]
     },
     "execution_count": 163,
     "metadata": {},
     "output_type": "execute_result"
    }
   ],
   "source": [
    "'''\n",
    "Load the saved trained cnn\n",
    "'''\n",
    "\n",
    "net = Net()\n",
    "net.load_state_dict(torch.load(PATH))"
   ]
  },
  {
   "cell_type": "code",
   "execution_count": 164,
   "metadata": {},
   "outputs": [],
   "source": [
    "outputs = net(images)"
   ]
  },
  {
   "cell_type": "code",
   "execution_count": 165,
   "metadata": {},
   "outputs": [
    {
     "name": "stdout",
     "output_type": "stream",
     "text": [
      "Predicted:cat car truck ship\n"
     ]
    }
   ],
   "source": [
    "'''\n",
    "When you see the results, you may go, hmmm, not too great\n",
    "'''\n",
    "\n",
    "_, predicted = torch.max(outputs, 1)\n",
    "print('Predicted:' + ' '.join('{:s}'.format(classes[predicted[j]]) for j in range(4)))\n"
   ]
  },
  {
   "cell_type": "code",
   "execution_count": 171,
   "metadata": {},
   "outputs": [
    {
     "name": "stdout",
     "output_type": "stream",
     "text": [
      "torch.Size([4, 10])\n",
      "(4, 10)\n"
     ]
    }
   ],
   "source": [
    "type(outputs)\n",
    "\n",
    "# convert to numpy if that makes you feel more comfortable\n",
    "npout = outputs.detach().numpy()\n",
    "\n",
    "print(outputs.shape)\n",
    "print(npout.shape)"
   ]
  },
  {
   "cell_type": "code",
   "execution_count": 172,
   "metadata": {},
   "outputs": [
    {
     "name": "stdout",
     "output_type": "stream",
     "text": [
      "[[-1.195173   -2.2658305   0.78528416  2.7261515  -0.56703615  1.1249359\n",
      "   1.4122614  -1.0726619  -0.20779964 -1.6027749 ]\n",
      " [ 3.5485127   6.370166   -1.5249791  -3.1418295  -3.7596517  -4.963513\n",
      "  -4.4343686  -4.51335     5.6142926   5.791031  ]\n",
      " [ 2.1574922   3.5953188  -0.84919864 -1.9370373  -2.3063293  -3.2446566\n",
      "  -3.1224046  -2.5018697   3.2027667   3.766808  ]\n",
      " [ 1.9988744   2.8053763  -0.13249676 -1.5906781  -2.101745   -2.908719\n",
      "  -2.2836292  -2.1359756   3.743497    2.3002355 ]]\n"
     ]
    }
   ],
   "source": [
    "print(npout)"
   ]
  },
  {
   "cell_type": "code",
   "execution_count": 173,
   "metadata": {},
   "outputs": [
    {
     "name": "stdout",
     "output_type": "stream",
     "text": [
      "tensor([[-1.1952, -2.2658,  0.7853,  2.7262, -0.5670,  1.1249,  1.4123, -1.0727,\n",
      "         -0.2078, -1.6028],\n",
      "        [ 3.5485,  6.3702, -1.5250, -3.1418, -3.7597, -4.9635, -4.4344, -4.5134,\n",
      "          5.6143,  5.7910],\n",
      "        [ 2.1575,  3.5953, -0.8492, -1.9370, -2.3063, -3.2447, -3.1224, -2.5019,\n",
      "          3.2028,  3.7668],\n",
      "        [ 1.9989,  2.8054, -0.1325, -1.5907, -2.1017, -2.9087, -2.2836, -2.1360,\n",
      "          3.7435,  2.3002]], grad_fn=<AddmmBackward>)\n"
     ]
    }
   ],
   "source": [
    "print(outputs)"
   ]
  },
  {
   "cell_type": "code",
   "execution_count": 176,
   "metadata": {},
   "outputs": [
    {
     "data": {
      "text/plain": [
       "tensor([3, 1, 9, 8])"
      ]
     },
     "execution_count": 176,
     "metadata": {},
     "output_type": "execute_result"
    }
   ],
   "source": [
    "_, predicted = torch.max(outputs.data, 1)\n",
    "predicted"
   ]
  },
  {
   "cell_type": "code",
   "execution_count": 25,
   "metadata": {},
   "outputs": [
    {
     "name": "stdout",
     "output_type": "stream",
     "text": [
      "Accuracy of the 10000 test images: 52.14 %%\n"
     ]
    }
   ],
   "source": [
    "'''\n",
    "Let's look at 10000 test images \n",
    "'''\n",
    "\n",
    "correct = 0\n",
    "total = 0\n",
    "with torch.no_grad():\n",
    "    for data in testloader:\n",
    "        images, labels = data\n",
    "        outputs = net(images)\n",
    "        _, predicted = torch.max(outputs.data, 1)\n",
    "        total += labels.size(0)\n",
    "        correct += (predicted == labels).sum().item()\n",
    "\n",
    "print('Accuracy of the 10000 test images: {:.2f} %%'.format(100 * correct / total))"
   ]
  },
  {
   "cell_type": "code",
   "execution_count": 24,
   "metadata": {},
   "outputs": [
    {
     "name": "stdout",
     "output_type": "stream",
     "text": [
      "Accuracy of plane : 43.70 %%\n",
      "Accuracy of car   : 64.60 %%\n",
      "Accuracy of bird  : 52.50 %%\n",
      "Accuracy of cat   : 50.00 %%\n",
      "Accuracy of deer  : 31.40 %%\n",
      "Accuracy of dog   : 17.80 %%\n",
      "Accuracy of frog  : 58.60 %%\n",
      "Accuracy of horse : 68.70 %%\n",
      "Accuracy of ship  : 55.20 %%\n",
      "Accuracy of truck : 78.90 %%\n"
     ]
    }
   ],
   "source": [
    "'''\n",
    "Let's look at how each class is doing\n",
    "'''\n",
    "\n",
    "class_correct = list(0. for i in range(10))\n",
    "class_total = list(0. for i in range(10))\n",
    "with torch.no_grad():\n",
    "    for data in testloader:\n",
    "        images, labels = data\n",
    "        outputs = net(images)\n",
    "        _, predicted = torch.max(outputs, 1)\n",
    "        c = (predicted == labels).squeeze()\n",
    "        for i in range(4):\n",
    "            label = labels[i]\n",
    "            class_correct[label] += c[i].item()\n",
    "            class_total[label] += 1\n",
    "\n",
    "\n",
    "for i in range(10):\n",
    "    print('Accuracy of {:5s} : {:5.2f} %%'.format(classes[i], 100 * class_correct[i] / class_total[i]))"
   ]
  },
  {
   "cell_type": "markdown",
   "metadata": {},
   "source": [
    "## Recurrent Neural Net and NLP\n",
    "\n",
    "     https://pytorch.org/tutorials/intermediate/char_rnn_classification_tutorial.html"
   ]
  },
  {
   "cell_type": "markdown",
   "metadata": {},
   "source": [
    "## RNN and CNN for Gomuko:\n",
    "\n",
    "http://cs231n.stanford.edu/reports/2016/pdfs/109_Report.pdf"
   ]
  },
  {
   "cell_type": "markdown",
   "metadata": {},
   "source": [
    "## CNN for Go\n",
    "\n",
    "http://proceedings.mlr.press/v37/clark15.pdf"
   ]
  },
  {
   "cell_type": "markdown",
   "metadata": {},
   "source": [
    "# End of Week 15-2"
   ]
  }
 ],
 "metadata": {
  "kernelspec": {
   "display_name": "Python 3",
   "language": "python",
   "name": "python3"
  },
  "language_info": {
   "codemirror_mode": {
    "name": "ipython",
    "version": 3
   },
   "file_extension": ".py",
   "mimetype": "text/x-python",
   "name": "python",
   "nbconvert_exporter": "python",
   "pygments_lexer": "ipython3",
   "version": "3.8.3"
  }
 },
 "nbformat": 4,
 "nbformat_minor": 4
}
